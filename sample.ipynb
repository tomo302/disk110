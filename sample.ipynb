{
  "cells": [
    {
      "cell_type": "markdown",
      "metadata": {
        "id": "view-in-github",
        "colab_type": "text"
      },
      "source": [
        "<a href=\"https://colab.research.google.com/github/tomo302/disk110/blob/master/sample.ipynb\" target=\"_parent\"><img src=\"https://colab.research.google.com/assets/colab-badge.svg\" alt=\"Open In Colab\"/></a>"
      ]
    },
    {
      "cell_type": "markdown",
      "metadata": {
        "id": "rlkuiV0mTWpn"
      },
      "source": [
        "必要なプログラムのインストールと、演習で用いるデータを読み込みます。\n",
        "\n",
        "以下のコードを順に実行してください。"
      ]
    },
    {
      "cell_type": "code",
      "execution_count": 1,
      "metadata": {
        "id": "Iwtq9Q5UHibR",
        "colab": {
          "base_uri": "https://localhost:8080/",
          "height": 781
        },
        "outputId": "c3268ebe-3e3e-446a-e5b5-5473fbc88f20"
      },
      "outputs": [
        {
          "output_type": "stream",
          "name": "stdout",
          "text": [
            "Looking in indexes: https://pypi.org/simple, https://us-python.pkg.dev/colab-wheels/public/simple/\n",
            "Requirement already satisfied: ipython-sql==0.3.9 in /usr/local/lib/python3.7/dist-packages (0.3.9)\n",
            "Requirement already satisfied: prettytable in /usr/local/lib/python3.7/dist-packages (from ipython-sql==0.3.9) (3.3.0)\n",
            "Requirement already satisfied: ipython-genutils>=0.1.0 in /usr/local/lib/python3.7/dist-packages (from ipython-sql==0.3.9) (0.2.0)\n",
            "Requirement already satisfied: six in /usr/local/lib/python3.7/dist-packages (from ipython-sql==0.3.9) (1.15.0)\n",
            "Requirement already satisfied: ipython>=1.0 in /usr/local/lib/python3.7/dist-packages (from ipython-sql==0.3.9) (5.5.0)\n",
            "Requirement already satisfied: sqlalchemy>=0.6.7 in /usr/local/lib/python3.7/dist-packages (from ipython-sql==0.3.9) (1.4.36)\n",
            "Requirement already satisfied: sqlparse in /usr/local/lib/python3.7/dist-packages (from ipython-sql==0.3.9) (0.4.2)\n",
            "Requirement already satisfied: setuptools>=18.5 in /usr/local/lib/python3.7/dist-packages (from ipython>=1.0->ipython-sql==0.3.9) (57.4.0)\n",
            "Requirement already satisfied: prompt-toolkit<2.0.0,>=1.0.4 in /usr/local/lib/python3.7/dist-packages (from ipython>=1.0->ipython-sql==0.3.9) (1.0.18)\n",
            "Requirement already satisfied: decorator in /usr/local/lib/python3.7/dist-packages (from ipython>=1.0->ipython-sql==0.3.9) (4.4.2)\n",
            "Requirement already satisfied: pexpect in /usr/local/lib/python3.7/dist-packages (from ipython>=1.0->ipython-sql==0.3.9) (4.8.0)\n",
            "Requirement already satisfied: pygments in /usr/local/lib/python3.7/dist-packages (from ipython>=1.0->ipython-sql==0.3.9) (2.6.1)\n",
            "Requirement already satisfied: simplegeneric>0.8 in /usr/local/lib/python3.7/dist-packages (from ipython>=1.0->ipython-sql==0.3.9) (0.8.1)\n",
            "Requirement already satisfied: traitlets>=4.2 in /usr/local/lib/python3.7/dist-packages (from ipython>=1.0->ipython-sql==0.3.9) (5.1.1)\n",
            "Requirement already satisfied: pickleshare in /usr/local/lib/python3.7/dist-packages (from ipython>=1.0->ipython-sql==0.3.9) (0.7.5)\n",
            "Requirement already satisfied: wcwidth in /usr/local/lib/python3.7/dist-packages (from prompt-toolkit<2.0.0,>=1.0.4->ipython>=1.0->ipython-sql==0.3.9) (0.2.5)\n",
            "Requirement already satisfied: importlib-metadata in /usr/local/lib/python3.7/dist-packages (from sqlalchemy>=0.6.7->ipython-sql==0.3.9) (4.11.4)\n",
            "Requirement already satisfied: greenlet!=0.4.17 in /usr/local/lib/python3.7/dist-packages (from sqlalchemy>=0.6.7->ipython-sql==0.3.9) (1.1.2)\n",
            "Requirement already satisfied: zipp>=0.5 in /usr/local/lib/python3.7/dist-packages (from importlib-metadata->sqlalchemy>=0.6.7->ipython-sql==0.3.9) (3.8.0)\n",
            "Requirement already satisfied: typing-extensions>=3.6.4 in /usr/local/lib/python3.7/dist-packages (from importlib-metadata->sqlalchemy>=0.6.7->ipython-sql==0.3.9) (4.2.0)\n",
            "Requirement already satisfied: ptyprocess>=0.5 in /usr/local/lib/python3.7/dist-packages (from pexpect->ipython>=1.0->ipython-sql==0.3.9) (0.7.0)\n",
            "Reading package lists... Done\n",
            "Building dependency tree       \n",
            "Reading state information... Done\n",
            "The following package was automatically installed and is no longer required:\n",
            "  libnvidia-common-460\n",
            "Use 'apt autoremove' to remove it.\n",
            "Suggested packages:\n",
            "  sqlite3-doc\n",
            "The following NEW packages will be installed:\n",
            "  sqlite3\n",
            "0 upgraded, 1 newly installed, 0 to remove and 45 not upgraded.\n",
            "Need to get 753 kB of archives.\n",
            "After this operation, 2,483 kB of additional disk space will be used.\n",
            "Get:1 http://archive.ubuntu.com/ubuntu bionic-updates/main amd64 sqlite3 amd64 3.22.0-1ubuntu0.5 [753 kB]\n",
            "Fetched 753 kB in 2s (446 kB/s)\n",
            "Selecting previously unselected package sqlite3.\n",
            "(Reading database ... 155632 files and directories currently installed.)\n",
            "Preparing to unpack .../sqlite3_3.22.0-1ubuntu0.5_amd64.deb ...\n",
            "Unpacking sqlite3 (3.22.0-1ubuntu0.5) ...\n",
            "Setting up sqlite3 (3.22.0-1ubuntu0.5) ...\n",
            "Processing triggers for man-db (2.8.3-2ubuntu0.1) ...\n"
          ]
        },
        {
          "output_type": "execute_result",
          "data": {
            "text/plain": [
              "'Connected: @tmp.sqlite3'"
            ],
            "application/vnd.google.colaboratory.intrinsic+json": {
              "type": "string"
            }
          },
          "metadata": {},
          "execution_count": 1
        }
      ],
      "source": [
        "! pip install ipython-sql==0.3.9\n",
        "! apt-get install sqlite3\n",
        "\n",
        "# ipython-sqlの読み込み\n",
        "%load_ext sql\n",
        "\n",
        "# SQLiteへの接続\n",
        "%sql sqlite:///tmp.sqlite3"
      ]
    },
    {
      "cell_type": "code",
      "execution_count": 2,
      "metadata": {
        "id": "S-RTVVk-VljH",
        "colab": {
          "base_uri": "https://localhost:8080/"
        },
        "outputId": "b37d088a-9f54-430d-8fc6-d06ec1ce9905"
      },
      "outputs": [
        {
          "output_type": "stream",
          "name": "stdout",
          "text": [
            "Writing users.tsv\n"
          ]
        }
      ],
      "source": [
        "%%writefile users.tsv\n",
        "1\tAlice\t1991-08-31\t2008-10-10\n",
        "2\tBob\t1992-03-12\t2008-11-02\n",
        "3\tCharlie\t1999-09-04\t2011-12-28\n",
        "4\tDave\t2001-03-21\t2015-09-11\n",
        "5\tEve\t1977-08-14\t2009-10-07\n",
        "6\tFrank\t1989-10-25\t2010-04-17"
      ]
    },
    {
      "cell_type": "code",
      "execution_count": 3,
      "metadata": {
        "id": "EFEbdcMjLasJ",
        "colab": {
          "base_uri": "https://localhost:8080/"
        },
        "outputId": "1e503f83-f44c-43f0-bc46-ec67cbb79f1a"
      },
      "outputs": [
        {
          "output_type": "stream",
          "name": "stdout",
          "text": [
            "Writing sales_log.tsv\n"
          ]
        }
      ],
      "source": [
        "%%writefile sales_log.tsv\n",
        "1\t1\t250\t2022-04-19 12:34:23\n",
        "2\t3\t320\t2022-04-19 14:29:31\n",
        "3\t4\t110\t2022-04-19 22:40:28\n",
        "4\t5\t100\t2022-04-20 17:52:53\n",
        "5\t7\t900\t2022-04-21 09:50:19\n",
        "6\t2\t320\t2022-04-21 18:07:30\n",
        "7\t1\t200\t2022-04-22 07:25:51\n",
        "8\t2\t310\t2022-04-22 11:58:20\n",
        "9\t1\t210\t2022-04-23 08:11:07\n",
        "10\t1\t350\t2022-04-23 23:37:55\n",
        "11\t3\t100\t2022-04-24 10:17:39\n",
        "12\t2\t50\t2022-04-24 23:49:46\n",
        "13\t7\t90\t2022-04-25 01:43:34\n",
        "14\t5\t1000\t2022-04-25 18:14:53\n",
        "15\t1\t1000\t2022-04-26 06:11:53\n",
        "16\t2\t90\t2022-04-26 23:41:37\n",
        "17\t3\t320\t2022-04-27 12:48:31\n",
        "18\t2\t1000\t2022-04-27 20:19:28\n",
        "19\t1\t1000\t2022-04-28 16:49:37"
      ]
    },
    {
      "cell_type": "code",
      "execution_count": 4,
      "metadata": {
        "id": "xPKJBXnhLBBn",
        "colab": {
          "base_uri": "https://localhost:8080/"
        },
        "outputId": "12b4bbbe-38cb-45cd-ed75-e37f9fe7015c"
      },
      "outputs": [
        {
          "output_type": "stream",
          "name": "stdout",
          "text": [
            " * sqlite:///tmp.sqlite3\n",
            "Done.\n",
            "Done.\n",
            "Done.\n",
            "Done.\n"
          ]
        },
        {
          "output_type": "execute_result",
          "data": {
            "text/plain": [
              "[]"
            ]
          },
          "metadata": {},
          "execution_count": 4
        }
      ],
      "source": [
        "%%sql\n",
        "drop table if exists users;\n",
        "drop table if exists sales_log;\n",
        "create table users (user_id INT, name TEXT, born_at TEXT, register_at TEXT);\n",
        "create table sales_log (sales_id INT, user_id INT, sales INT, sold_at TEXT);"
      ]
    },
    {
      "cell_type": "code",
      "execution_count": 5,
      "metadata": {
        "id": "7pdwzHMBIKGr"
      },
      "outputs": [],
      "source": [
        "!sqlite3 -separator $'\\t' ./tmp.sqlite3 \".import ./users.tsv users\"\n",
        "!sqlite3 -separator $'\\t' ./tmp.sqlite3 \".import ./sales_log.tsv sales_log\""
      ]
    },
    {
      "cell_type": "markdown",
      "metadata": {
        "id": "McEPsw_THTCZ"
      },
      "source": [
        "# 演習の前に"
      ]
    },
    {
      "cell_type": "markdown",
      "metadata": {
        "id": "MhbUa6vbnD6X"
      },
      "source": [
        "## 演習の準備"
      ]
    },
    {
      "cell_type": "code",
      "execution_count": 6,
      "metadata": {
        "id": "ZkDSUo62JmHK",
        "colab": {
          "base_uri": "https://localhost:8080/",
          "height": 96
        },
        "outputId": "d4c16ecc-399e-4e51-e71c-0a920e309dfa"
      },
      "outputs": [
        {
          "output_type": "stream",
          "name": "stdout",
          "text": [
            " * sqlite:///tmp.sqlite3\n",
            "Done.\n"
          ]
        },
        {
          "output_type": "execute_result",
          "data": {
            "text/plain": [
              "[(42,)]"
            ],
            "text/html": [
              "<table>\n",
              "    <thead>\n",
              "        <tr>\n",
              "            <th>42</th>\n",
              "        </tr>\n",
              "    </thead>\n",
              "    <tbody>\n",
              "        <tr>\n",
              "            <td>42</td>\n",
              "        </tr>\n",
              "    </tbody>\n",
              "</table>"
            ]
          },
          "metadata": {},
          "execution_count": 6
        }
      ],
      "source": [
        "%%sql\n",
        "SELECT 42;"
      ]
    },
    {
      "cell_type": "markdown",
      "metadata": {
        "id": "zJdeVoPHnVfy"
      },
      "source": [
        "# 基本操作"
      ]
    },
    {
      "cell_type": "markdown",
      "metadata": {
        "id": "9962iZvEnYDU"
      },
      "source": [
        "### セミコロン"
      ]
    },
    {
      "cell_type": "code",
      "execution_count": 7,
      "metadata": {
        "id": "gOYZPMSvJpvY",
        "colab": {
          "base_uri": "https://localhost:8080/",
          "height": 114
        },
        "outputId": "74b84061-4799-4e67-8b24-60c56856a8ac"
      },
      "outputs": [
        {
          "output_type": "stream",
          "name": "stdout",
          "text": [
            " * sqlite:///tmp.sqlite3\n",
            "Done.\n",
            "Done.\n"
          ]
        },
        {
          "output_type": "execute_result",
          "data": {
            "text/plain": [
              "[(24,)]"
            ],
            "text/html": [
              "<table>\n",
              "    <thead>\n",
              "        <tr>\n",
              "            <th>24</th>\n",
              "        </tr>\n",
              "    </thead>\n",
              "    <tbody>\n",
              "        <tr>\n",
              "            <td>24</td>\n",
              "        </tr>\n",
              "    </tbody>\n",
              "</table>"
            ]
          },
          "metadata": {},
          "execution_count": 7
        }
      ],
      "source": [
        "%%sql\n",
        "SELECT 42; SELECT 24;"
      ]
    },
    {
      "cell_type": "markdown",
      "metadata": {
        "id": "GbIWSZadnatY"
      },
      "source": [
        "### 改行と空白"
      ]
    },
    {
      "cell_type": "code",
      "execution_count": 8,
      "metadata": {
        "id": "e--oWi8RQLuq",
        "colab": {
          "base_uri": "https://localhost:8080/",
          "height": 96
        },
        "outputId": "3a95381a-b958-41a5-fde3-93ee2dcca775"
      },
      "outputs": [
        {
          "output_type": "stream",
          "name": "stdout",
          "text": [
            " * sqlite:///tmp.sqlite3\n",
            "Done.\n"
          ]
        },
        {
          "output_type": "execute_result",
          "data": {
            "text/plain": [
              "[(67,)]"
            ],
            "text/html": [
              "<table>\n",
              "    <thead>\n",
              "        <tr>\n",
              "            <th>col</th>\n",
              "        </tr>\n",
              "    </thead>\n",
              "    <tbody>\n",
              "        <tr>\n",
              "            <td>67</td>\n",
              "        </tr>\n",
              "    </tbody>\n",
              "</table>"
            ]
          },
          "metadata": {},
          "execution_count": 8
        }
      ],
      "source": [
        "%%sql\n",
        "SELECT 42+25 col;\n"
      ]
    },
    {
      "cell_type": "code",
      "execution_count": 9,
      "metadata": {
        "id": "9rTyglcZQLuq",
        "colab": {
          "base_uri": "https://localhost:8080/",
          "height": 96
        },
        "outputId": "c202d34b-0792-4755-b278-9ebdb0309fa9"
      },
      "outputs": [
        {
          "output_type": "stream",
          "name": "stdout",
          "text": [
            " * sqlite:///tmp.sqlite3\n",
            "Done.\n"
          ]
        },
        {
          "output_type": "execute_result",
          "data": {
            "text/plain": [
              "[(67,)]"
            ],
            "text/html": [
              "<table>\n",
              "    <thead>\n",
              "        <tr>\n",
              "            <th>col</th>\n",
              "        </tr>\n",
              "    </thead>\n",
              "    <tbody>\n",
              "        <tr>\n",
              "            <td>67</td>\n",
              "        </tr>\n",
              "    </tbody>\n",
              "</table>"
            ]
          },
          "metadata": {},
          "execution_count": 9
        }
      ],
      "source": [
        "%%sql\n",
        "SELECT \n",
        "  42\n",
        "       +\n",
        "\n",
        "  25\n",
        "  col\n",
        ";\n"
      ]
    },
    {
      "cell_type": "markdown",
      "metadata": {
        "id": "C7l6rbFPnddZ"
      },
      "source": [
        "### コメント"
      ]
    },
    {
      "cell_type": "code",
      "execution_count": 10,
      "metadata": {
        "id": "Iq54CoxHQLur",
        "colab": {
          "base_uri": "https://localhost:8080/",
          "height": 96
        },
        "outputId": "7acbe2ba-a472-4a4f-90b7-50fca7caf077"
      },
      "outputs": [
        {
          "output_type": "stream",
          "name": "stdout",
          "text": [
            " * sqlite:///tmp.sqlite3\n",
            "Done.\n"
          ]
        },
        {
          "output_type": "execute_result",
          "data": {
            "text/plain": [
              "[(42,)]"
            ],
            "text/html": [
              "<table>\n",
              "    <thead>\n",
              "        <tr>\n",
              "            <th>col</th>\n",
              "        </tr>\n",
              "    </thead>\n",
              "    <tbody>\n",
              "        <tr>\n",
              "            <td>42</td>\n",
              "        </tr>\n",
              "    </tbody>\n",
              "</table>"
            ]
          },
          "metadata": {},
          "execution_count": 10
        }
      ],
      "source": [
        "%%sql\n",
        "-- コメント\n",
        "SELECT 42 col -- コメント\n",
        "/* コメント\n",
        "コメント\n",
        "*/\n",
        ";"
      ]
    },
    {
      "cell_type": "markdown",
      "metadata": {
        "id": "oNPAhOlUnfjN"
      },
      "source": [
        "### 大文字と小文字"
      ]
    },
    {
      "cell_type": "code",
      "execution_count": 11,
      "metadata": {
        "id": "OfNknZONQLus",
        "colab": {
          "base_uri": "https://localhost:8080/",
          "height": 203
        },
        "outputId": "31cf2676-0489-411d-ef9e-0c9115888e60"
      },
      "outputs": [
        {
          "output_type": "stream",
          "name": "stdout",
          "text": [
            " * sqlite:///tmp.sqlite3\n",
            "Done.\n"
          ]
        },
        {
          "output_type": "execute_result",
          "data": {
            "text/plain": [
              "[(1, 'Alice', '1991-08-31', '2008-10-10'),\n",
              " (2, 'Bob', '1992-03-12', '2008-11-02'),\n",
              " (3, 'Charlie', '1999-09-04', '2011-12-28'),\n",
              " (4, 'Dave', '2001-03-21', '2015-09-11'),\n",
              " (5, 'Eve', '1977-08-14', '2009-10-07'),\n",
              " (6, 'Frank', '1989-10-25', '2010-04-17')]"
            ],
            "text/html": [
              "<table>\n",
              "    <thead>\n",
              "        <tr>\n",
              "            <th>user_id</th>\n",
              "            <th>name</th>\n",
              "            <th>born_at</th>\n",
              "            <th>register_at</th>\n",
              "        </tr>\n",
              "    </thead>\n",
              "    <tbody>\n",
              "        <tr>\n",
              "            <td>1</td>\n",
              "            <td>Alice</td>\n",
              "            <td>1991-08-31</td>\n",
              "            <td>2008-10-10</td>\n",
              "        </tr>\n",
              "        <tr>\n",
              "            <td>2</td>\n",
              "            <td>Bob</td>\n",
              "            <td>1992-03-12</td>\n",
              "            <td>2008-11-02</td>\n",
              "        </tr>\n",
              "        <tr>\n",
              "            <td>3</td>\n",
              "            <td>Charlie</td>\n",
              "            <td>1999-09-04</td>\n",
              "            <td>2011-12-28</td>\n",
              "        </tr>\n",
              "        <tr>\n",
              "            <td>4</td>\n",
              "            <td>Dave</td>\n",
              "            <td>2001-03-21</td>\n",
              "            <td>2015-09-11</td>\n",
              "        </tr>\n",
              "        <tr>\n",
              "            <td>5</td>\n",
              "            <td>Eve</td>\n",
              "            <td>1977-08-14</td>\n",
              "            <td>2009-10-07</td>\n",
              "        </tr>\n",
              "        <tr>\n",
              "            <td>6</td>\n",
              "            <td>Frank</td>\n",
              "            <td>1989-10-25</td>\n",
              "            <td>2010-04-17</td>\n",
              "        </tr>\n",
              "    </tbody>\n",
              "</table>"
            ]
          },
          "metadata": {},
          "execution_count": 11
        }
      ],
      "source": [
        "%%sql\n",
        "SELECT * FROM USERS;\n"
      ]
    },
    {
      "cell_type": "code",
      "execution_count": 12,
      "metadata": {
        "id": "pZyIVhuYQLus",
        "colab": {
          "base_uri": "https://localhost:8080/",
          "height": 203
        },
        "outputId": "e5804e07-2f25-4007-8fa4-18233c1e20d2"
      },
      "outputs": [
        {
          "output_type": "stream",
          "name": "stdout",
          "text": [
            " * sqlite:///tmp.sqlite3\n",
            "Done.\n"
          ]
        },
        {
          "output_type": "execute_result",
          "data": {
            "text/plain": [
              "[(1, 'Alice', '1991-08-31', '2008-10-10'),\n",
              " (2, 'Bob', '1992-03-12', '2008-11-02'),\n",
              " (3, 'Charlie', '1999-09-04', '2011-12-28'),\n",
              " (4, 'Dave', '2001-03-21', '2015-09-11'),\n",
              " (5, 'Eve', '1977-08-14', '2009-10-07'),\n",
              " (6, 'Frank', '1989-10-25', '2010-04-17')]"
            ],
            "text/html": [
              "<table>\n",
              "    <thead>\n",
              "        <tr>\n",
              "            <th>user_id</th>\n",
              "            <th>name</th>\n",
              "            <th>born_at</th>\n",
              "            <th>register_at</th>\n",
              "        </tr>\n",
              "    </thead>\n",
              "    <tbody>\n",
              "        <tr>\n",
              "            <td>1</td>\n",
              "            <td>Alice</td>\n",
              "            <td>1991-08-31</td>\n",
              "            <td>2008-10-10</td>\n",
              "        </tr>\n",
              "        <tr>\n",
              "            <td>2</td>\n",
              "            <td>Bob</td>\n",
              "            <td>1992-03-12</td>\n",
              "            <td>2008-11-02</td>\n",
              "        </tr>\n",
              "        <tr>\n",
              "            <td>3</td>\n",
              "            <td>Charlie</td>\n",
              "            <td>1999-09-04</td>\n",
              "            <td>2011-12-28</td>\n",
              "        </tr>\n",
              "        <tr>\n",
              "            <td>4</td>\n",
              "            <td>Dave</td>\n",
              "            <td>2001-03-21</td>\n",
              "            <td>2015-09-11</td>\n",
              "        </tr>\n",
              "        <tr>\n",
              "            <td>5</td>\n",
              "            <td>Eve</td>\n",
              "            <td>1977-08-14</td>\n",
              "            <td>2009-10-07</td>\n",
              "        </tr>\n",
              "        <tr>\n",
              "            <td>6</td>\n",
              "            <td>Frank</td>\n",
              "            <td>1989-10-25</td>\n",
              "            <td>2010-04-17</td>\n",
              "        </tr>\n",
              "    </tbody>\n",
              "</table>"
            ]
          },
          "metadata": {},
          "execution_count": 12
        }
      ],
      "source": [
        "%%sql\n",
        "select * from users;\n"
      ]
    },
    {
      "cell_type": "code",
      "execution_count": 13,
      "metadata": {
        "id": "l6Kk6GbvQLus",
        "colab": {
          "base_uri": "https://localhost:8080/",
          "height": 203
        },
        "outputId": "0b021dcb-1c04-4dc8-e7f6-022ab2386b8f"
      },
      "outputs": [
        {
          "output_type": "stream",
          "name": "stdout",
          "text": [
            " * sqlite:///tmp.sqlite3\n",
            "Done.\n"
          ]
        },
        {
          "output_type": "execute_result",
          "data": {
            "text/plain": [
              "[(1, 'Alice', '1991-08-31', '2008-10-10'),\n",
              " (2, 'Bob', '1992-03-12', '2008-11-02'),\n",
              " (3, 'Charlie', '1999-09-04', '2011-12-28'),\n",
              " (4, 'Dave', '2001-03-21', '2015-09-11'),\n",
              " (5, 'Eve', '1977-08-14', '2009-10-07'),\n",
              " (6, 'Frank', '1989-10-25', '2010-04-17')]"
            ],
            "text/html": [
              "<table>\n",
              "    <thead>\n",
              "        <tr>\n",
              "            <th>user_id</th>\n",
              "            <th>name</th>\n",
              "            <th>born_at</th>\n",
              "            <th>register_at</th>\n",
              "        </tr>\n",
              "    </thead>\n",
              "    <tbody>\n",
              "        <tr>\n",
              "            <td>1</td>\n",
              "            <td>Alice</td>\n",
              "            <td>1991-08-31</td>\n",
              "            <td>2008-10-10</td>\n",
              "        </tr>\n",
              "        <tr>\n",
              "            <td>2</td>\n",
              "            <td>Bob</td>\n",
              "            <td>1992-03-12</td>\n",
              "            <td>2008-11-02</td>\n",
              "        </tr>\n",
              "        <tr>\n",
              "            <td>3</td>\n",
              "            <td>Charlie</td>\n",
              "            <td>1999-09-04</td>\n",
              "            <td>2011-12-28</td>\n",
              "        </tr>\n",
              "        <tr>\n",
              "            <td>4</td>\n",
              "            <td>Dave</td>\n",
              "            <td>2001-03-21</td>\n",
              "            <td>2015-09-11</td>\n",
              "        </tr>\n",
              "        <tr>\n",
              "            <td>5</td>\n",
              "            <td>Eve</td>\n",
              "            <td>1977-08-14</td>\n",
              "            <td>2009-10-07</td>\n",
              "        </tr>\n",
              "        <tr>\n",
              "            <td>6</td>\n",
              "            <td>Frank</td>\n",
              "            <td>1989-10-25</td>\n",
              "            <td>2010-04-17</td>\n",
              "        </tr>\n",
              "    </tbody>\n",
              "</table>"
            ]
          },
          "metadata": {},
          "execution_count": 13
        }
      ],
      "source": [
        "%%sql\n",
        "SeLeCt * FrOM uSErs;\n"
      ]
    },
    {
      "cell_type": "markdown",
      "metadata": {
        "id": "B0w-CGRMnjMy"
      },
      "source": [
        "### テーブルの作成 ── CREATE TABLE文\n"
      ]
    },
    {
      "cell_type": "code",
      "execution_count": 14,
      "metadata": {
        "id": "ETqmTSV8QLus",
        "colab": {
          "base_uri": "https://localhost:8080/"
        },
        "outputId": "0689ae5f-10aa-459b-a5b2-c11ac2ede3be"
      },
      "outputs": [
        {
          "output_type": "stream",
          "name": "stdout",
          "text": [
            " * sqlite:///tmp.sqlite3\n",
            "Done.\n"
          ]
        },
        {
          "output_type": "execute_result",
          "data": {
            "text/plain": [
              "[]"
            ]
          },
          "metadata": {},
          "execution_count": 14
        }
      ],
      "source": [
        "%%sql\n",
        "CREATE TABLE members\n",
        "  (id INTEGER, name STRING, age INTEGER);\n"
      ]
    },
    {
      "cell_type": "code",
      "execution_count": 15,
      "metadata": {
        "id": "9EpoBWlPQLut",
        "colab": {
          "base_uri": "https://localhost:8080/",
          "height": 157
        },
        "outputId": "512a84c9-f70d-4846-8112-93dcbaf804a8"
      },
      "outputs": [
        {
          "output_type": "stream",
          "name": "stdout",
          "text": [
            " * sqlite:///tmp.sqlite3\n",
            "Done.\n"
          ]
        },
        {
          "output_type": "execute_result",
          "data": {
            "text/plain": [
              "[('table', 'users', 'users', 2, 'CREATE TABLE users (user_id INT, name TEXT, born_at TEXT, register_at TEXT)'),\n",
              " ('table', 'sales_log', 'sales_log', 3, 'CREATE TABLE sales_log (sales_id INT, user_id INT, sales INT, sold_at TEXT)'),\n",
              " ('table', 'members', 'members', 4, 'CREATE TABLE members\\n  (id INTEGER, name STRING, age INTEGER)')]"
            ],
            "text/html": [
              "<table>\n",
              "    <thead>\n",
              "        <tr>\n",
              "            <th>type</th>\n",
              "            <th>name</th>\n",
              "            <th>tbl_name</th>\n",
              "            <th>rootpage</th>\n",
              "            <th>sql</th>\n",
              "        </tr>\n",
              "    </thead>\n",
              "    <tbody>\n",
              "        <tr>\n",
              "            <td>table</td>\n",
              "            <td>users</td>\n",
              "            <td>users</td>\n",
              "            <td>2</td>\n",
              "            <td>CREATE TABLE users (user_id INT, name TEXT, born_at TEXT, register_at TEXT)</td>\n",
              "        </tr>\n",
              "        <tr>\n",
              "            <td>table</td>\n",
              "            <td>sales_log</td>\n",
              "            <td>sales_log</td>\n",
              "            <td>3</td>\n",
              "            <td>CREATE TABLE sales_log (sales_id INT, user_id INT, sales INT, sold_at TEXT)</td>\n",
              "        </tr>\n",
              "        <tr>\n",
              "            <td>table</td>\n",
              "            <td>members</td>\n",
              "            <td>members</td>\n",
              "            <td>4</td>\n",
              "            <td>CREATE TABLE members<br>  (id INTEGER, name STRING, age INTEGER)</td>\n",
              "        </tr>\n",
              "    </tbody>\n",
              "</table>"
            ]
          },
          "metadata": {},
          "execution_count": 15
        }
      ],
      "source": [
        "%%sql\n",
        "SELECT * FROM sqlite_master WHERE type = 'table';\n"
      ]
    },
    {
      "cell_type": "markdown",
      "metadata": {
        "id": "Plys0cZ7nlZo"
      },
      "source": [
        "### データの挿入 ── INSERT文\n"
      ]
    },
    {
      "cell_type": "code",
      "execution_count": 16,
      "metadata": {
        "id": "DqaRNxySQLuu",
        "colab": {
          "base_uri": "https://localhost:8080/"
        },
        "outputId": "6281ee06-072c-46d8-e653-2bf90c4bc80f"
      },
      "outputs": [
        {
          "output_type": "stream",
          "name": "stdout",
          "text": [
            " * sqlite:///tmp.sqlite3\n",
            "1 rows affected.\n"
          ]
        },
        {
          "output_type": "execute_result",
          "data": {
            "text/plain": [
              "[]"
            ]
          },
          "metadata": {},
          "execution_count": 16
        }
      ],
      "source": [
        "%%sql\n",
        "INSERT INTO members VALUES (1, \"Alice\", 5);\n"
      ]
    },
    {
      "cell_type": "code",
      "execution_count": 17,
      "metadata": {
        "id": "JJPNi6i6QLuu",
        "colab": {
          "base_uri": "https://localhost:8080/"
        },
        "outputId": "4fcacd67-5795-4638-9700-c98c0c0fb06a"
      },
      "outputs": [
        {
          "output_type": "stream",
          "name": "stdout",
          "text": [
            " * sqlite:///tmp.sqlite3\n",
            "1 rows affected.\n"
          ]
        },
        {
          "output_type": "execute_result",
          "data": {
            "text/plain": [
              "[]"
            ]
          },
          "metadata": {},
          "execution_count": 17
        }
      ],
      "source": [
        "%%sql\n",
        "INSERT INTO members(name, age) VALUES (\"Jack\", 30);\n"
      ]
    },
    {
      "cell_type": "markdown",
      "metadata": {
        "id": "rv5Zj9JPnqdC"
      },
      "source": [
        "### データの取得 ── SELECT文\n"
      ]
    },
    {
      "cell_type": "code",
      "execution_count": 18,
      "metadata": {
        "id": "p2whLM6WQLuu",
        "colab": {
          "base_uri": "https://localhost:8080/",
          "height": 118
        },
        "outputId": "85e59d7e-228f-4acb-f62a-8189b51edaf7"
      },
      "outputs": [
        {
          "output_type": "stream",
          "name": "stdout",
          "text": [
            " * sqlite:///tmp.sqlite3\n",
            "Done.\n"
          ]
        },
        {
          "output_type": "execute_result",
          "data": {
            "text/plain": [
              "[(1, 'Alice', 5), (None, 'Jack', 30)]"
            ],
            "text/html": [
              "<table>\n",
              "    <thead>\n",
              "        <tr>\n",
              "            <th>id</th>\n",
              "            <th>name</th>\n",
              "            <th>age</th>\n",
              "        </tr>\n",
              "    </thead>\n",
              "    <tbody>\n",
              "        <tr>\n",
              "            <td>1</td>\n",
              "            <td>Alice</td>\n",
              "            <td>5</td>\n",
              "        </tr>\n",
              "        <tr>\n",
              "            <td>None</td>\n",
              "            <td>Jack</td>\n",
              "            <td>30</td>\n",
              "        </tr>\n",
              "    </tbody>\n",
              "</table>"
            ]
          },
          "metadata": {},
          "execution_count": 18
        }
      ],
      "source": [
        "%%sql\n",
        "SELECT * FROM members;\n"
      ]
    },
    {
      "cell_type": "code",
      "execution_count": 19,
      "metadata": {
        "id": "kT1oyt5JQLuu",
        "colab": {
          "base_uri": "https://localhost:8080/",
          "height": 118
        },
        "outputId": "137d1373-be7c-402b-bc5e-d9dc85a8fe9f"
      },
      "outputs": [
        {
          "output_type": "stream",
          "name": "stdout",
          "text": [
            " * sqlite:///tmp.sqlite3\n",
            "Done.\n"
          ]
        },
        {
          "output_type": "execute_result",
          "data": {
            "text/plain": [
              "[('Alice',), ('Jack',)]"
            ],
            "text/html": [
              "<table>\n",
              "    <thead>\n",
              "        <tr>\n",
              "            <th>name</th>\n",
              "        </tr>\n",
              "    </thead>\n",
              "    <tbody>\n",
              "        <tr>\n",
              "            <td>Alice</td>\n",
              "        </tr>\n",
              "        <tr>\n",
              "            <td>Jack</td>\n",
              "        </tr>\n",
              "    </tbody>\n",
              "</table>"
            ]
          },
          "metadata": {},
          "execution_count": 19
        }
      ],
      "source": [
        "%%sql\n",
        "SELECT name FROM members;\n"
      ]
    },
    {
      "cell_type": "markdown",
      "metadata": {
        "id": "FHdQ4_G3nsuW"
      },
      "source": [
        "### データの更新 ── UPDATE文\n"
      ]
    },
    {
      "cell_type": "code",
      "execution_count": 20,
      "metadata": {
        "id": "WWz_VHo_QLuv",
        "colab": {
          "base_uri": "https://localhost:8080/"
        },
        "outputId": "2068b6e4-2166-4904-8f55-00d817da4f0a"
      },
      "outputs": [
        {
          "output_type": "stream",
          "name": "stdout",
          "text": [
            " * sqlite:///tmp.sqlite3\n",
            "1 rows affected.\n"
          ]
        },
        {
          "output_type": "execute_result",
          "data": {
            "text/plain": [
              "[]"
            ]
          },
          "metadata": {},
          "execution_count": 20
        }
      ],
      "source": [
        "%%sql\n",
        "UPDATE members SET age = 20 WHERE id = 1;\n"
      ]
    },
    {
      "cell_type": "markdown",
      "metadata": {
        "id": "Uk-m1jtDnus5"
      },
      "source": [
        "### データの削除 ── DELETE文\n"
      ]
    },
    {
      "cell_type": "code",
      "execution_count": 21,
      "metadata": {
        "id": "seoGI2dwQLuv",
        "colab": {
          "base_uri": "https://localhost:8080/"
        },
        "outputId": "2084398c-2c84-440c-bd6c-8683063145de"
      },
      "outputs": [
        {
          "output_type": "stream",
          "name": "stdout",
          "text": [
            " * sqlite:///tmp.sqlite3\n",
            "1 rows affected.\n"
          ]
        },
        {
          "output_type": "execute_result",
          "data": {
            "text/plain": [
              "[]"
            ]
          },
          "metadata": {},
          "execution_count": 21
        }
      ],
      "source": [
        "%%sql\n",
        "DELETE FROM members WHERE id = 1;\n"
      ]
    },
    {
      "cell_type": "markdown",
      "metadata": {
        "id": "4WzXcFb9nwxs"
      },
      "source": [
        "### テーブルの削除 ── DROP TABLE文\n"
      ]
    },
    {
      "cell_type": "code",
      "execution_count": 22,
      "metadata": {
        "id": "Il7j2YoqSibL",
        "colab": {
          "base_uri": "https://localhost:8080/"
        },
        "outputId": "7a740f11-8667-4d76-a7ce-727d7e069fcd"
      },
      "outputs": [
        {
          "output_type": "stream",
          "name": "stdout",
          "text": [
            " * sqlite:///tmp.sqlite3\n",
            "Done.\n"
          ]
        },
        {
          "output_type": "execute_result",
          "data": {
            "text/plain": [
              "[]"
            ]
          },
          "metadata": {},
          "execution_count": 22
        }
      ],
      "source": [
        "%%sql\n",
        "DROP TABLE members;"
      ]
    },
    {
      "cell_type": "markdown",
      "metadata": {
        "id": "4raRPGT1phAM"
      },
      "source": [
        "# データの取得をするSELECT文を使いこなす\n",
        "\n"
      ]
    },
    {
      "cell_type": "markdown",
      "metadata": {
        "id": "Qid7LTOiptcd"
      },
      "source": [
        "## SELECT句"
      ]
    },
    {
      "cell_type": "code",
      "execution_count": 23,
      "metadata": {
        "id": "6OtsRamkQLuv",
        "colab": {
          "base_uri": "https://localhost:8080/",
          "height": 221
        },
        "outputId": "bedaaa3f-ff12-4805-e166-c29ad28e2bac"
      },
      "outputs": [
        {
          "output_type": "stream",
          "name": "stdout",
          "text": [
            " * sqlite:///tmp.sqlite3\n",
            "Done.\n",
            "Done.\n"
          ]
        },
        {
          "output_type": "execute_result",
          "data": {
            "text/plain": [
              "[(1, 'Alice'),\n",
              " (2, 'Bob'),\n",
              " (3, 'Charlie'),\n",
              " (4, 'Dave'),\n",
              " (5, 'Eve'),\n",
              " (6, 'Frank')]"
            ],
            "text/html": [
              "<table>\n",
              "    <thead>\n",
              "        <tr>\n",
              "            <th>user_id</th>\n",
              "            <th>name</th>\n",
              "        </tr>\n",
              "    </thead>\n",
              "    <tbody>\n",
              "        <tr>\n",
              "            <td>1</td>\n",
              "            <td>Alice</td>\n",
              "        </tr>\n",
              "        <tr>\n",
              "            <td>2</td>\n",
              "            <td>Bob</td>\n",
              "        </tr>\n",
              "        <tr>\n",
              "            <td>3</td>\n",
              "            <td>Charlie</td>\n",
              "        </tr>\n",
              "        <tr>\n",
              "            <td>4</td>\n",
              "            <td>Dave</td>\n",
              "        </tr>\n",
              "        <tr>\n",
              "            <td>5</td>\n",
              "            <td>Eve</td>\n",
              "        </tr>\n",
              "        <tr>\n",
              "            <td>6</td>\n",
              "            <td>Frank</td>\n",
              "        </tr>\n",
              "    </tbody>\n",
              "</table>"
            ]
          },
          "metadata": {},
          "execution_count": 23
        }
      ],
      "source": [
        "%%sql\n",
        "SELECT * FROM users;\n",
        "SELECT user_id, name FROM users;"
      ]
    },
    {
      "cell_type": "code",
      "execution_count": 24,
      "metadata": {
        "id": "6b1BU8biQLuv",
        "colab": {
          "base_uri": "https://localhost:8080/",
          "height": 203
        },
        "outputId": "5ed3de73-4ad7-4730-c1c6-a3c02df7666a"
      },
      "outputs": [
        {
          "output_type": "stream",
          "name": "stdout",
          "text": [
            " * sqlite:///tmp.sqlite3\n",
            "Done.\n"
          ]
        },
        {
          "output_type": "execute_result",
          "data": {
            "text/plain": [
              "[('Alice', 4985.0),\n",
              " ('Bob', 4962.0),\n",
              " ('Charlie', 3811.0),\n",
              " ('Dave', 2458.0),\n",
              " ('Eve', 4623.0),\n",
              " ('Frank', 4431.0)]"
            ],
            "text/html": [
              "<table>\n",
              "    <thead>\n",
              "        <tr>\n",
              "            <th>name</th>\n",
              "            <th>days_after_registered</th>\n",
              "        </tr>\n",
              "    </thead>\n",
              "    <tbody>\n",
              "        <tr>\n",
              "            <td>Alice</td>\n",
              "            <td>4985.0</td>\n",
              "        </tr>\n",
              "        <tr>\n",
              "            <td>Bob</td>\n",
              "            <td>4962.0</td>\n",
              "        </tr>\n",
              "        <tr>\n",
              "            <td>Charlie</td>\n",
              "            <td>3811.0</td>\n",
              "        </tr>\n",
              "        <tr>\n",
              "            <td>Dave</td>\n",
              "            <td>2458.0</td>\n",
              "        </tr>\n",
              "        <tr>\n",
              "            <td>Eve</td>\n",
              "            <td>4623.0</td>\n",
              "        </tr>\n",
              "        <tr>\n",
              "            <td>Frank</td>\n",
              "            <td>4431.0</td>\n",
              "        </tr>\n",
              "    </tbody>\n",
              "</table>"
            ]
          },
          "metadata": {},
          "execution_count": 24
        }
      ],
      "source": [
        "%%sql\n",
        "SELECT\n",
        "  name,\n",
        "  JULIANDAY(CURRENT_DATE) - JULIANDAY(register_at) AS days_after_registered\n",
        "FROM users;\n"
      ]
    },
    {
      "cell_type": "code",
      "execution_count": 25,
      "metadata": {
        "id": "tb99nv8fQLuv",
        "colab": {
          "base_uri": "https://localhost:8080/",
          "height": 203
        },
        "outputId": "5bb44133-379e-4adf-831b-f690b6686028"
      },
      "outputs": [
        {
          "output_type": "stream",
          "name": "stdout",
          "text": [
            " * sqlite:///tmp.sqlite3\n",
            "Done.\n"
          ]
        },
        {
          "output_type": "execute_result",
          "data": {
            "text/plain": [
              "[('Alice', 4985.0),\n",
              " ('Bob', 4962.0),\n",
              " ('Charlie', 3811.0),\n",
              " ('Dave', 2458.0),\n",
              " ('Eve', 4623.0),\n",
              " ('Frank', 4431.0)]"
            ],
            "text/html": [
              "<table>\n",
              "    <thead>\n",
              "        <tr>\n",
              "            <th>name</th>\n",
              "            <th>days_after_registered</th>\n",
              "        </tr>\n",
              "    </thead>\n",
              "    <tbody>\n",
              "        <tr>\n",
              "            <td>Alice</td>\n",
              "            <td>4985.0</td>\n",
              "        </tr>\n",
              "        <tr>\n",
              "            <td>Bob</td>\n",
              "            <td>4962.0</td>\n",
              "        </tr>\n",
              "        <tr>\n",
              "            <td>Charlie</td>\n",
              "            <td>3811.0</td>\n",
              "        </tr>\n",
              "        <tr>\n",
              "            <td>Dave</td>\n",
              "            <td>2458.0</td>\n",
              "        </tr>\n",
              "        <tr>\n",
              "            <td>Eve</td>\n",
              "            <td>4623.0</td>\n",
              "        </tr>\n",
              "        <tr>\n",
              "            <td>Frank</td>\n",
              "            <td>4431.0</td>\n",
              "        </tr>\n",
              "    </tbody>\n",
              "</table>"
            ]
          },
          "metadata": {},
          "execution_count": 25
        }
      ],
      "source": [
        "%%sql\n",
        "SELECT\n",
        "  name,\n",
        "  JULIANDAY(CURRENT_DATE) - JULIANDAY(register_at) days_after_registered\n",
        "FROM users;\n"
      ]
    },
    {
      "cell_type": "markdown",
      "metadata": {
        "id": "lrWAL-0BppqB"
      },
      "source": [
        "## WHERE句\n"
      ]
    },
    {
      "cell_type": "code",
      "execution_count": 26,
      "metadata": {
        "id": "GNUOdNgtQLuw",
        "colab": {
          "base_uri": "https://localhost:8080/",
          "height": 481
        },
        "outputId": "7a3efe42-821d-4452-a998-8bbc71f991a1"
      },
      "outputs": [
        {
          "output_type": "stream",
          "name": "stdout",
          "text": [
            " * sqlite:///tmp.sqlite3\n",
            "Done.\n"
          ]
        },
        {
          "output_type": "execute_result",
          "data": {
            "text/plain": [
              "[(1, 250, 0),\n",
              " (3, 320, 1),\n",
              " (4, 110, 0),\n",
              " (5, 100, 0),\n",
              " (7, 900, 1),\n",
              " (2, 320, 1),\n",
              " (1, 200, 0),\n",
              " (2, 310, 1),\n",
              " (1, 210, 0),\n",
              " (1, 350, 1),\n",
              " (3, 100, 0),\n",
              " (2, 50, 0),\n",
              " (7, 90, 0),\n",
              " (5, 1000, 1),\n",
              " (1, 1000, 1),\n",
              " (2, 90, 0),\n",
              " (3, 320, 1),\n",
              " (2, 1000, 1),\n",
              " (1, 1000, 1)]"
            ],
            "text/html": [
              "<table>\n",
              "    <thead>\n",
              "        <tr>\n",
              "            <th>user_id</th>\n",
              "            <th>sales</th>\n",
              "            <th>is_over_300</th>\n",
              "        </tr>\n",
              "    </thead>\n",
              "    <tbody>\n",
              "        <tr>\n",
              "            <td>1</td>\n",
              "            <td>250</td>\n",
              "            <td>0</td>\n",
              "        </tr>\n",
              "        <tr>\n",
              "            <td>3</td>\n",
              "            <td>320</td>\n",
              "            <td>1</td>\n",
              "        </tr>\n",
              "        <tr>\n",
              "            <td>4</td>\n",
              "            <td>110</td>\n",
              "            <td>0</td>\n",
              "        </tr>\n",
              "        <tr>\n",
              "            <td>5</td>\n",
              "            <td>100</td>\n",
              "            <td>0</td>\n",
              "        </tr>\n",
              "        <tr>\n",
              "            <td>7</td>\n",
              "            <td>900</td>\n",
              "            <td>1</td>\n",
              "        </tr>\n",
              "        <tr>\n",
              "            <td>2</td>\n",
              "            <td>320</td>\n",
              "            <td>1</td>\n",
              "        </tr>\n",
              "        <tr>\n",
              "            <td>1</td>\n",
              "            <td>200</td>\n",
              "            <td>0</td>\n",
              "        </tr>\n",
              "        <tr>\n",
              "            <td>2</td>\n",
              "            <td>310</td>\n",
              "            <td>1</td>\n",
              "        </tr>\n",
              "        <tr>\n",
              "            <td>1</td>\n",
              "            <td>210</td>\n",
              "            <td>0</td>\n",
              "        </tr>\n",
              "        <tr>\n",
              "            <td>1</td>\n",
              "            <td>350</td>\n",
              "            <td>1</td>\n",
              "        </tr>\n",
              "        <tr>\n",
              "            <td>3</td>\n",
              "            <td>100</td>\n",
              "            <td>0</td>\n",
              "        </tr>\n",
              "        <tr>\n",
              "            <td>2</td>\n",
              "            <td>50</td>\n",
              "            <td>0</td>\n",
              "        </tr>\n",
              "        <tr>\n",
              "            <td>7</td>\n",
              "            <td>90</td>\n",
              "            <td>0</td>\n",
              "        </tr>\n",
              "        <tr>\n",
              "            <td>5</td>\n",
              "            <td>1000</td>\n",
              "            <td>1</td>\n",
              "        </tr>\n",
              "        <tr>\n",
              "            <td>1</td>\n",
              "            <td>1000</td>\n",
              "            <td>1</td>\n",
              "        </tr>\n",
              "        <tr>\n",
              "            <td>2</td>\n",
              "            <td>90</td>\n",
              "            <td>0</td>\n",
              "        </tr>\n",
              "        <tr>\n",
              "            <td>3</td>\n",
              "            <td>320</td>\n",
              "            <td>1</td>\n",
              "        </tr>\n",
              "        <tr>\n",
              "            <td>2</td>\n",
              "            <td>1000</td>\n",
              "            <td>1</td>\n",
              "        </tr>\n",
              "        <tr>\n",
              "            <td>1</td>\n",
              "            <td>1000</td>\n",
              "            <td>1</td>\n",
              "        </tr>\n",
              "    </tbody>\n",
              "</table>"
            ]
          },
          "metadata": {},
          "execution_count": 26
        }
      ],
      "source": [
        "%%sql\n",
        "SELECT user_id, sales, sales > 300 AS is_over_300\n",
        "FROM sales_log;\n"
      ]
    },
    {
      "cell_type": "code",
      "execution_count": 27,
      "metadata": {
        "id": "94sYzg79QLuw",
        "colab": {
          "base_uri": "https://localhost:8080/",
          "height": 289
        },
        "outputId": "01fb1bf1-5a16-4272-b75a-4ec42d5d9617"
      },
      "outputs": [
        {
          "output_type": "stream",
          "name": "stdout",
          "text": [
            " * sqlite:///tmp.sqlite3\n",
            "Done.\n"
          ]
        },
        {
          "output_type": "execute_result",
          "data": {
            "text/plain": [
              "[(3, 320, 1),\n",
              " (7, 900, 1),\n",
              " (2, 320, 1),\n",
              " (2, 310, 1),\n",
              " (1, 350, 1),\n",
              " (5, 1000, 1),\n",
              " (1, 1000, 1),\n",
              " (3, 320, 1),\n",
              " (2, 1000, 1),\n",
              " (1, 1000, 1)]"
            ],
            "text/html": [
              "<table>\n",
              "    <thead>\n",
              "        <tr>\n",
              "            <th>user_id</th>\n",
              "            <th>sales</th>\n",
              "            <th>is_over_300</th>\n",
              "        </tr>\n",
              "    </thead>\n",
              "    <tbody>\n",
              "        <tr>\n",
              "            <td>3</td>\n",
              "            <td>320</td>\n",
              "            <td>1</td>\n",
              "        </tr>\n",
              "        <tr>\n",
              "            <td>7</td>\n",
              "            <td>900</td>\n",
              "            <td>1</td>\n",
              "        </tr>\n",
              "        <tr>\n",
              "            <td>2</td>\n",
              "            <td>320</td>\n",
              "            <td>1</td>\n",
              "        </tr>\n",
              "        <tr>\n",
              "            <td>2</td>\n",
              "            <td>310</td>\n",
              "            <td>1</td>\n",
              "        </tr>\n",
              "        <tr>\n",
              "            <td>1</td>\n",
              "            <td>350</td>\n",
              "            <td>1</td>\n",
              "        </tr>\n",
              "        <tr>\n",
              "            <td>5</td>\n",
              "            <td>1000</td>\n",
              "            <td>1</td>\n",
              "        </tr>\n",
              "        <tr>\n",
              "            <td>1</td>\n",
              "            <td>1000</td>\n",
              "            <td>1</td>\n",
              "        </tr>\n",
              "        <tr>\n",
              "            <td>3</td>\n",
              "            <td>320</td>\n",
              "            <td>1</td>\n",
              "        </tr>\n",
              "        <tr>\n",
              "            <td>2</td>\n",
              "            <td>1000</td>\n",
              "            <td>1</td>\n",
              "        </tr>\n",
              "        <tr>\n",
              "            <td>1</td>\n",
              "            <td>1000</td>\n",
              "            <td>1</td>\n",
              "        </tr>\n",
              "    </tbody>\n",
              "</table>"
            ]
          },
          "metadata": {},
          "execution_count": 27
        }
      ],
      "source": [
        "%%sql\n",
        "SELECT user_id, sales, sales > 300 AS is_over_300\n",
        "FROM sales_log\n",
        "WHERE sales > 300;\n"
      ]
    },
    {
      "cell_type": "markdown",
      "metadata": {
        "id": "5KfwV6bcpv5j"
      },
      "source": [
        "## FROM句\n"
      ]
    },
    {
      "cell_type": "code",
      "execution_count": 28,
      "metadata": {
        "id": "_25m4Rz7QLuw",
        "colab": {
          "base_uri": "https://localhost:8080/",
          "height": 203
        },
        "outputId": "749cfa51-e3c7-4c3c-916e-7d22cfe58252"
      },
      "outputs": [
        {
          "output_type": "stream",
          "name": "stdout",
          "text": [
            " * sqlite:///tmp.sqlite3\n",
            "Done.\n"
          ]
        },
        {
          "output_type": "execute_result",
          "data": {
            "text/plain": [
              "[(1, 'Alice', '1991-08-31', '2008-10-10'),\n",
              " (2, 'Bob', '1992-03-12', '2008-11-02'),\n",
              " (3, 'Charlie', '1999-09-04', '2011-12-28'),\n",
              " (4, 'Dave', '2001-03-21', '2015-09-11'),\n",
              " (5, 'Eve', '1977-08-14', '2009-10-07'),\n",
              " (6, 'Frank', '1989-10-25', '2010-04-17')]"
            ],
            "text/html": [
              "<table>\n",
              "    <thead>\n",
              "        <tr>\n",
              "            <th>user_id</th>\n",
              "            <th>name</th>\n",
              "            <th>born_at</th>\n",
              "            <th>register_at</th>\n",
              "        </tr>\n",
              "    </thead>\n",
              "    <tbody>\n",
              "        <tr>\n",
              "            <td>1</td>\n",
              "            <td>Alice</td>\n",
              "            <td>1991-08-31</td>\n",
              "            <td>2008-10-10</td>\n",
              "        </tr>\n",
              "        <tr>\n",
              "            <td>2</td>\n",
              "            <td>Bob</td>\n",
              "            <td>1992-03-12</td>\n",
              "            <td>2008-11-02</td>\n",
              "        </tr>\n",
              "        <tr>\n",
              "            <td>3</td>\n",
              "            <td>Charlie</td>\n",
              "            <td>1999-09-04</td>\n",
              "            <td>2011-12-28</td>\n",
              "        </tr>\n",
              "        <tr>\n",
              "            <td>4</td>\n",
              "            <td>Dave</td>\n",
              "            <td>2001-03-21</td>\n",
              "            <td>2015-09-11</td>\n",
              "        </tr>\n",
              "        <tr>\n",
              "            <td>5</td>\n",
              "            <td>Eve</td>\n",
              "            <td>1977-08-14</td>\n",
              "            <td>2009-10-07</td>\n",
              "        </tr>\n",
              "        <tr>\n",
              "            <td>6</td>\n",
              "            <td>Frank</td>\n",
              "            <td>1989-10-25</td>\n",
              "            <td>2010-04-17</td>\n",
              "        </tr>\n",
              "    </tbody>\n",
              "</table>"
            ]
          },
          "metadata": {},
          "execution_count": 28
        }
      ],
      "source": [
        "%%sql\n",
        "SELECT * FROM users;\n"
      ]
    },
    {
      "cell_type": "markdown",
      "metadata": {
        "id": "Bo06dgcGpxpv"
      },
      "source": [
        "### 副問合せ\n"
      ]
    },
    {
      "cell_type": "code",
      "execution_count": 29,
      "metadata": {
        "id": "RRMk5LI3QLuw",
        "colab": {
          "base_uri": "https://localhost:8080/",
          "height": 96
        },
        "outputId": "9636e4a1-340a-45d9-a714-cd77c79a1536"
      },
      "outputs": [
        {
          "output_type": "stream",
          "name": "stdout",
          "text": [
            " * sqlite:///tmp.sqlite3\n",
            "Done.\n"
          ]
        },
        {
          "output_type": "execute_result",
          "data": {
            "text/plain": [
              "[(6, 'Frank', '1989-10-25', '2010-04-17')]"
            ],
            "text/html": [
              "<table>\n",
              "    <thead>\n",
              "        <tr>\n",
              "            <th>user_id</th>\n",
              "            <th>name</th>\n",
              "            <th>born_at</th>\n",
              "            <th>register_at</th>\n",
              "        </tr>\n",
              "    </thead>\n",
              "    <tbody>\n",
              "        <tr>\n",
              "            <td>6</td>\n",
              "            <td>Frank</td>\n",
              "            <td>1989-10-25</td>\n",
              "            <td>2010-04-17</td>\n",
              "        </tr>\n",
              "    </tbody>\n",
              "</table>"
            ]
          },
          "metadata": {},
          "execution_count": 29
        }
      ],
      "source": [
        "%%sql\n",
        "SELECT *\n",
        "FROM (\n",
        "  SELECT * FROM users WHERE user_id > 5\n",
        ") AS t;\n"
      ]
    },
    {
      "cell_type": "code",
      "execution_count": null,
      "metadata": {
        "id": "JB86SetRQLux"
      },
      "outputs": [],
      "source": [
        "%%sql\n",
        "WITH t AS (\n",
        "  SELECT * FROM users WHERE user_id > 5\n",
        ")\n",
        "SELECT * FROM t;\n"
      ]
    },
    {
      "cell_type": "markdown",
      "metadata": {
        "id": "3NSL78l2p1eA"
      },
      "source": [
        "## JOIN演算\n"
      ]
    },
    {
      "cell_type": "markdown",
      "metadata": {
        "id": "EQI9rEuLp22f"
      },
      "source": [
        "### INNER JOIN\n"
      ]
    },
    {
      "cell_type": "code",
      "execution_count": 30,
      "metadata": {
        "id": "U5cUq3exQLux",
        "colab": {
          "base_uri": "https://localhost:8080/",
          "height": 438
        },
        "outputId": "a64288e7-ad50-4487-c4bc-665dc43f1e8d"
      },
      "outputs": [
        {
          "output_type": "stream",
          "name": "stdout",
          "text": [
            " * sqlite:///tmp.sqlite3\n",
            "Done.\n"
          ]
        },
        {
          "output_type": "execute_result",
          "data": {
            "text/plain": [
              "[(1, 1, 250, '2022-04-19 12:34:23', 'Alice'),\n",
              " (2, 3, 320, '2022-04-19 14:29:31', 'Charlie'),\n",
              " (3, 4, 110, '2022-04-19 22:40:28', 'Dave'),\n",
              " (4, 5, 100, '2022-04-20 17:52:53', 'Eve'),\n",
              " (6, 2, 320, '2022-04-21 18:07:30', 'Bob'),\n",
              " (7, 1, 200, '2022-04-22 07:25:51', 'Alice'),\n",
              " (8, 2, 310, '2022-04-22 11:58:20', 'Bob'),\n",
              " (9, 1, 210, '2022-04-23 08:11:07', 'Alice'),\n",
              " (10, 1, 350, '2022-04-23 23:37:55', 'Alice'),\n",
              " (11, 3, 100, '2022-04-24 10:17:39', 'Charlie'),\n",
              " (12, 2, 50, '2022-04-24 23:49:46', 'Bob'),\n",
              " (14, 5, 1000, '2022-04-25 18:14:53', 'Eve'),\n",
              " (15, 1, 1000, '2022-04-26 06:11:53', 'Alice'),\n",
              " (16, 2, 90, '2022-04-26 23:41:37', 'Bob'),\n",
              " (17, 3, 320, '2022-04-27 12:48:31', 'Charlie'),\n",
              " (18, 2, 1000, '2022-04-27 20:19:28', 'Bob'),\n",
              " (19, 1, 1000, '2022-04-28 16:49:37', 'Alice')]"
            ],
            "text/html": [
              "<table>\n",
              "    <thead>\n",
              "        <tr>\n",
              "            <th>sales_id</th>\n",
              "            <th>user_id</th>\n",
              "            <th>sales</th>\n",
              "            <th>sold_at</th>\n",
              "            <th>name</th>\n",
              "        </tr>\n",
              "    </thead>\n",
              "    <tbody>\n",
              "        <tr>\n",
              "            <td>1</td>\n",
              "            <td>1</td>\n",
              "            <td>250</td>\n",
              "            <td>2022-04-19 12:34:23</td>\n",
              "            <td>Alice</td>\n",
              "        </tr>\n",
              "        <tr>\n",
              "            <td>2</td>\n",
              "            <td>3</td>\n",
              "            <td>320</td>\n",
              "            <td>2022-04-19 14:29:31</td>\n",
              "            <td>Charlie</td>\n",
              "        </tr>\n",
              "        <tr>\n",
              "            <td>3</td>\n",
              "            <td>4</td>\n",
              "            <td>110</td>\n",
              "            <td>2022-04-19 22:40:28</td>\n",
              "            <td>Dave</td>\n",
              "        </tr>\n",
              "        <tr>\n",
              "            <td>4</td>\n",
              "            <td>5</td>\n",
              "            <td>100</td>\n",
              "            <td>2022-04-20 17:52:53</td>\n",
              "            <td>Eve</td>\n",
              "        </tr>\n",
              "        <tr>\n",
              "            <td>6</td>\n",
              "            <td>2</td>\n",
              "            <td>320</td>\n",
              "            <td>2022-04-21 18:07:30</td>\n",
              "            <td>Bob</td>\n",
              "        </tr>\n",
              "        <tr>\n",
              "            <td>7</td>\n",
              "            <td>1</td>\n",
              "            <td>200</td>\n",
              "            <td>2022-04-22 07:25:51</td>\n",
              "            <td>Alice</td>\n",
              "        </tr>\n",
              "        <tr>\n",
              "            <td>8</td>\n",
              "            <td>2</td>\n",
              "            <td>310</td>\n",
              "            <td>2022-04-22 11:58:20</td>\n",
              "            <td>Bob</td>\n",
              "        </tr>\n",
              "        <tr>\n",
              "            <td>9</td>\n",
              "            <td>1</td>\n",
              "            <td>210</td>\n",
              "            <td>2022-04-23 08:11:07</td>\n",
              "            <td>Alice</td>\n",
              "        </tr>\n",
              "        <tr>\n",
              "            <td>10</td>\n",
              "            <td>1</td>\n",
              "            <td>350</td>\n",
              "            <td>2022-04-23 23:37:55</td>\n",
              "            <td>Alice</td>\n",
              "        </tr>\n",
              "        <tr>\n",
              "            <td>11</td>\n",
              "            <td>3</td>\n",
              "            <td>100</td>\n",
              "            <td>2022-04-24 10:17:39</td>\n",
              "            <td>Charlie</td>\n",
              "        </tr>\n",
              "        <tr>\n",
              "            <td>12</td>\n",
              "            <td>2</td>\n",
              "            <td>50</td>\n",
              "            <td>2022-04-24 23:49:46</td>\n",
              "            <td>Bob</td>\n",
              "        </tr>\n",
              "        <tr>\n",
              "            <td>14</td>\n",
              "            <td>5</td>\n",
              "            <td>1000</td>\n",
              "            <td>2022-04-25 18:14:53</td>\n",
              "            <td>Eve</td>\n",
              "        </tr>\n",
              "        <tr>\n",
              "            <td>15</td>\n",
              "            <td>1</td>\n",
              "            <td>1000</td>\n",
              "            <td>2022-04-26 06:11:53</td>\n",
              "            <td>Alice</td>\n",
              "        </tr>\n",
              "        <tr>\n",
              "            <td>16</td>\n",
              "            <td>2</td>\n",
              "            <td>90</td>\n",
              "            <td>2022-04-26 23:41:37</td>\n",
              "            <td>Bob</td>\n",
              "        </tr>\n",
              "        <tr>\n",
              "            <td>17</td>\n",
              "            <td>3</td>\n",
              "            <td>320</td>\n",
              "            <td>2022-04-27 12:48:31</td>\n",
              "            <td>Charlie</td>\n",
              "        </tr>\n",
              "        <tr>\n",
              "            <td>18</td>\n",
              "            <td>2</td>\n",
              "            <td>1000</td>\n",
              "            <td>2022-04-27 20:19:28</td>\n",
              "            <td>Bob</td>\n",
              "        </tr>\n",
              "        <tr>\n",
              "            <td>19</td>\n",
              "            <td>1</td>\n",
              "            <td>1000</td>\n",
              "            <td>2022-04-28 16:49:37</td>\n",
              "            <td>Alice</td>\n",
              "        </tr>\n",
              "    </tbody>\n",
              "</table>"
            ]
          },
          "metadata": {},
          "execution_count": 30
        }
      ],
      "source": [
        "%%sql\n",
        "SELECT\n",
        "  s.sales_id, s.user_id, s.sales, s.sold_at, u.name\n",
        "FROM sales_log AS s\n",
        "INNER JOIN users AS u ON s.user_id = u.user_id;\n"
      ]
    },
    {
      "cell_type": "code",
      "execution_count": 31,
      "metadata": {
        "id": "ZBFaG5d4QLux",
        "colab": {
          "base_uri": "https://localhost:8080/",
          "height": 438
        },
        "outputId": "b17896d2-475f-4397-9182-50cdd47fe4fc"
      },
      "outputs": [
        {
          "output_type": "stream",
          "name": "stdout",
          "text": [
            " * sqlite:///tmp.sqlite3\n",
            "Done.\n"
          ]
        },
        {
          "output_type": "execute_result",
          "data": {
            "text/plain": [
              "[(1, 1, 250, '2022-04-19 12:34:23', 'Alice'),\n",
              " (2, 3, 320, '2022-04-19 14:29:31', 'Charlie'),\n",
              " (3, 4, 110, '2022-04-19 22:40:28', 'Dave'),\n",
              " (4, 5, 100, '2022-04-20 17:52:53', 'Eve'),\n",
              " (6, 2, 320, '2022-04-21 18:07:30', 'Bob'),\n",
              " (7, 1, 200, '2022-04-22 07:25:51', 'Alice'),\n",
              " (8, 2, 310, '2022-04-22 11:58:20', 'Bob'),\n",
              " (9, 1, 210, '2022-04-23 08:11:07', 'Alice'),\n",
              " (10, 1, 350, '2022-04-23 23:37:55', 'Alice'),\n",
              " (11, 3, 100, '2022-04-24 10:17:39', 'Charlie'),\n",
              " (12, 2, 50, '2022-04-24 23:49:46', 'Bob'),\n",
              " (14, 5, 1000, '2022-04-25 18:14:53', 'Eve'),\n",
              " (15, 1, 1000, '2022-04-26 06:11:53', 'Alice'),\n",
              " (16, 2, 90, '2022-04-26 23:41:37', 'Bob'),\n",
              " (17, 3, 320, '2022-04-27 12:48:31', 'Charlie'),\n",
              " (18, 2, 1000, '2022-04-27 20:19:28', 'Bob'),\n",
              " (19, 1, 1000, '2022-04-28 16:49:37', 'Alice')]"
            ],
            "text/html": [
              "<table>\n",
              "    <thead>\n",
              "        <tr>\n",
              "            <th>sales_id</th>\n",
              "            <th>user_id</th>\n",
              "            <th>sales</th>\n",
              "            <th>sold_at</th>\n",
              "            <th>name</th>\n",
              "        </tr>\n",
              "    </thead>\n",
              "    <tbody>\n",
              "        <tr>\n",
              "            <td>1</td>\n",
              "            <td>1</td>\n",
              "            <td>250</td>\n",
              "            <td>2022-04-19 12:34:23</td>\n",
              "            <td>Alice</td>\n",
              "        </tr>\n",
              "        <tr>\n",
              "            <td>2</td>\n",
              "            <td>3</td>\n",
              "            <td>320</td>\n",
              "            <td>2022-04-19 14:29:31</td>\n",
              "            <td>Charlie</td>\n",
              "        </tr>\n",
              "        <tr>\n",
              "            <td>3</td>\n",
              "            <td>4</td>\n",
              "            <td>110</td>\n",
              "            <td>2022-04-19 22:40:28</td>\n",
              "            <td>Dave</td>\n",
              "        </tr>\n",
              "        <tr>\n",
              "            <td>4</td>\n",
              "            <td>5</td>\n",
              "            <td>100</td>\n",
              "            <td>2022-04-20 17:52:53</td>\n",
              "            <td>Eve</td>\n",
              "        </tr>\n",
              "        <tr>\n",
              "            <td>6</td>\n",
              "            <td>2</td>\n",
              "            <td>320</td>\n",
              "            <td>2022-04-21 18:07:30</td>\n",
              "            <td>Bob</td>\n",
              "        </tr>\n",
              "        <tr>\n",
              "            <td>7</td>\n",
              "            <td>1</td>\n",
              "            <td>200</td>\n",
              "            <td>2022-04-22 07:25:51</td>\n",
              "            <td>Alice</td>\n",
              "        </tr>\n",
              "        <tr>\n",
              "            <td>8</td>\n",
              "            <td>2</td>\n",
              "            <td>310</td>\n",
              "            <td>2022-04-22 11:58:20</td>\n",
              "            <td>Bob</td>\n",
              "        </tr>\n",
              "        <tr>\n",
              "            <td>9</td>\n",
              "            <td>1</td>\n",
              "            <td>210</td>\n",
              "            <td>2022-04-23 08:11:07</td>\n",
              "            <td>Alice</td>\n",
              "        </tr>\n",
              "        <tr>\n",
              "            <td>10</td>\n",
              "            <td>1</td>\n",
              "            <td>350</td>\n",
              "            <td>2022-04-23 23:37:55</td>\n",
              "            <td>Alice</td>\n",
              "        </tr>\n",
              "        <tr>\n",
              "            <td>11</td>\n",
              "            <td>3</td>\n",
              "            <td>100</td>\n",
              "            <td>2022-04-24 10:17:39</td>\n",
              "            <td>Charlie</td>\n",
              "        </tr>\n",
              "        <tr>\n",
              "            <td>12</td>\n",
              "            <td>2</td>\n",
              "            <td>50</td>\n",
              "            <td>2022-04-24 23:49:46</td>\n",
              "            <td>Bob</td>\n",
              "        </tr>\n",
              "        <tr>\n",
              "            <td>14</td>\n",
              "            <td>5</td>\n",
              "            <td>1000</td>\n",
              "            <td>2022-04-25 18:14:53</td>\n",
              "            <td>Eve</td>\n",
              "        </tr>\n",
              "        <tr>\n",
              "            <td>15</td>\n",
              "            <td>1</td>\n",
              "            <td>1000</td>\n",
              "            <td>2022-04-26 06:11:53</td>\n",
              "            <td>Alice</td>\n",
              "        </tr>\n",
              "        <tr>\n",
              "            <td>16</td>\n",
              "            <td>2</td>\n",
              "            <td>90</td>\n",
              "            <td>2022-04-26 23:41:37</td>\n",
              "            <td>Bob</td>\n",
              "        </tr>\n",
              "        <tr>\n",
              "            <td>17</td>\n",
              "            <td>3</td>\n",
              "            <td>320</td>\n",
              "            <td>2022-04-27 12:48:31</td>\n",
              "            <td>Charlie</td>\n",
              "        </tr>\n",
              "        <tr>\n",
              "            <td>18</td>\n",
              "            <td>2</td>\n",
              "            <td>1000</td>\n",
              "            <td>2022-04-27 20:19:28</td>\n",
              "            <td>Bob</td>\n",
              "        </tr>\n",
              "        <tr>\n",
              "            <td>19</td>\n",
              "            <td>1</td>\n",
              "            <td>1000</td>\n",
              "            <td>2022-04-28 16:49:37</td>\n",
              "            <td>Alice</td>\n",
              "        </tr>\n",
              "    </tbody>\n",
              "</table>"
            ]
          },
          "metadata": {},
          "execution_count": 31
        }
      ],
      "source": [
        "%%sql\n",
        "SELECT\n",
        "  s.sales_id, s.user_id, s.sales, s.sold_at, u.name \n",
        "FROM sales_log AS s\n",
        "INNER JOIN users AS u USING (user_id);\n"
      ]
    },
    {
      "cell_type": "markdown",
      "metadata": {
        "id": "IIAI_0-hp5AP"
      },
      "source": [
        "### LEFT OUTER JOIN\n"
      ]
    },
    {
      "cell_type": "code",
      "execution_count": 32,
      "metadata": {
        "id": "KOaMRQ44QLuy",
        "colab": {
          "base_uri": "https://localhost:8080/",
          "height": 481
        },
        "outputId": "4d7cf1b9-343a-490b-d92d-4db28307f13d"
      },
      "outputs": [
        {
          "output_type": "stream",
          "name": "stdout",
          "text": [
            " * sqlite:///tmp.sqlite3\n",
            "Done.\n"
          ]
        },
        {
          "output_type": "execute_result",
          "data": {
            "text/plain": [
              "[(1, 1, 250, '2022-04-19 12:34:23', 'Alice'),\n",
              " (2, 3, 320, '2022-04-19 14:29:31', 'Charlie'),\n",
              " (3, 4, 110, '2022-04-19 22:40:28', 'Dave'),\n",
              " (4, 5, 100, '2022-04-20 17:52:53', 'Eve'),\n",
              " (5, 7, 900, '2022-04-21 09:50:19', None),\n",
              " (6, 2, 320, '2022-04-21 18:07:30', 'Bob'),\n",
              " (7, 1, 200, '2022-04-22 07:25:51', 'Alice'),\n",
              " (8, 2, 310, '2022-04-22 11:58:20', 'Bob'),\n",
              " (9, 1, 210, '2022-04-23 08:11:07', 'Alice'),\n",
              " (10, 1, 350, '2022-04-23 23:37:55', 'Alice'),\n",
              " (11, 3, 100, '2022-04-24 10:17:39', 'Charlie'),\n",
              " (12, 2, 50, '2022-04-24 23:49:46', 'Bob'),\n",
              " (13, 7, 90, '2022-04-25 01:43:34', None),\n",
              " (14, 5, 1000, '2022-04-25 18:14:53', 'Eve'),\n",
              " (15, 1, 1000, '2022-04-26 06:11:53', 'Alice'),\n",
              " (16, 2, 90, '2022-04-26 23:41:37', 'Bob'),\n",
              " (17, 3, 320, '2022-04-27 12:48:31', 'Charlie'),\n",
              " (18, 2, 1000, '2022-04-27 20:19:28', 'Bob'),\n",
              " (19, 1, 1000, '2022-04-28 16:49:37', 'Alice')]"
            ],
            "text/html": [
              "<table>\n",
              "    <thead>\n",
              "        <tr>\n",
              "            <th>sales_id</th>\n",
              "            <th>user_id</th>\n",
              "            <th>sales</th>\n",
              "            <th>sold_at</th>\n",
              "            <th>name</th>\n",
              "        </tr>\n",
              "    </thead>\n",
              "    <tbody>\n",
              "        <tr>\n",
              "            <td>1</td>\n",
              "            <td>1</td>\n",
              "            <td>250</td>\n",
              "            <td>2022-04-19 12:34:23</td>\n",
              "            <td>Alice</td>\n",
              "        </tr>\n",
              "        <tr>\n",
              "            <td>2</td>\n",
              "            <td>3</td>\n",
              "            <td>320</td>\n",
              "            <td>2022-04-19 14:29:31</td>\n",
              "            <td>Charlie</td>\n",
              "        </tr>\n",
              "        <tr>\n",
              "            <td>3</td>\n",
              "            <td>4</td>\n",
              "            <td>110</td>\n",
              "            <td>2022-04-19 22:40:28</td>\n",
              "            <td>Dave</td>\n",
              "        </tr>\n",
              "        <tr>\n",
              "            <td>4</td>\n",
              "            <td>5</td>\n",
              "            <td>100</td>\n",
              "            <td>2022-04-20 17:52:53</td>\n",
              "            <td>Eve</td>\n",
              "        </tr>\n",
              "        <tr>\n",
              "            <td>5</td>\n",
              "            <td>7</td>\n",
              "            <td>900</td>\n",
              "            <td>2022-04-21 09:50:19</td>\n",
              "            <td>None</td>\n",
              "        </tr>\n",
              "        <tr>\n",
              "            <td>6</td>\n",
              "            <td>2</td>\n",
              "            <td>320</td>\n",
              "            <td>2022-04-21 18:07:30</td>\n",
              "            <td>Bob</td>\n",
              "        </tr>\n",
              "        <tr>\n",
              "            <td>7</td>\n",
              "            <td>1</td>\n",
              "            <td>200</td>\n",
              "            <td>2022-04-22 07:25:51</td>\n",
              "            <td>Alice</td>\n",
              "        </tr>\n",
              "        <tr>\n",
              "            <td>8</td>\n",
              "            <td>2</td>\n",
              "            <td>310</td>\n",
              "            <td>2022-04-22 11:58:20</td>\n",
              "            <td>Bob</td>\n",
              "        </tr>\n",
              "        <tr>\n",
              "            <td>9</td>\n",
              "            <td>1</td>\n",
              "            <td>210</td>\n",
              "            <td>2022-04-23 08:11:07</td>\n",
              "            <td>Alice</td>\n",
              "        </tr>\n",
              "        <tr>\n",
              "            <td>10</td>\n",
              "            <td>1</td>\n",
              "            <td>350</td>\n",
              "            <td>2022-04-23 23:37:55</td>\n",
              "            <td>Alice</td>\n",
              "        </tr>\n",
              "        <tr>\n",
              "            <td>11</td>\n",
              "            <td>3</td>\n",
              "            <td>100</td>\n",
              "            <td>2022-04-24 10:17:39</td>\n",
              "            <td>Charlie</td>\n",
              "        </tr>\n",
              "        <tr>\n",
              "            <td>12</td>\n",
              "            <td>2</td>\n",
              "            <td>50</td>\n",
              "            <td>2022-04-24 23:49:46</td>\n",
              "            <td>Bob</td>\n",
              "        </tr>\n",
              "        <tr>\n",
              "            <td>13</td>\n",
              "            <td>7</td>\n",
              "            <td>90</td>\n",
              "            <td>2022-04-25 01:43:34</td>\n",
              "            <td>None</td>\n",
              "        </tr>\n",
              "        <tr>\n",
              "            <td>14</td>\n",
              "            <td>5</td>\n",
              "            <td>1000</td>\n",
              "            <td>2022-04-25 18:14:53</td>\n",
              "            <td>Eve</td>\n",
              "        </tr>\n",
              "        <tr>\n",
              "            <td>15</td>\n",
              "            <td>1</td>\n",
              "            <td>1000</td>\n",
              "            <td>2022-04-26 06:11:53</td>\n",
              "            <td>Alice</td>\n",
              "        </tr>\n",
              "        <tr>\n",
              "            <td>16</td>\n",
              "            <td>2</td>\n",
              "            <td>90</td>\n",
              "            <td>2022-04-26 23:41:37</td>\n",
              "            <td>Bob</td>\n",
              "        </tr>\n",
              "        <tr>\n",
              "            <td>17</td>\n",
              "            <td>3</td>\n",
              "            <td>320</td>\n",
              "            <td>2022-04-27 12:48:31</td>\n",
              "            <td>Charlie</td>\n",
              "        </tr>\n",
              "        <tr>\n",
              "            <td>18</td>\n",
              "            <td>2</td>\n",
              "            <td>1000</td>\n",
              "            <td>2022-04-27 20:19:28</td>\n",
              "            <td>Bob</td>\n",
              "        </tr>\n",
              "        <tr>\n",
              "            <td>19</td>\n",
              "            <td>1</td>\n",
              "            <td>1000</td>\n",
              "            <td>2022-04-28 16:49:37</td>\n",
              "            <td>Alice</td>\n",
              "        </tr>\n",
              "    </tbody>\n",
              "</table>"
            ]
          },
          "metadata": {},
          "execution_count": 32
        }
      ],
      "source": [
        "%%sql\n",
        "SELECT\n",
        "  s.sales_id, s.user_id, s.sales, s.sold_at, u.name \n",
        "FROM sales_log AS s\n",
        "LEFT OUTER JOIN users AS u\n",
        "ON s.user_id = u.user_id;\n"
      ]
    },
    {
      "cell_type": "code",
      "execution_count": 33,
      "metadata": {
        "id": "d5MmBUKNQLuy",
        "colab": {
          "base_uri": "https://localhost:8080/",
          "height": 96
        },
        "outputId": "ea3b630f-c47a-428b-c255-3ef91a2b592d"
      },
      "outputs": [
        {
          "output_type": "stream",
          "name": "stdout",
          "text": [
            " * sqlite:///tmp.sqlite3\n",
            "Done.\n"
          ]
        },
        {
          "output_type": "execute_result",
          "data": {
            "text/plain": [
              "[(7720, 19)]"
            ],
            "text/html": [
              "<table>\n",
              "    <thead>\n",
              "        <tr>\n",
              "            <th>total_sales</th>\n",
              "            <th>sales_count</th>\n",
              "        </tr>\n",
              "    </thead>\n",
              "    <tbody>\n",
              "        <tr>\n",
              "            <td>7720</td>\n",
              "            <td>19</td>\n",
              "        </tr>\n",
              "    </tbody>\n",
              "</table>"
            ]
          },
          "metadata": {},
          "execution_count": 33
        }
      ],
      "source": [
        "%%sql\n",
        "SELECT\n",
        "  SUM(sales) AS total_sales, COUNT(*) AS sales_count\n",
        "FROM sales_log;\n"
      ]
    },
    {
      "cell_type": "markdown",
      "metadata": {
        "id": "cygeEVk_p7Gs"
      },
      "source": [
        "## 集計関数とGROUP BY句\n"
      ]
    },
    {
      "cell_type": "code",
      "execution_count": 66,
      "metadata": {
        "id": "jNIj2W4-QLuy",
        "colab": {
          "base_uri": "https://localhost:8080/",
          "height": 203
        },
        "outputId": "39f25b4d-97bf-42d6-8683-e87b09392393"
      },
      "outputs": [
        {
          "output_type": "stream",
          "name": "stdout",
          "text": [
            " * sqlite:///tmp.sqlite3\n",
            "Done.\n"
          ]
        },
        {
          "output_type": "execute_result",
          "data": {
            "text/plain": [
              "[(1, 3010, 6),\n",
              " (2, 1770, 5),\n",
              " (3, 740, 3),\n",
              " (4, 110, 1),\n",
              " (5, 1100, 2),\n",
              " (7, 990, 2)]"
            ],
            "text/html": [
              "<table>\n",
              "    <thead>\n",
              "        <tr>\n",
              "            <th>user_id</th>\n",
              "            <th>daily_sales</th>\n",
              "            <th>daily_sales_count</th>\n",
              "        </tr>\n",
              "    </thead>\n",
              "    <tbody>\n",
              "        <tr>\n",
              "            <td>1</td>\n",
              "            <td>3010</td>\n",
              "            <td>6</td>\n",
              "        </tr>\n",
              "        <tr>\n",
              "            <td>2</td>\n",
              "            <td>1770</td>\n",
              "            <td>5</td>\n",
              "        </tr>\n",
              "        <tr>\n",
              "            <td>3</td>\n",
              "            <td>740</td>\n",
              "            <td>3</td>\n",
              "        </tr>\n",
              "        <tr>\n",
              "            <td>4</td>\n",
              "            <td>110</td>\n",
              "            <td>1</td>\n",
              "        </tr>\n",
              "        <tr>\n",
              "            <td>5</td>\n",
              "            <td>1100</td>\n",
              "            <td>2</td>\n",
              "        </tr>\n",
              "        <tr>\n",
              "            <td>7</td>\n",
              "            <td>990</td>\n",
              "            <td>2</td>\n",
              "        </tr>\n",
              "    </tbody>\n",
              "</table>"
            ]
          },
          "metadata": {},
          "execution_count": 66
        }
      ],
      "source": [
        "%%sql\n",
        "SELECT\n",
        "  user_id,\n",
        "  SUM(sales) AS daily_sales,\n",
        "  COUNT(*) AS daily_sales_count\n",
        "FROM sales_log\n",
        "GROUP BY user_id;\n"
      ]
    },
    {
      "cell_type": "markdown",
      "metadata": {
        "id": "bFA3vpP9te_D"
      },
      "source": [
        "## ORDER BY句\n"
      ]
    },
    {
      "cell_type": "code",
      "execution_count": 35,
      "metadata": {
        "id": "d1Jrf5AlQLuy",
        "colab": {
          "base_uri": "https://localhost:8080/",
          "height": 203
        },
        "outputId": "2aecc788-5f17-46ae-d1ec-408fbf72c225"
      },
      "outputs": [
        {
          "output_type": "stream",
          "name": "stdout",
          "text": [
            " * sqlite:///tmp.sqlite3\n",
            "Done.\n"
          ]
        },
        {
          "output_type": "execute_result",
          "data": {
            "text/plain": [
              "[(4, 'Dave', '2015-09-11'),\n",
              " (3, 'Charlie', '2011-12-28'),\n",
              " (6, 'Frank', '2010-04-17'),\n",
              " (5, 'Eve', '2009-10-07'),\n",
              " (2, 'Bob', '2008-11-02'),\n",
              " (1, 'Alice', '2008-10-10')]"
            ],
            "text/html": [
              "<table>\n",
              "    <thead>\n",
              "        <tr>\n",
              "            <th>user_id</th>\n",
              "            <th>name</th>\n",
              "            <th>register_at</th>\n",
              "        </tr>\n",
              "    </thead>\n",
              "    <tbody>\n",
              "        <tr>\n",
              "            <td>4</td>\n",
              "            <td>Dave</td>\n",
              "            <td>2015-09-11</td>\n",
              "        </tr>\n",
              "        <tr>\n",
              "            <td>3</td>\n",
              "            <td>Charlie</td>\n",
              "            <td>2011-12-28</td>\n",
              "        </tr>\n",
              "        <tr>\n",
              "            <td>6</td>\n",
              "            <td>Frank</td>\n",
              "            <td>2010-04-17</td>\n",
              "        </tr>\n",
              "        <tr>\n",
              "            <td>5</td>\n",
              "            <td>Eve</td>\n",
              "            <td>2009-10-07</td>\n",
              "        </tr>\n",
              "        <tr>\n",
              "            <td>2</td>\n",
              "            <td>Bob</td>\n",
              "            <td>2008-11-02</td>\n",
              "        </tr>\n",
              "        <tr>\n",
              "            <td>1</td>\n",
              "            <td>Alice</td>\n",
              "            <td>2008-10-10</td>\n",
              "        </tr>\n",
              "    </tbody>\n",
              "</table>"
            ]
          },
          "metadata": {},
          "execution_count": 35
        }
      ],
      "source": [
        "%%sql\n",
        "SELECT user_id, name, register_at\n",
        "FROM users\n",
        "ORDER BY register_at DESC;\n"
      ]
    },
    {
      "cell_type": "code",
      "execution_count": 36,
      "metadata": {
        "id": "AM5FOk63QLuy",
        "colab": {
          "base_uri": "https://localhost:8080/",
          "height": 203
        },
        "outputId": "49d851b4-2d09-450a-f7ea-8d2134d4ba45"
      },
      "outputs": [
        {
          "output_type": "stream",
          "name": "stdout",
          "text": [
            " * sqlite:///tmp.sqlite3\n",
            "Done.\n"
          ]
        },
        {
          "output_type": "execute_result",
          "data": {
            "text/plain": [
              "[(1, 3010), (2, 1770), (5, 1100), (7, 990), (3, 740), (4, 110)]"
            ],
            "text/html": [
              "<table>\n",
              "    <thead>\n",
              "        <tr>\n",
              "            <th>user_id</th>\n",
              "            <th>user_sales</th>\n",
              "        </tr>\n",
              "    </thead>\n",
              "    <tbody>\n",
              "        <tr>\n",
              "            <td>1</td>\n",
              "            <td>3010</td>\n",
              "        </tr>\n",
              "        <tr>\n",
              "            <td>2</td>\n",
              "            <td>1770</td>\n",
              "        </tr>\n",
              "        <tr>\n",
              "            <td>5</td>\n",
              "            <td>1100</td>\n",
              "        </tr>\n",
              "        <tr>\n",
              "            <td>7</td>\n",
              "            <td>990</td>\n",
              "        </tr>\n",
              "        <tr>\n",
              "            <td>3</td>\n",
              "            <td>740</td>\n",
              "        </tr>\n",
              "        <tr>\n",
              "            <td>4</td>\n",
              "            <td>110</td>\n",
              "        </tr>\n",
              "    </tbody>\n",
              "</table>"
            ]
          },
          "metadata": {},
          "execution_count": 36
        }
      ],
      "source": [
        "%%sql\n",
        "SELECT\n",
        "  user_id,\n",
        "  SUM(sales) AS user_sales\n",
        "FROM sales_log\n",
        "GROUP BY user_id\n",
        "ORDER BY user_sales DESC;\n"
      ]
    },
    {
      "cell_type": "code",
      "execution_count": 37,
      "metadata": {
        "id": "wS_kAFUcQLu0",
        "colab": {
          "base_uri": "https://localhost:8080/",
          "height": 481
        },
        "outputId": "3c9239a6-17dc-4d28-dc78-ab4306e82370"
      },
      "outputs": [
        {
          "output_type": "stream",
          "name": "stdout",
          "text": [
            " * sqlite:///tmp.sqlite3\n",
            "Done.\n"
          ]
        },
        {
          "output_type": "execute_result",
          "data": {
            "text/plain": [
              "[('2022-04-19', 320),\n",
              " ('2022-04-19', 250),\n",
              " ('2022-04-19', 110),\n",
              " ('2022-04-20', 100),\n",
              " ('2022-04-21', 900),\n",
              " ('2022-04-21', 320),\n",
              " ('2022-04-22', 310),\n",
              " ('2022-04-22', 200),\n",
              " ('2022-04-23', 350),\n",
              " ('2022-04-23', 210),\n",
              " ('2022-04-24', 100),\n",
              " ('2022-04-24', 50),\n",
              " ('2022-04-25', 1000),\n",
              " ('2022-04-25', 90),\n",
              " ('2022-04-26', 1000),\n",
              " ('2022-04-26', 90),\n",
              " ('2022-04-27', 1000),\n",
              " ('2022-04-27', 320),\n",
              " ('2022-04-28', 1000)]"
            ],
            "text/html": [
              "<table>\n",
              "    <thead>\n",
              "        <tr>\n",
              "            <th>date</th>\n",
              "            <th>sales</th>\n",
              "        </tr>\n",
              "    </thead>\n",
              "    <tbody>\n",
              "        <tr>\n",
              "            <td>2022-04-19</td>\n",
              "            <td>320</td>\n",
              "        </tr>\n",
              "        <tr>\n",
              "            <td>2022-04-19</td>\n",
              "            <td>250</td>\n",
              "        </tr>\n",
              "        <tr>\n",
              "            <td>2022-04-19</td>\n",
              "            <td>110</td>\n",
              "        </tr>\n",
              "        <tr>\n",
              "            <td>2022-04-20</td>\n",
              "            <td>100</td>\n",
              "        </tr>\n",
              "        <tr>\n",
              "            <td>2022-04-21</td>\n",
              "            <td>900</td>\n",
              "        </tr>\n",
              "        <tr>\n",
              "            <td>2022-04-21</td>\n",
              "            <td>320</td>\n",
              "        </tr>\n",
              "        <tr>\n",
              "            <td>2022-04-22</td>\n",
              "            <td>310</td>\n",
              "        </tr>\n",
              "        <tr>\n",
              "            <td>2022-04-22</td>\n",
              "            <td>200</td>\n",
              "        </tr>\n",
              "        <tr>\n",
              "            <td>2022-04-23</td>\n",
              "            <td>350</td>\n",
              "        </tr>\n",
              "        <tr>\n",
              "            <td>2022-04-23</td>\n",
              "            <td>210</td>\n",
              "        </tr>\n",
              "        <tr>\n",
              "            <td>2022-04-24</td>\n",
              "            <td>100</td>\n",
              "        </tr>\n",
              "        <tr>\n",
              "            <td>2022-04-24</td>\n",
              "            <td>50</td>\n",
              "        </tr>\n",
              "        <tr>\n",
              "            <td>2022-04-25</td>\n",
              "            <td>1000</td>\n",
              "        </tr>\n",
              "        <tr>\n",
              "            <td>2022-04-25</td>\n",
              "            <td>90</td>\n",
              "        </tr>\n",
              "        <tr>\n",
              "            <td>2022-04-26</td>\n",
              "            <td>1000</td>\n",
              "        </tr>\n",
              "        <tr>\n",
              "            <td>2022-04-26</td>\n",
              "            <td>90</td>\n",
              "        </tr>\n",
              "        <tr>\n",
              "            <td>2022-04-27</td>\n",
              "            <td>1000</td>\n",
              "        </tr>\n",
              "        <tr>\n",
              "            <td>2022-04-27</td>\n",
              "            <td>320</td>\n",
              "        </tr>\n",
              "        <tr>\n",
              "            <td>2022-04-28</td>\n",
              "            <td>1000</td>\n",
              "        </tr>\n",
              "    </tbody>\n",
              "</table>"
            ]
          },
          "metadata": {},
          "execution_count": 37
        }
      ],
      "source": [
        "%%sql\n",
        "SELECT SUBSTR(sold_at, 1, 10) AS date, sales\n",
        "FROM sales_log\n",
        "ORDER BY SUBSTR(sold_at, 1, 10), sales DESC;\n"
      ]
    },
    {
      "cell_type": "code",
      "execution_count": 38,
      "metadata": {
        "id": "aRdpw1OKQLu0",
        "colab": {
          "base_uri": "https://localhost:8080/",
          "height": 203
        },
        "outputId": "68c84f32-4002-4d09-cfbc-cdd227aa72cc"
      },
      "outputs": [
        {
          "output_type": "stream",
          "name": "stdout",
          "text": [
            " * sqlite:///tmp.sqlite3\n",
            "Done.\n"
          ]
        },
        {
          "output_type": "execute_result",
          "data": {
            "text/plain": [
              "[(1, 'Alice', '2008-10-10'),\n",
              " (2, 'Bob', '2008-11-02'),\n",
              " (3, 'Charlie', '2011-12-28'),\n",
              " (4, 'Dave', '2015-09-11'),\n",
              " (5, 'Eve', '2009-10-07'),\n",
              " (6, 'Frank', '2010-04-17')]"
            ],
            "text/html": [
              "<table>\n",
              "    <thead>\n",
              "        <tr>\n",
              "            <th>user_id</th>\n",
              "            <th>name</th>\n",
              "            <th>register_at</th>\n",
              "        </tr>\n",
              "    </thead>\n",
              "    <tbody>\n",
              "        <tr>\n",
              "            <td>1</td>\n",
              "            <td>Alice</td>\n",
              "            <td>2008-10-10</td>\n",
              "        </tr>\n",
              "        <tr>\n",
              "            <td>2</td>\n",
              "            <td>Bob</td>\n",
              "            <td>2008-11-02</td>\n",
              "        </tr>\n",
              "        <tr>\n",
              "            <td>3</td>\n",
              "            <td>Charlie</td>\n",
              "            <td>2011-12-28</td>\n",
              "        </tr>\n",
              "        <tr>\n",
              "            <td>4</td>\n",
              "            <td>Dave</td>\n",
              "            <td>2015-09-11</td>\n",
              "        </tr>\n",
              "        <tr>\n",
              "            <td>5</td>\n",
              "            <td>Eve</td>\n",
              "            <td>2009-10-07</td>\n",
              "        </tr>\n",
              "        <tr>\n",
              "            <td>6</td>\n",
              "            <td>Frank</td>\n",
              "            <td>2010-04-17</td>\n",
              "        </tr>\n",
              "    </tbody>\n",
              "</table>"
            ]
          },
          "metadata": {},
          "execution_count": 38
        }
      ],
      "source": [
        "%%sql\n",
        "SELECT user_id, name, register_at\n",
        "FROM users\n",
        "ORDER BY name, user_id, register_at;\n"
      ]
    },
    {
      "cell_type": "code",
      "execution_count": 39,
      "metadata": {
        "id": "1OVnvwGbQLu0",
        "colab": {
          "base_uri": "https://localhost:8080/",
          "height": 203
        },
        "outputId": "47854bb6-b374-4ee7-9190-6ac37c8b40cf"
      },
      "outputs": [
        {
          "output_type": "stream",
          "name": "stdout",
          "text": [
            " * sqlite:///tmp.sqlite3\n",
            "Done.\n"
          ]
        },
        {
          "output_type": "execute_result",
          "data": {
            "text/plain": [
              "[(1, 'Alice', '2008-10-10'),\n",
              " (2, 'Bob', '2008-11-02'),\n",
              " (3, 'Charlie', '2011-12-28'),\n",
              " (4, 'Dave', '2015-09-11'),\n",
              " (5, 'Eve', '2009-10-07'),\n",
              " (6, 'Frank', '2010-04-17')]"
            ],
            "text/html": [
              "<table>\n",
              "    <thead>\n",
              "        <tr>\n",
              "            <th>user_id</th>\n",
              "            <th>name</th>\n",
              "            <th>register_at</th>\n",
              "        </tr>\n",
              "    </thead>\n",
              "    <tbody>\n",
              "        <tr>\n",
              "            <td>1</td>\n",
              "            <td>Alice</td>\n",
              "            <td>2008-10-10</td>\n",
              "        </tr>\n",
              "        <tr>\n",
              "            <td>2</td>\n",
              "            <td>Bob</td>\n",
              "            <td>2008-11-02</td>\n",
              "        </tr>\n",
              "        <tr>\n",
              "            <td>3</td>\n",
              "            <td>Charlie</td>\n",
              "            <td>2011-12-28</td>\n",
              "        </tr>\n",
              "        <tr>\n",
              "            <td>4</td>\n",
              "            <td>Dave</td>\n",
              "            <td>2015-09-11</td>\n",
              "        </tr>\n",
              "        <tr>\n",
              "            <td>5</td>\n",
              "            <td>Eve</td>\n",
              "            <td>2009-10-07</td>\n",
              "        </tr>\n",
              "        <tr>\n",
              "            <td>6</td>\n",
              "            <td>Frank</td>\n",
              "            <td>2010-04-17</td>\n",
              "        </tr>\n",
              "    </tbody>\n",
              "</table>"
            ]
          },
          "metadata": {},
          "execution_count": 39
        }
      ],
      "source": [
        "%%sql\n",
        "SELECT user_id, name, register_at\n",
        "FROM users\n",
        "ORDER BY 2, 1, 3;\n"
      ]
    },
    {
      "cell_type": "markdown",
      "metadata": {
        "id": "UFxlSb0zthUy"
      },
      "source": [
        "### LIMIT句\n"
      ]
    },
    {
      "cell_type": "code",
      "execution_count": 40,
      "metadata": {
        "id": "LBmbu56wQLu0",
        "colab": {
          "base_uri": "https://localhost:8080/",
          "height": 182
        },
        "outputId": "c182ecdd-6706-4f99-ec4c-c6dc55493c2b"
      },
      "outputs": [
        {
          "output_type": "stream",
          "name": "stdout",
          "text": [
            " * sqlite:///tmp.sqlite3\n",
            "Done.\n"
          ]
        },
        {
          "output_type": "execute_result",
          "data": {
            "text/plain": [
              "[(1, 1, 250, '2022-04-19 12:34:23'),\n",
              " (2, 3, 320, '2022-04-19 14:29:31'),\n",
              " (3, 4, 110, '2022-04-19 22:40:28'),\n",
              " (4, 5, 100, '2022-04-20 17:52:53'),\n",
              " (5, 7, 900, '2022-04-21 09:50:19')]"
            ],
            "text/html": [
              "<table>\n",
              "    <thead>\n",
              "        <tr>\n",
              "            <th>sales_id</th>\n",
              "            <th>user_id</th>\n",
              "            <th>sales</th>\n",
              "            <th>sold_at</th>\n",
              "        </tr>\n",
              "    </thead>\n",
              "    <tbody>\n",
              "        <tr>\n",
              "            <td>1</td>\n",
              "            <td>1</td>\n",
              "            <td>250</td>\n",
              "            <td>2022-04-19 12:34:23</td>\n",
              "        </tr>\n",
              "        <tr>\n",
              "            <td>2</td>\n",
              "            <td>3</td>\n",
              "            <td>320</td>\n",
              "            <td>2022-04-19 14:29:31</td>\n",
              "        </tr>\n",
              "        <tr>\n",
              "            <td>3</td>\n",
              "            <td>4</td>\n",
              "            <td>110</td>\n",
              "            <td>2022-04-19 22:40:28</td>\n",
              "        </tr>\n",
              "        <tr>\n",
              "            <td>4</td>\n",
              "            <td>5</td>\n",
              "            <td>100</td>\n",
              "            <td>2022-04-20 17:52:53</td>\n",
              "        </tr>\n",
              "        <tr>\n",
              "            <td>5</td>\n",
              "            <td>7</td>\n",
              "            <td>900</td>\n",
              "            <td>2022-04-21 09:50:19</td>\n",
              "        </tr>\n",
              "    </tbody>\n",
              "</table>"
            ]
          },
          "metadata": {},
          "execution_count": 40
        }
      ],
      "source": [
        "%%sql\n",
        "SELECT *\n",
        "FROM sales_log\n",
        "LIMIT 5;\n"
      ]
    },
    {
      "cell_type": "code",
      "execution_count": 41,
      "metadata": {
        "id": "iopCNuB4QLu0",
        "colab": {
          "base_uri": "https://localhost:8080/",
          "height": 182
        },
        "outputId": "7d12cd32-1890-4df8-a354-de77361aa93c"
      },
      "outputs": [
        {
          "output_type": "stream",
          "name": "stdout",
          "text": [
            " * sqlite:///tmp.sqlite3\n",
            "Done.\n"
          ]
        },
        {
          "output_type": "execute_result",
          "data": {
            "text/plain": [
              "[(14, 5, 1000, '2022-04-25 18:14:53'),\n",
              " (15, 1, 1000, '2022-04-26 06:11:53'),\n",
              " (18, 2, 1000, '2022-04-27 20:19:28'),\n",
              " (19, 1, 1000, '2022-04-28 16:49:37'),\n",
              " (5, 7, 900, '2022-04-21 09:50:19')]"
            ],
            "text/html": [
              "<table>\n",
              "    <thead>\n",
              "        <tr>\n",
              "            <th>sales_id</th>\n",
              "            <th>user_id</th>\n",
              "            <th>sales</th>\n",
              "            <th>sold_at</th>\n",
              "        </tr>\n",
              "    </thead>\n",
              "    <tbody>\n",
              "        <tr>\n",
              "            <td>14</td>\n",
              "            <td>5</td>\n",
              "            <td>1000</td>\n",
              "            <td>2022-04-25 18:14:53</td>\n",
              "        </tr>\n",
              "        <tr>\n",
              "            <td>15</td>\n",
              "            <td>1</td>\n",
              "            <td>1000</td>\n",
              "            <td>2022-04-26 06:11:53</td>\n",
              "        </tr>\n",
              "        <tr>\n",
              "            <td>18</td>\n",
              "            <td>2</td>\n",
              "            <td>1000</td>\n",
              "            <td>2022-04-27 20:19:28</td>\n",
              "        </tr>\n",
              "        <tr>\n",
              "            <td>19</td>\n",
              "            <td>1</td>\n",
              "            <td>1000</td>\n",
              "            <td>2022-04-28 16:49:37</td>\n",
              "        </tr>\n",
              "        <tr>\n",
              "            <td>5</td>\n",
              "            <td>7</td>\n",
              "            <td>900</td>\n",
              "            <td>2022-04-21 09:50:19</td>\n",
              "        </tr>\n",
              "    </tbody>\n",
              "</table>"
            ]
          },
          "metadata": {},
          "execution_count": 41
        }
      ],
      "source": [
        "%%sql\n",
        "SELECT *\n",
        "FROM sales_log\n",
        "ORDER BY sales DESC\n",
        "LIMIT 5;\n"
      ]
    },
    {
      "cell_type": "markdown",
      "metadata": {
        "id": "A1t1Q2m4tkeX"
      },
      "source": [
        "## 式\n"
      ]
    },
    {
      "cell_type": "markdown",
      "metadata": {
        "id": "SLifAJbetnSy"
      },
      "source": [
        "### 演算子\n"
      ]
    },
    {
      "cell_type": "code",
      "execution_count": 42,
      "metadata": {
        "id": "2guZjBT4QLu0",
        "colab": {
          "base_uri": "https://localhost:8080/",
          "height": 139
        },
        "outputId": "6c156337-c6e0-4b68-9e99-786d75ebd801"
      },
      "outputs": [
        {
          "output_type": "stream",
          "name": "stdout",
          "text": [
            " * sqlite:///tmp.sqlite3\n",
            "Done.\n"
          ]
        },
        {
          "output_type": "execute_result",
          "data": {
            "text/plain": [
              "[(3, 'Charlie', '1999-09-04', '2011-12-28'),\n",
              " (4, 'Dave', '2001-03-21', '2015-09-11'),\n",
              " (5, 'Eve', '1977-08-14', '2009-10-07')]"
            ],
            "text/html": [
              "<table>\n",
              "    <thead>\n",
              "        <tr>\n",
              "            <th>user_id</th>\n",
              "            <th>name</th>\n",
              "            <th>born_at</th>\n",
              "            <th>register_at</th>\n",
              "        </tr>\n",
              "    </thead>\n",
              "    <tbody>\n",
              "        <tr>\n",
              "            <td>3</td>\n",
              "            <td>Charlie</td>\n",
              "            <td>1999-09-04</td>\n",
              "            <td>2011-12-28</td>\n",
              "        </tr>\n",
              "        <tr>\n",
              "            <td>4</td>\n",
              "            <td>Dave</td>\n",
              "            <td>2001-03-21</td>\n",
              "            <td>2015-09-11</td>\n",
              "        </tr>\n",
              "        <tr>\n",
              "            <td>5</td>\n",
              "            <td>Eve</td>\n",
              "            <td>1977-08-14</td>\n",
              "            <td>2009-10-07</td>\n",
              "        </tr>\n",
              "    </tbody>\n",
              "</table>"
            ]
          },
          "metadata": {},
          "execution_count": 42
        }
      ],
      "source": [
        "%%sql\n",
        "SELECT * \n",
        "FROM users\n",
        "WHERE user_id BETWEEN 3 AND 5;\n"
      ]
    },
    {
      "cell_type": "code",
      "execution_count": 43,
      "metadata": {
        "id": "fJUn5qHKQLu0",
        "colab": {
          "base_uri": "https://localhost:8080/",
          "height": 139
        },
        "outputId": "94ef5ce1-8400-4f34-e4f7-692955cbeee3"
      },
      "outputs": [
        {
          "output_type": "stream",
          "name": "stdout",
          "text": [
            " * sqlite:///tmp.sqlite3\n",
            "Done.\n"
          ]
        },
        {
          "output_type": "execute_result",
          "data": {
            "text/plain": [
              "[(3, 'Charlie', '1999-09-04', '2011-12-28'),\n",
              " (4, 'Dave', '2001-03-21', '2015-09-11'),\n",
              " (5, 'Eve', '1977-08-14', '2009-10-07')]"
            ],
            "text/html": [
              "<table>\n",
              "    <thead>\n",
              "        <tr>\n",
              "            <th>user_id</th>\n",
              "            <th>name</th>\n",
              "            <th>born_at</th>\n",
              "            <th>register_at</th>\n",
              "        </tr>\n",
              "    </thead>\n",
              "    <tbody>\n",
              "        <tr>\n",
              "            <td>3</td>\n",
              "            <td>Charlie</td>\n",
              "            <td>1999-09-04</td>\n",
              "            <td>2011-12-28</td>\n",
              "        </tr>\n",
              "        <tr>\n",
              "            <td>4</td>\n",
              "            <td>Dave</td>\n",
              "            <td>2001-03-21</td>\n",
              "            <td>2015-09-11</td>\n",
              "        </tr>\n",
              "        <tr>\n",
              "            <td>5</td>\n",
              "            <td>Eve</td>\n",
              "            <td>1977-08-14</td>\n",
              "            <td>2009-10-07</td>\n",
              "        </tr>\n",
              "    </tbody>\n",
              "</table>"
            ]
          },
          "metadata": {},
          "execution_count": 43
        }
      ],
      "source": [
        "%%sql\n",
        "SELECT * \n",
        "FROM users\n",
        "WHERE user_id IN (3, 4, 5);\n"
      ]
    },
    {
      "cell_type": "markdown",
      "metadata": {
        "id": "j6mmQRudtpPy"
      },
      "source": [
        "### 関数\n"
      ]
    },
    {
      "cell_type": "code",
      "execution_count": 44,
      "metadata": {
        "id": "OCq77qLbk55H",
        "colab": {
          "base_uri": "https://localhost:8080/",
          "height": 481
        },
        "outputId": "96a84ed8-13e3-4834-d869-44d55b553898"
      },
      "outputs": [
        {
          "output_type": "stream",
          "name": "stdout",
          "text": [
            " * sqlite:///tmp.sqlite3\n",
            "Done.\n"
          ]
        },
        {
          "output_type": "execute_result",
          "data": {
            "text/plain": [
              "[('2022-04-19', 250),\n",
              " ('2022-04-19', 320),\n",
              " ('2022-04-19', 110),\n",
              " ('2022-04-20', 100),\n",
              " ('2022-04-21', 900),\n",
              " ('2022-04-21', 320),\n",
              " ('2022-04-22', 200),\n",
              " ('2022-04-22', 310),\n",
              " ('2022-04-23', 210),\n",
              " ('2022-04-23', 350),\n",
              " ('2022-04-24', 100),\n",
              " ('2022-04-24', 50),\n",
              " ('2022-04-25', 90),\n",
              " ('2022-04-25', 1000),\n",
              " ('2022-04-26', 1000),\n",
              " ('2022-04-26', 90),\n",
              " ('2022-04-27', 320),\n",
              " ('2022-04-27', 1000),\n",
              " ('2022-04-28', 1000)]"
            ],
            "text/html": [
              "<table>\n",
              "    <thead>\n",
              "        <tr>\n",
              "            <th>date</th>\n",
              "            <th>sales</th>\n",
              "        </tr>\n",
              "    </thead>\n",
              "    <tbody>\n",
              "        <tr>\n",
              "            <td>2022-04-19</td>\n",
              "            <td>250</td>\n",
              "        </tr>\n",
              "        <tr>\n",
              "            <td>2022-04-19</td>\n",
              "            <td>320</td>\n",
              "        </tr>\n",
              "        <tr>\n",
              "            <td>2022-04-19</td>\n",
              "            <td>110</td>\n",
              "        </tr>\n",
              "        <tr>\n",
              "            <td>2022-04-20</td>\n",
              "            <td>100</td>\n",
              "        </tr>\n",
              "        <tr>\n",
              "            <td>2022-04-21</td>\n",
              "            <td>900</td>\n",
              "        </tr>\n",
              "        <tr>\n",
              "            <td>2022-04-21</td>\n",
              "            <td>320</td>\n",
              "        </tr>\n",
              "        <tr>\n",
              "            <td>2022-04-22</td>\n",
              "            <td>200</td>\n",
              "        </tr>\n",
              "        <tr>\n",
              "            <td>2022-04-22</td>\n",
              "            <td>310</td>\n",
              "        </tr>\n",
              "        <tr>\n",
              "            <td>2022-04-23</td>\n",
              "            <td>210</td>\n",
              "        </tr>\n",
              "        <tr>\n",
              "            <td>2022-04-23</td>\n",
              "            <td>350</td>\n",
              "        </tr>\n",
              "        <tr>\n",
              "            <td>2022-04-24</td>\n",
              "            <td>100</td>\n",
              "        </tr>\n",
              "        <tr>\n",
              "            <td>2022-04-24</td>\n",
              "            <td>50</td>\n",
              "        </tr>\n",
              "        <tr>\n",
              "            <td>2022-04-25</td>\n",
              "            <td>90</td>\n",
              "        </tr>\n",
              "        <tr>\n",
              "            <td>2022-04-25</td>\n",
              "            <td>1000</td>\n",
              "        </tr>\n",
              "        <tr>\n",
              "            <td>2022-04-26</td>\n",
              "            <td>1000</td>\n",
              "        </tr>\n",
              "        <tr>\n",
              "            <td>2022-04-26</td>\n",
              "            <td>90</td>\n",
              "        </tr>\n",
              "        <tr>\n",
              "            <td>2022-04-27</td>\n",
              "            <td>320</td>\n",
              "        </tr>\n",
              "        <tr>\n",
              "            <td>2022-04-27</td>\n",
              "            <td>1000</td>\n",
              "        </tr>\n",
              "        <tr>\n",
              "            <td>2022-04-28</td>\n",
              "            <td>1000</td>\n",
              "        </tr>\n",
              "    </tbody>\n",
              "</table>"
            ]
          },
          "metadata": {},
          "execution_count": 44
        }
      ],
      "source": [
        "%%sql\n",
        "SELECT SUBSTR(sold_at, 1, 10) AS date, sales\n",
        "FROM sales_log;"
      ]
    },
    {
      "cell_type": "markdown",
      "metadata": {
        "id": "Jnk0q-u1trJy"
      },
      "source": [
        "### パターンマッチ\n"
      ]
    },
    {
      "cell_type": "code",
      "execution_count": 47,
      "metadata": {
        "id": "LAfwBZNLQLu0",
        "colab": {
          "base_uri": "https://localhost:8080/",
          "height": 161
        },
        "outputId": "09a91e90-9f8c-4868-b0b2-7decef9ee5bb"
      },
      "outputs": [
        {
          "output_type": "stream",
          "name": "stdout",
          "text": [
            " * sqlite:///tmp.sqlite3\n",
            "Done.\n"
          ]
        },
        {
          "output_type": "execute_result",
          "data": {
            "text/plain": [
              "[('Alice',), ('Charlie',), ('Dave',), ('Eve',)]"
            ],
            "text/html": [
              "<table>\n",
              "    <thead>\n",
              "        <tr>\n",
              "            <th>name</th>\n",
              "        </tr>\n",
              "    </thead>\n",
              "    <tbody>\n",
              "        <tr>\n",
              "            <td>Alice</td>\n",
              "        </tr>\n",
              "        <tr>\n",
              "            <td>Charlie</td>\n",
              "        </tr>\n",
              "        <tr>\n",
              "            <td>Dave</td>\n",
              "        </tr>\n",
              "        <tr>\n",
              "            <td>Eve</td>\n",
              "        </tr>\n",
              "    </tbody>\n",
              "</table>"
            ]
          },
          "metadata": {},
          "execution_count": 47
        }
      ],
      "source": [
        "%%sql\n",
        "SELECT name\n",
        "FROM users\n",
        "WHERE name LIKE '%e';\n"
      ]
    },
    {
      "cell_type": "code",
      "execution_count": 48,
      "metadata": {
        "id": "PwvdyZ6uQLu2",
        "colab": {
          "base_uri": "https://localhost:8080/",
          "height": 161
        },
        "outputId": "325a8b00-08be-4480-d39a-9eb75c3630e1"
      },
      "outputs": [
        {
          "output_type": "stream",
          "name": "stdout",
          "text": [
            " * sqlite:///tmp.sqlite3\n",
            "Done.\n"
          ]
        },
        {
          "output_type": "execute_result",
          "data": {
            "text/plain": [
              "[('Alice',), ('Charlie',), ('Dave',), ('Eve',)]"
            ],
            "text/html": [
              "<table>\n",
              "    <thead>\n",
              "        <tr>\n",
              "            <th>name</th>\n",
              "        </tr>\n",
              "    </thead>\n",
              "    <tbody>\n",
              "        <tr>\n",
              "            <td>Alice</td>\n",
              "        </tr>\n",
              "        <tr>\n",
              "            <td>Charlie</td>\n",
              "        </tr>\n",
              "        <tr>\n",
              "            <td>Dave</td>\n",
              "        </tr>\n",
              "        <tr>\n",
              "            <td>Eve</td>\n",
              "        </tr>\n",
              "    </tbody>\n",
              "</table>"
            ]
          },
          "metadata": {},
          "execution_count": 48
        }
      ],
      "source": [
        "%%sql\n",
        "SELECT name\n",
        "FROM users\n",
        "WHERE name REGEXP 'e$';\n"
      ]
    },
    {
      "cell_type": "markdown",
      "metadata": {
        "id": "WFMd5g-LttN7"
      },
      "source": [
        "### 条件分岐を表す式\n"
      ]
    },
    {
      "cell_type": "code",
      "execution_count": 49,
      "metadata": {
        "id": "540Z3U3cQLu2",
        "colab": {
          "base_uri": "https://localhost:8080/",
          "height": 203
        },
        "outputId": "1550653c-06df-42b2-936a-82a480e98941"
      },
      "outputs": [
        {
          "output_type": "stream",
          "name": "stdout",
          "text": [
            " * sqlite:///tmp.sqlite3\n",
            "Done.\n"
          ]
        },
        {
          "output_type": "execute_result",
          "data": {
            "text/plain": [
              "[(1, 'Alice', '1991-08-31', '2008-10-10', '早期会員'),\n",
              " (2, 'Bob', '1992-03-12', '2008-11-02', '早期会員'),\n",
              " (3, 'Charlie', '1999-09-04', '2011-12-28', '一般会員'),\n",
              " (4, 'Dave', '2001-03-21', '2015-09-11', '一般会員'),\n",
              " (5, 'Eve', '1977-08-14', '2009-10-07', '早期会員'),\n",
              " (6, 'Frank', '1989-10-25', '2010-04-17', '一般会員')]"
            ],
            "text/html": [
              "<table>\n",
              "    <thead>\n",
              "        <tr>\n",
              "            <th>user_id</th>\n",
              "            <th>name</th>\n",
              "            <th>born_at</th>\n",
              "            <th>register_at</th>\n",
              "            <th>user_class</th>\n",
              "        </tr>\n",
              "    </thead>\n",
              "    <tbody>\n",
              "        <tr>\n",
              "            <td>1</td>\n",
              "            <td>Alice</td>\n",
              "            <td>1991-08-31</td>\n",
              "            <td>2008-10-10</td>\n",
              "            <td>早期会員</td>\n",
              "        </tr>\n",
              "        <tr>\n",
              "            <td>2</td>\n",
              "            <td>Bob</td>\n",
              "            <td>1992-03-12</td>\n",
              "            <td>2008-11-02</td>\n",
              "            <td>早期会員</td>\n",
              "        </tr>\n",
              "        <tr>\n",
              "            <td>3</td>\n",
              "            <td>Charlie</td>\n",
              "            <td>1999-09-04</td>\n",
              "            <td>2011-12-28</td>\n",
              "            <td>一般会員</td>\n",
              "        </tr>\n",
              "        <tr>\n",
              "            <td>4</td>\n",
              "            <td>Dave</td>\n",
              "            <td>2001-03-21</td>\n",
              "            <td>2015-09-11</td>\n",
              "            <td>一般会員</td>\n",
              "        </tr>\n",
              "        <tr>\n",
              "            <td>5</td>\n",
              "            <td>Eve</td>\n",
              "            <td>1977-08-14</td>\n",
              "            <td>2009-10-07</td>\n",
              "            <td>早期会員</td>\n",
              "        </tr>\n",
              "        <tr>\n",
              "            <td>6</td>\n",
              "            <td>Frank</td>\n",
              "            <td>1989-10-25</td>\n",
              "            <td>2010-04-17</td>\n",
              "            <td>一般会員</td>\n",
              "        </tr>\n",
              "    </tbody>\n",
              "</table>"
            ]
          },
          "metadata": {},
          "execution_count": 49
        }
      ],
      "source": [
        "%%sql\n",
        "SELECT\n",
        "  *,\n",
        "  CASE\n",
        "    WHEN register_at <= \"2009-12-31\" THEN \"早期会員\"\n",
        "    ELSE \"一般会員\"\n",
        "  END AS user_class\n",
        "FROM users;\n"
      ]
    },
    {
      "cell_type": "code",
      "execution_count": 51,
      "metadata": {
        "id": "Hm8fRYtNQLu3",
        "colab": {
          "base_uri": "https://localhost:8080/",
          "height": 96
        },
        "outputId": "14c96975-5c3c-4191-c68b-20a0a0b376cd"
      },
      "outputs": [
        {
          "output_type": "stream",
          "name": "stdout",
          "text": [
            " * sqlite:///tmp.sqlite3\n",
            "Done.\n"
          ]
        },
        {
          "output_type": "execute_result",
          "data": {
            "text/plain": [
              "[(13, 19)]"
            ],
            "text/html": [
              "<table>\n",
              "    <thead>\n",
              "        <tr>\n",
              "            <th>count_gteq_200</th>\n",
              "            <th>count</th>\n",
              "        </tr>\n",
              "    </thead>\n",
              "    <tbody>\n",
              "        <tr>\n",
              "            <td>13</td>\n",
              "            <td>19</td>\n",
              "        </tr>\n",
              "    </tbody>\n",
              "</table>"
            ]
          },
          "metadata": {},
          "execution_count": 51
        }
      ],
      "source": [
        "%%sql\n",
        "SELECT\n",
        "  COUNT(\n",
        "    CASE WHEN sales >= 200 THEN 1 END\n",
        "  ) AS count_gteq_200,\n",
        "  COUNT(1) AS count\n",
        "FROM sales_log;\n"
      ]
    },
    {
      "cell_type": "markdown",
      "metadata": {
        "id": "RO2Ak09Atyik"
      },
      "source": [
        "\n",
        "\n",
        "```\n",
        "# これはコードとして書式設定されます\n",
        "```\n",
        "\n",
        "## 集合演算子\n"
      ]
    },
    {
      "cell_type": "markdown",
      "metadata": {
        "id": "Wel8jnBkt0q9"
      },
      "source": [
        "### UNION\n"
      ]
    },
    {
      "cell_type": "code",
      "execution_count": 52,
      "metadata": {
        "id": "NQBmBeZnQLu3",
        "colab": {
          "base_uri": "https://localhost:8080/",
          "height": 161
        },
        "outputId": "ce3190e7-29f1-48b4-a81f-12f01c06eca9"
      },
      "outputs": [
        {
          "output_type": "stream",
          "name": "stdout",
          "text": [
            " * sqlite:///tmp.sqlite3\n",
            "Done.\n"
          ]
        },
        {
          "output_type": "execute_result",
          "data": {
            "text/plain": [
              "[(2, 'Bob', '1992-03-12', '2008-11-02'),\n",
              " (3, 'Charlie', '1999-09-04', '2011-12-28'),\n",
              " (4, 'Dave', '2001-03-21', '2015-09-11'),\n",
              " (5, 'Eve', '1977-08-14', '2009-10-07')]"
            ],
            "text/html": [
              "<table>\n",
              "    <thead>\n",
              "        <tr>\n",
              "            <th>user_id</th>\n",
              "            <th>name</th>\n",
              "            <th>born_at</th>\n",
              "            <th>register_at</th>\n",
              "        </tr>\n",
              "    </thead>\n",
              "    <tbody>\n",
              "        <tr>\n",
              "            <td>2</td>\n",
              "            <td>Bob</td>\n",
              "            <td>1992-03-12</td>\n",
              "            <td>2008-11-02</td>\n",
              "        </tr>\n",
              "        <tr>\n",
              "            <td>3</td>\n",
              "            <td>Charlie</td>\n",
              "            <td>1999-09-04</td>\n",
              "            <td>2011-12-28</td>\n",
              "        </tr>\n",
              "        <tr>\n",
              "            <td>4</td>\n",
              "            <td>Dave</td>\n",
              "            <td>2001-03-21</td>\n",
              "            <td>2015-09-11</td>\n",
              "        </tr>\n",
              "        <tr>\n",
              "            <td>5</td>\n",
              "            <td>Eve</td>\n",
              "            <td>1977-08-14</td>\n",
              "            <td>2009-10-07</td>\n",
              "        </tr>\n",
              "    </tbody>\n",
              "</table>"
            ]
          },
          "metadata": {},
          "execution_count": 52
        }
      ],
      "source": [
        "%%sql\n",
        "SELECT *\n",
        "FROM users\n",
        "WHERE user_id BETWEEN 2 AND 4\n",
        "UNION \n",
        "SELECT *\n",
        "FROM users\n",
        "WHERE user_id BETWEEN 3 AND 5;\n"
      ]
    },
    {
      "cell_type": "code",
      "execution_count": 54,
      "metadata": {
        "id": "5ywBGCrqQLu3",
        "colab": {
          "base_uri": "https://localhost:8080/",
          "height": 203
        },
        "outputId": "4fafbc10-e51b-4b94-fc40-7e763420143b"
      },
      "outputs": [
        {
          "output_type": "stream",
          "name": "stdout",
          "text": [
            " * sqlite:///tmp.sqlite3\n",
            "Done.\n"
          ]
        },
        {
          "output_type": "execute_result",
          "data": {
            "text/plain": [
              "[(2, 'Bob', '1992-03-12', '2008-11-02'),\n",
              " (3, 'Charlie', '1999-09-04', '2011-12-28'),\n",
              " (4, 'Dave', '2001-03-21', '2015-09-11'),\n",
              " (3, 'Charlie', '1999-09-04', '2011-12-28'),\n",
              " (4, 'Dave', '2001-03-21', '2015-09-11'),\n",
              " (5, 'Eve', '1977-08-14', '2009-10-07')]"
            ],
            "text/html": [
              "<table>\n",
              "    <thead>\n",
              "        <tr>\n",
              "            <th>user_id</th>\n",
              "            <th>name</th>\n",
              "            <th>born_at</th>\n",
              "            <th>register_at</th>\n",
              "        </tr>\n",
              "    </thead>\n",
              "    <tbody>\n",
              "        <tr>\n",
              "            <td>2</td>\n",
              "            <td>Bob</td>\n",
              "            <td>1992-03-12</td>\n",
              "            <td>2008-11-02</td>\n",
              "        </tr>\n",
              "        <tr>\n",
              "            <td>3</td>\n",
              "            <td>Charlie</td>\n",
              "            <td>1999-09-04</td>\n",
              "            <td>2011-12-28</td>\n",
              "        </tr>\n",
              "        <tr>\n",
              "            <td>4</td>\n",
              "            <td>Dave</td>\n",
              "            <td>2001-03-21</td>\n",
              "            <td>2015-09-11</td>\n",
              "        </tr>\n",
              "        <tr>\n",
              "            <td>3</td>\n",
              "            <td>Charlie</td>\n",
              "            <td>1999-09-04</td>\n",
              "            <td>2011-12-28</td>\n",
              "        </tr>\n",
              "        <tr>\n",
              "            <td>4</td>\n",
              "            <td>Dave</td>\n",
              "            <td>2001-03-21</td>\n",
              "            <td>2015-09-11</td>\n",
              "        </tr>\n",
              "        <tr>\n",
              "            <td>5</td>\n",
              "            <td>Eve</td>\n",
              "            <td>1977-08-14</td>\n",
              "            <td>2009-10-07</td>\n",
              "        </tr>\n",
              "    </tbody>\n",
              "</table>"
            ]
          },
          "metadata": {},
          "execution_count": 54
        }
      ],
      "source": [
        "%%sql\n",
        "SELECT *\n",
        "FROM users\n",
        "WHERE user_id BETWEEN 2 AND 4\n",
        "UNION ALL\n",
        "SELECT *\n",
        "FROM users\n",
        "WHERE user_id BETWEEN 3 AND 5;\n"
      ]
    },
    {
      "cell_type": "markdown",
      "metadata": {
        "id": "ViIpbYaDt2y3"
      },
      "source": [
        "# データベースの操作\n"
      ]
    },
    {
      "cell_type": "markdown",
      "metadata": {
        "id": "b9blcea0t4V1"
      },
      "source": [
        "## CREATE TABLE\n"
      ]
    },
    {
      "cell_type": "code",
      "execution_count": 55,
      "metadata": {
        "id": "YbQ0_yWHQLu3",
        "colab": {
          "base_uri": "https://localhost:8080/"
        },
        "outputId": "7ef49cb8-8588-40a1-c30d-59d1d4564c29"
      },
      "outputs": [
        {
          "output_type": "stream",
          "name": "stdout",
          "text": [
            " * sqlite:///tmp.sqlite3\n",
            "Done.\n"
          ]
        },
        {
          "output_type": "execute_result",
          "data": {
            "text/plain": [
              "[]"
            ]
          },
          "metadata": {},
          "execution_count": 55
        }
      ],
      "source": [
        "%%sql\n",
        "CREATE TABLE new_table (col1 INTEGER);\n"
      ]
    },
    {
      "cell_type": "code",
      "execution_count": 56,
      "metadata": {
        "id": "aG8-m0D-QLu3",
        "colab": {
          "base_uri": "https://localhost:8080/"
        },
        "outputId": "4b03c9c5-3e6d-4a64-c6df-e8272fd90893"
      },
      "outputs": [
        {
          "output_type": "stream",
          "name": "stdout",
          "text": [
            " * sqlite:///tmp.sqlite3\n",
            "Done.\n"
          ]
        },
        {
          "output_type": "execute_result",
          "data": {
            "text/plain": [
              "[]"
            ]
          },
          "metadata": {},
          "execution_count": 56
        }
      ],
      "source": [
        "%%sql\n",
        "CREATE TABLE IF NOT EXISTS new_table (col1 INTEGER);\n"
      ]
    },
    {
      "cell_type": "code",
      "execution_count": 58,
      "metadata": {
        "id": "XWmyl3ZuQLu4",
        "colab": {
          "base_uri": "https://localhost:8080/"
        },
        "outputId": "9e66a99b-2b6c-4872-dc6f-58dfe85ddc5e"
      },
      "outputs": [
        {
          "output_type": "stream",
          "name": "stdout",
          "text": [
            " * sqlite:///tmp.sqlite3\n",
            "(sqlite3.OperationalError) table adult_users already exists\n",
            "[SQL: CREATE TABLE adult_users \n",
            "(id INTEGER PRIMARY KEY AUTOINCREMENT,\n",
            " name TEXT UNIQUE NOT NULL,\n",
            " age INTEGER CHECK(age>=18)\n",
            ");]\n",
            "(Background on this error at: https://sqlalche.me/e/14/e3q8)\n"
          ]
        }
      ],
      "source": [
        "%%sql\n",
        "CREATE TABLE adult_users \n",
        "(id INTEGER PRIMARY KEY AUTOINCREMENT,\n",
        " name TEXT UNIQUE NOT NULL,\n",
        " age INTEGER CHECK(age>=18)\n",
        ");\n",
        "INSERT INTO adult_users(name, age) VALUES(\"Mike\", 32);\n",
        "INSERT INTO adult_users(name, age) VALUES(\"Jack\", 26);\n",
        "INSERT INTO adult_users(name, age) VALUES(\"Luna\", 15);\n"
      ]
    },
    {
      "cell_type": "code",
      "execution_count": 64,
      "metadata": {
        "id": "xot3Qpj0mlUd",
        "colab": {
          "base_uri": "https://localhost:8080/",
          "height": 139
        },
        "outputId": "63aeec83-b5f2-4e22-fc71-6951c3c1d96f"
      },
      "outputs": [
        {
          "output_type": "stream",
          "name": "stdout",
          "text": [
            " * sqlite:///tmp.sqlite3\n",
            "Done.\n"
          ]
        },
        {
          "output_type": "execute_result",
          "data": {
            "text/plain": [
              "[(1, 'Mike', 32), (2, 'Jack', 26), (3, '中山美穂', 52)]"
            ],
            "text/html": [
              "<table>\n",
              "    <thead>\n",
              "        <tr>\n",
              "            <th>id</th>\n",
              "            <th>name</th>\n",
              "            <th>age</th>\n",
              "        </tr>\n",
              "    </thead>\n",
              "    <tbody>\n",
              "        <tr>\n",
              "            <td>1</td>\n",
              "            <td>Mike</td>\n",
              "            <td>32</td>\n",
              "        </tr>\n",
              "        <tr>\n",
              "            <td>2</td>\n",
              "            <td>Jack</td>\n",
              "            <td>26</td>\n",
              "        </tr>\n",
              "        <tr>\n",
              "            <td>3</td>\n",
              "            <td>中山美穂</td>\n",
              "            <td>52</td>\n",
              "        </tr>\n",
              "    </tbody>\n",
              "</table>"
            ]
          },
          "metadata": {},
          "execution_count": 64
        }
      ],
      "source": [
        "%%sql\n",
        "SELECT * FROM adult_users;"
      ]
    },
    {
      "cell_type": "code",
      "source": [
        "%%sql\n",
        "INSERT INTO adult_users(name, age) VALUES(\"中山美穂\", 52);"
      ],
      "metadata": {
        "colab": {
          "base_uri": "https://localhost:8080/"
        },
        "id": "23BL9G5ieFE5",
        "outputId": "600add7e-1e05-4d50-ce7a-f3ce28617827"
      },
      "execution_count": 63,
      "outputs": [
        {
          "output_type": "stream",
          "name": "stdout",
          "text": [
            " * sqlite:///tmp.sqlite3\n",
            "1 rows affected.\n"
          ]
        },
        {
          "output_type": "execute_result",
          "data": {
            "text/plain": [
              "[]"
            ]
          },
          "metadata": {},
          "execution_count": 63
        }
      ]
    },
    {
      "cell_type": "code",
      "source": [
        ""
      ],
      "metadata": {
        "id": "Rqib1uHcem-X"
      },
      "execution_count": null,
      "outputs": []
    }
  ],
  "metadata": {
    "colab": {
      "collapsed_sections": [],
      "name": "sample.ipynb",
      "provenance": [],
      "include_colab_link": true
    },
    "kernelspec": {
      "display_name": "Python 3",
      "name": "python3"
    },
    "language_info": {
      "name": "python"
    }
  },
  "nbformat": 4,
  "nbformat_minor": 0
}