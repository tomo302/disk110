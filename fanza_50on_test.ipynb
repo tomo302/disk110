{
  "nbformat": 4,
  "nbformat_minor": 0,
  "metadata": {
    "colab": {
      "provenance": [],
      "mount_file_id": "1aG6gSIm9PrtBnKniV7986Pk13qw6ve3A",
      "authorship_tag": "ABX9TyOlS54Z5fe+9s8CaxpdvXJf",
      "include_colab_link": true
    },
    "kernelspec": {
      "name": "python3",
      "display_name": "Python 3"
    },
    "language_info": {
      "name": "python"
    }
  },
  "cells": [
    {
      "cell_type": "markdown",
      "metadata": {
        "id": "view-in-github",
        "colab_type": "text"
      },
      "source": [
        "<a href=\"https://colab.research.google.com/github/tomo302/disk110/blob/master/fanza_50on_test.ipynb\" target=\"_parent\"><img src=\"https://colab.research.google.com/assets/colab-badge.svg\" alt=\"Open In Colab\"/></a>"
      ]
    },
    {
      "cell_type": "code",
      "execution_count": null,
      "metadata": {
        "id": "IfMl4qg_LcmH"
      },
      "outputs": [],
      "source": [
        "import requests"
      ]
    },
    {
      "cell_type": "code",
      "source": [
        "from bs4 import BeautifulSoup"
      ],
      "metadata": {
        "id": "RNmiGlLqLloO"
      },
      "execution_count": null,
      "outputs": []
    },
    {
      "cell_type": "code",
      "source": [],
      "metadata": {
        "id": "QSaSQb9dLw6X"
      },
      "execution_count": null,
      "outputs": []
    },
    {
      "cell_type": "code",
      "source": [],
      "metadata": {
        "id": "N6UNp7YFLzqz"
      },
      "execution_count": null,
      "outputs": []
    },
    {
      "cell_type": "code",
      "source": [
        "url_50on_na = \"https://www.dmm.co.jp/digital/videoa/-/actress/=/keyword=na/\"  #５０音ーな　の1ページ目のURL"
      ],
      "metadata": {
        "id": "4DXQrsiWLzSc"
      },
      "execution_count": null,
      "outputs": []
    },
    {
      "cell_type": "code",
      "source": [],
      "metadata": {
        "id": "nCl7TV6iXc6H"
      },
      "execution_count": null,
      "outputs": []
    },
    {
      "cell_type": "code",
      "source": [
        "url_50on_na_page2 = \"https://www.dmm.co.jp/digital/videoa/-/actress/=/keyword=na/page=2/\""
      ],
      "metadata": {
        "id": "j2pFTd1rL-8e"
      },
      "execution_count": null,
      "outputs": []
    },
    {
      "cell_type": "markdown",
      "source": [],
      "metadata": {
        "id": "Am-t33wvXdHu"
      }
    },
    {
      "cell_type": "code",
      "source": [
        "res = requests.get(url_50on_na)"
      ],
      "metadata": {
        "id": "pkL70_B5MBls"
      },
      "execution_count": null,
      "outputs": []
    },
    {
      "cell_type": "code",
      "source": [
        "soup = BeautifulSoup(res.text, 'html.parser')"
      ],
      "metadata": {
        "id": "HhI2s9MeMKe7"
      },
      "execution_count": null,
      "outputs": []
    },
    {
      "cell_type": "code",
      "source": [
        "soup"
      ],
      "metadata": {
        "id": "d_jlYtdbMWKv"
      },
      "execution_count": null,
      "outputs": []
    },
    {
      "cell_type": "code",
      "source": [
        "res2 = requests.get(soup.find('a', class_ =\"ageCheck__link ageCheck__link--r18\")['href'])"
      ],
      "metadata": {
        "id": "zlXGTTGyMXvO"
      },
      "execution_count": null,
      "outputs": []
    },
    {
      "cell_type": "code",
      "source": [
        "soup2 = BeautifulSoup(res2.text, 'html.parser')"
      ],
      "metadata": {
        "id": "oKrSfocCNKSk"
      },
      "execution_count": null,
      "outputs": []
    },
    {
      "cell_type": "code",
      "source": [
        "soup2.title.text.replace(' - エロ動画・アダルトビデオ - FANZA動画', '')"
      ],
      "metadata": {
        "colab": {
          "base_uri": "https://localhost:8080/",
          "height": 38
        },
        "id": "rRLtMZIfJSu2",
        "outputId": "e8d00361-700c-43b2-f347-b25497e634a1"
      },
      "execution_count": null,
      "outputs": [
        {
          "output_type": "execute_result",
          "data": {
            "text/plain": [
              "'AV女優 [な]'"
            ],
            "application/vnd.google.colaboratory.intrinsic+json": {
              "type": "string"
            }
          },
          "metadata": {},
          "execution_count": 9
        }
      ]
    },
    {
      "cell_type": "code",
      "source": [
        "#女優別ページデータ取得\n",
        "tmp = soup2.find('ul', class_ = 'd-item act-box-100 group')"
      ],
      "metadata": {
        "id": "rU1QPQNHNszA"
      },
      "execution_count": null,
      "outputs": []
    },
    {
      "cell_type": "code",
      "source": [
        "tmp"
      ],
      "metadata": {
        "colab": {
          "base_uri": "https://localhost:8080/"
        },
        "id": "8jgqqIUAhmyQ",
        "outputId": "096ddf7e-8379-43c1-abf0-4c6fb2b9a547"
      },
      "execution_count": null,
      "outputs": [
        {
          "output_type": "execute_result",
          "data": {
            "text/plain": [
              "<ul class=\"d-item act-box-100 group\">\n",
              "<li>\n",
              "<a href=\"https://www.dmm.co.jp/digital/videoa/-/list/=/article=actress/id=1016113/\"><img alt=\"内藤かな\" height=\"100\" src=\"https://pics.dmm.co.jp/mono/actjpgs/medium/naitou_kana.jpg\" width=\"100\"/><br/>内藤かな<br/><span>ないとうかな</span><span>出演作品：1</span></a></li>\n",
              "<li>\n",
              "<a href=\"https://www.dmm.co.jp/digital/videoa/-/list/=/article=actress/id=2544/\"><img alt=\"内藤花苗\" height=\"100\" src=\"https://pics.dmm.co.jp/mono/actjpgs/medium/naitou_kanae.jpg\" width=\"100\"/><br/>内藤花苗<br/><span>ないとうかなえ</span><span>出演作品：21</span></a></li>\n",
              "<li>\n",
              "<a href=\"https://www.dmm.co.jp/digital/videoa/-/list/=/article=actress/id=2542/\"><img alt=\"内藤このは\" height=\"100\" src=\"https://pics.dmm.co.jp/mono/actjpgs/medium/naitou_konoha.jpg\" width=\"100\"/><br/>内藤このは<br/><span>ないとうこのは</span><span>出演作品：1</span></a></li>\n",
              "<li>\n",
              "<a href=\"https://www.dmm.co.jp/digital/videoa/-/list/=/article=actress/id=7543/\"><img alt=\"nao.（小池ひとみ）\" height=\"100\" src=\"https://pics.dmm.co.jp/mono/actjpgs/medium/nao.jpg\" width=\"100\"/><br/>nao.（小池ひとみ）<br/><span>なお（こいけひとみ）</span><span>出演作品：359</span></a></li>\n",
              "<li>\n",
              "<a href=\"https://www.dmm.co.jp/digital/videoa/-/list/=/article=actress/id=1028657/\"><img alt=\"NAO（美竹すず）\" height=\"100\" src=\"https://pics.dmm.co.jp/mono/actjpgs/medium/mitake_suzu.jpg\" width=\"100\"/><br/>NAO（美竹すず）<br/><span>なお（みたけすず）</span><span>出演作品：169</span></a></li>\n",
              "<li>\n",
              "<a href=\"https://www.dmm.co.jp/digital/videoa/-/list/=/article=actress/id=1003182/\"><img alt=\"直嶋あい\" height=\"100\" src=\"https://pics.dmm.co.jp/mono/actjpgs/medium/naosima_ai.jpg\" width=\"100\"/><br/>直嶋あい<br/><span>なおしまあい</span><span>出演作品：92</span></a></li>\n",
              "<li>\n",
              "<a href=\"https://www.dmm.co.jp/digital/videoa/-/list/=/article=actress/id=21744/\"><img alt=\"直美\" height=\"100\" src=\"https://pics.dmm.co.jp/mono/actjpgs/medium/naomi.jpg\" width=\"100\"/><br/>直美<br/><span>なおみ</span><span>出演作品：2</span></a></li>\n",
              "<li>\n",
              "<a href=\"https://www.dmm.co.jp/digital/videoa/-/list/=/article=actress/id=1031803/\"><img alt=\"NAOMI\" height=\"100\" src=\"https://pics.dmm.co.jp/mono/actjpgs/medium/naomi5.jpg\" width=\"100\"/><br/>NAOMI<br/><span>なおみ</span><span>出演作品：182</span></a></li>\n",
              "<li>\n",
              "<a href=\"https://www.dmm.co.jp/digital/videoa/-/list/=/article=actress/id=2204/\"><img alt=\"中井亜紀\" height=\"100\" src=\"https://pics.dmm.co.jp/mono/actjpgs/medium/nakai_aki.jpg\" width=\"100\"/><br/>中井亜紀<br/><span>なかいあき</span><span>出演作品：1</span></a></li>\n",
              "<li>\n",
              "<a href=\"https://www.dmm.co.jp/digital/videoa/-/list/=/article=actress/id=1006088/\"><img alt=\"中居ちはる\" height=\"100\" src=\"https://pics.dmm.co.jp/mono/actjpgs/medium/nakai_hiharu.jpg\" width=\"100\"/><br/>中居ちはる<br/><span>なかいちはる</span><span>出演作品：132</span></a></li>\n",
              "<li>\n",
              "<a href=\"https://www.dmm.co.jp/digital/videoa/-/list/=/article=actress/id=3405/\"><img alt=\"中井永遠\" height=\"100\" src=\"https://pics.dmm.co.jp/mono/actjpgs/medium/nakai_towa.jpg\" width=\"100\"/><br/>中井永遠<br/><span>なかいとわ</span><span>出演作品：1</span></a></li>\n",
              "<li>\n",
              "<a href=\"https://www.dmm.co.jp/digital/videoa/-/list/=/article=actress/id=1028564/\"><img alt=\"中居はすみ\" height=\"100\" src=\"https://pics.dmm.co.jp/mono/actjpgs/medium/nakai_hasumi.jpg\" width=\"100\"/><br/>中居はすみ<br/><span>なかいはすみ</span><span>出演作品：3</span></a></li>\n",
              "<li>\n",
              "<a href=\"https://www.dmm.co.jp/digital/videoa/-/list/=/article=actress/id=8620/\"><img alt=\"仲井美帆\" height=\"100\" src=\"https://pics.dmm.co.jp/mono/actjpgs/medium/nakai_miho.jpg\" width=\"100\"/><br/>仲井美帆<br/><span>なかいみほ</span><span>出演作品：4</span></a></li>\n",
              "<li>\n",
              "<a href=\"https://www.dmm.co.jp/digital/videoa/-/list/=/article=actress/id=23077/\"><img alt=\"中居みゆ\" height=\"100\" src=\"https://pics.dmm.co.jp/mono/actjpgs/medium/nakai_miyu.jpg\" width=\"100\"/><br/>中居みゆ<br/><span>なかいみゆ</span><span>出演作品：41</span></a></li>\n",
              "<li>\n",
              "<a href=\"https://www.dmm.co.jp/digital/videoa/-/list/=/article=actress/id=4963/\"><img alt=\"中岡佐知子\" height=\"100\" src=\"https://pics.dmm.co.jp/mono/actjpgs/medium/nakaoka_satiko.jpg\" width=\"100\"/><br/>中岡佐知子<br/><span>なかおかさちこ</span><span>出演作品：2</span></a></li>\n",
              "<li>\n",
              "<a href=\"https://www.dmm.co.jp/digital/videoa/-/list/=/article=actress/id=1018988/\"><img alt=\"仲丘たまき（片岡まきな）\" height=\"100\" src=\"https://pics.dmm.co.jp/mono/actjpgs/medium/nakaoka_tamaki.jpg\" width=\"100\"/><br/>仲丘たまき（片岡まきな）<br/><span>なかおかたまき（かたおかまきな）</span><span>出演作品：131</span></a></li>\n",
              "<li>\n",
              "<a href=\"https://www.dmm.co.jp/digital/videoa/-/list/=/article=actress/id=1033972/\"><img alt=\"中尾芽衣子（NOA）\" height=\"100\" src=\"https://pics.dmm.co.jp/mono/actjpgs/medium/nakao_meiko.jpg\" width=\"100\"/><br/>中尾芽衣子（NOA）<br/><span>なかおめいこ（のあ）</span><span>出演作品：135</span></a></li>\n",
              "<li>\n",
              "<a href=\"https://www.dmm.co.jp/digital/videoa/-/list/=/article=actress/id=1038709/\"><img alt=\"中川絢音\" height=\"100\" src=\"https://pics.dmm.co.jp/mono/actjpgs/medium/nakagawa_ayane.jpg\" width=\"100\"/><br/>中川絢音<br/><span>なかがわあやね</span><span>出演作品：8</span></a></li>\n",
              "<li>\n",
              "<a href=\"https://www.dmm.co.jp/digital/videoa/-/list/=/article=actress/id=2239/\"><img alt=\"中川えり子\" height=\"100\" src=\"https://pics.dmm.co.jp/mono/actjpgs/medium/nakagawa_eriko.jpg\" width=\"100\"/><br/>中川えり子<br/><span>なかがわえりこ</span><span>出演作品：8</span></a></li>\n",
              "<li>\n",
              "<a href=\"https://www.dmm.co.jp/digital/videoa/-/list/=/article=actress/id=25700/\"><img alt=\"仲川咲姫\" height=\"100\" src=\"https://pics.dmm.co.jp/mono/actjpgs/medium/nakagawa_saki.jpg\" width=\"100\"/><br/>仲川咲姫<br/><span>なかがわさき</span><span>出演作品：20</span></a></li>\n",
              "<li>\n",
              "<a href=\"https://www.dmm.co.jp/digital/videoa/-/list/=/article=actress/id=1026828/\"><img alt=\"中川静\" height=\"100\" src=\"https://pics.dmm.co.jp/mono/actjpgs/medium/nakagawa_sizuka.jpg\" width=\"100\"/><br/>中川静<br/><span>なかがわしずか</span><span>出演作品：2</span></a></li>\n",
              "<li>\n",
              "<a href=\"https://www.dmm.co.jp/digital/videoa/-/list/=/article=actress/id=12585/\"><img alt=\"中川知里\" height=\"100\" src=\"https://pics.dmm.co.jp/mono/actjpgs/medium/nakagawa_tiri.jpg\" width=\"100\"/><br/>中川知里<br/><span>なかがわちり</span><span>出演作品：10</span></a></li>\n",
              "<li>\n",
              "<a href=\"https://www.dmm.co.jp/digital/videoa/-/list/=/article=actress/id=10861/\"><img alt=\"中川瞳\" height=\"100\" src=\"https://pics.dmm.co.jp/mono/actjpgs/medium/nakagawa_hitomi.jpg\" width=\"100\"/><br/>中川瞳<br/><span>なかがわひとみ</span><span>出演作品：83</span></a></li>\n",
              "<li>\n",
              "<a href=\"https://www.dmm.co.jp/digital/videoa/-/list/=/article=actress/id=1018003/\"><img alt=\"中川美香\" height=\"100\" src=\"https://pics.dmm.co.jp/mono/actjpgs/medium/nakagawa_mika.jpg\" width=\"100\"/><br/>中川美香<br/><span>なかがわみか</span><span>出演作品：16</span></a></li>\n",
              "<li>\n",
              "<a href=\"https://www.dmm.co.jp/digital/videoa/-/list/=/article=actress/id=1022287/\"><img alt=\"中川美鈴\" height=\"100\" src=\"https://pics.dmm.co.jp/mono/actjpgs/medium/nakagawa_mirei.jpg\" width=\"100\"/><br/>中川美鈴<br/><span>なかがわみれい</span><span>出演作品：16</span></a></li>\n",
              "<li>\n",
              "<a href=\"https://www.dmm.co.jp/digital/videoa/-/list/=/article=actress/id=2206/\"><img alt=\"中河原椿\" height=\"100\" src=\"https://pics.dmm.co.jp/mono/actjpgs/medium/nakagawara_tubaki.jpg\" width=\"100\"/><br/>中河原椿<br/><span>なかがわらつばき</span><span>出演作品：31</span></a></li>\n",
              "<li>\n",
              "<a href=\"https://www.dmm.co.jp/digital/videoa/-/list/=/article=actress/id=27043/\"><img alt=\"中川ルナ\" height=\"100\" src=\"https://pics.dmm.co.jp/mono/actjpgs/medium/nakagawa_runa.jpg\" width=\"100\"/><br/>中川ルナ<br/><span>なかがわるな</span><span>出演作品：14</span></a></li>\n",
              "<li>\n",
              "<a href=\"https://www.dmm.co.jp/digital/videoa/-/list/=/article=actress/id=18820/\"><img alt=\"仲咲千春\" height=\"100\" src=\"https://pics.dmm.co.jp/mono/actjpgs/medium/nakasaki_tiharu.jpg\" width=\"100\"/><br/>仲咲千春<br/><span>なかさきちはる</span><span>出演作品：50</span></a></li>\n",
              "<li>\n",
              "<a href=\"https://www.dmm.co.jp/digital/videoa/-/list/=/article=actress/id=7558/\"><img alt=\"中里愛菜\" height=\"100\" src=\"https://pics.dmm.co.jp/mono/actjpgs/medium/nakasato_aina.jpg\" width=\"100\"/><br/>中里愛菜<br/><span>なかさとあいな</span><span>出演作品：19</span></a></li>\n",
              "<li>\n",
              "<a href=\"https://www.dmm.co.jp/digital/videoa/-/list/=/article=actress/id=1044733/\"><img alt=\"中里文\" height=\"100\" src=\"https://pics.dmm.co.jp/mono/actjpgs/medium/nakazato_aya.jpg\" width=\"100\"/><br/>中里文<br/><span>なかざとあや</span><span>出演作品：4</span></a></li>\n",
              "<li>\n",
              "<a href=\"https://www.dmm.co.jp/digital/videoa/-/list/=/article=actress/id=1014615/\"><img alt=\"仲里紗羽\" height=\"100\" src=\"https://pics.dmm.co.jp/mono/actjpgs/medium/nakazato_sawa.jpg\" width=\"100\"/><br/>仲里紗羽<br/><span>なかざとさわ</span><span>出演作品：18</span></a></li>\n",
              "<li>\n",
              "<a href=\"https://www.dmm.co.jp/digital/videoa/-/list/=/article=actress/id=1028653/\"><img alt=\"中里美穂\" height=\"100\" src=\"https://pics.dmm.co.jp/mono/actjpgs/medium/nakazato_miho2.jpg\" width=\"100\"/><br/>中里美穂<br/><span>なかざとみほ</span><span>出演作品：103</span></a></li>\n",
              "<li>\n",
              "<a href=\"https://www.dmm.co.jp/digital/videoa/-/list/=/article=actress/id=1029668/\"><img alt=\"中里みほ\" height=\"100\" src=\"https://pics.dmm.co.jp/mono/actjpgs/medium/nakazato_miho3.jpg\" width=\"100\"/><br/>中里みほ<br/><span>なかざとみほ</span><span>出演作品：1</span></a></li>\n",
              "<li>\n",
              "<a href=\"https://www.dmm.co.jp/digital/videoa/-/list/=/article=actress/id=2268/\"><img alt=\"中里優奈\" height=\"100\" src=\"https://pics.dmm.co.jp/mono/actjpgs/medium/nakazato_yuuna.jpg\" width=\"100\"/><br/>中里優奈<br/><span>なかざとゆうな</span><span>出演作品：48</span></a></li>\n",
              "<li>\n",
              "<a href=\"https://www.dmm.co.jp/digital/videoa/-/list/=/article=actress/id=2247/\"><img alt=\"中沢いずみ\" height=\"100\" src=\"https://pics.dmm.co.jp/mono/actjpgs/medium/nakazawa_izumi.jpg\" width=\"100\"/><br/>中沢いずみ<br/><span>なかざわいずみ</span><span>出演作品：9</span></a></li>\n",
              "<li>\n",
              "<a href=\"https://www.dmm.co.jp/digital/videoa/-/list/=/article=actress/id=2248/\"><img alt=\"中沢慶子\" height=\"100\" src=\"https://pics.dmm.co.jp/mono/actjpgs/medium/nakazawa_keiko.jpg\" width=\"100\"/><br/>中沢慶子<br/><span>なかざわけいこ</span><span>出演作品：8</span></a></li>\n",
              "<li>\n",
              "<a href=\"https://www.dmm.co.jp/digital/videoa/-/list/=/article=actress/id=1021427/\"><img alt=\"中澤チュリン\" height=\"100\" src=\"https://pics.dmm.co.jp/mono/actjpgs/medium/nakazawa_tyurin.jpg\" width=\"100\"/><br/>中澤チュリン<br/><span>なかざわちゅりん</span><span>出演作品：77</span></a></li>\n",
              "<li>\n",
              "<a href=\"https://www.dmm.co.jp/digital/videoa/-/list/=/article=actress/id=2270/\"><img alt=\"中澤美亜\" height=\"100\" src=\"https://pics.dmm.co.jp/mono/actjpgs/medium/nakazawa_mia.jpg\" width=\"100\"/><br/>中澤美亜<br/><span>なかざわみあ</span><span>出演作品：21</span></a></li>\n",
              "<li>\n",
              "<a href=\"https://www.dmm.co.jp/digital/videoa/-/list/=/article=actress/id=1061657/\"><img alt=\"仲沢ももか\" height=\"100\" src=\"https://pics.dmm.co.jp/mono/actjpgs/medium/nakazawa_momoka.jpg\" width=\"100\"/><br/>仲沢ももか<br/><span>なかざわももか</span><span>出演作品：36</span></a></li>\n",
              "<li>\n",
              "<a href=\"https://www.dmm.co.jp/digital/videoa/-/list/=/article=actress/id=1028398/\"><img alt=\"中澤レイ\" height=\"100\" src=\"https://pics.dmm.co.jp/mono/actjpgs/medium/nakazawa_rei.jpg\" width=\"100\"/><br/>中澤レイ<br/><span>なかざわれい</span><span>出演作品：9</span></a></li>\n",
              "<li>\n",
              "<a href=\"https://www.dmm.co.jp/digital/videoa/-/list/=/article=actress/id=4933/\"><img alt=\"中沢レナ\" height=\"100\" src=\"https://pics.dmm.co.jp/mono/actjpgs/medium/nakazawa_rena.jpg\" width=\"100\"/><br/>中沢レナ<br/><span>なかざわれな</span><span>出演作品：5</span></a></li>\n",
              "<li>\n",
              "<a href=\"https://www.dmm.co.jp/digital/videoa/-/list/=/article=actress/id=2257/\"><img alt=\"中島志穂\" height=\"100\" src=\"https://pics.dmm.co.jp/mono/actjpgs/medium/nakasima_siho.jpg\" width=\"100\"/><br/>中島志穂<br/><span>なかしましほ</span><span>出演作品：4</span></a></li>\n",
              "<li>\n",
              "<a href=\"https://www.dmm.co.jp/digital/videoa/-/list/=/article=actress/id=25710/\"><img alt=\"中島千秋\" height=\"100\" src=\"https://pics.dmm.co.jp/mono/actjpgs/medium/nakasima_tiaki.jpg\" width=\"100\"/><br/>中島千秋<br/><span>なかしまちあき</span><span>出演作品：4</span></a></li>\n",
              "<li>\n",
              "<a href=\"https://www.dmm.co.jp/digital/videoa/-/list/=/article=actress/id=2258/\"><img alt=\"中島美和\" height=\"100\" src=\"https://pics.dmm.co.jp/mono/actjpgs/medium/nakasima_miwa.jpg\" width=\"100\"/><br/>中島美和<br/><span>なかしまみわ</span><span>出演作品：8</span></a></li>\n",
              "<li>\n",
              "<a href=\"https://www.dmm.co.jp/digital/videoa/-/list/=/article=actress/id=24637/\"><img alt=\"中島梨花\" height=\"100\" src=\"https://pics.dmm.co.jp/mono/actjpgs/medium/nakasima_rika.jpg\" width=\"100\"/><br/>中島梨花<br/><span>なかしまりか</span><span>出演作品：6</span></a></li>\n",
              "<li>\n",
              "<a href=\"https://www.dmm.co.jp/digital/videoa/-/list/=/article=actress/id=1005929/\"><img alt=\"中島流香\" height=\"100\" src=\"https://pics.dmm.co.jp/mono/actjpgs/medium/nakazima_ruka.jpg\" width=\"100\"/><br/>中島流香<br/><span>なかしまるか</span><span>出演作品：7</span></a></li>\n",
              "<li>\n",
              "<a href=\"https://www.dmm.co.jp/digital/videoa/-/list/=/article=actress/id=13572/\"><img alt=\"中島あいり\" height=\"100\" src=\"https://pics.dmm.co.jp/mono/actjpgs/medium/nakazima_airi.jpg\" width=\"100\"/><br/>中島あいり<br/><span>なかじまあいり</span><span>出演作品：51</span></a></li>\n",
              "<li>\n",
              "<a href=\"https://www.dmm.co.jp/digital/videoa/-/list/=/article=actress/id=25439/\"><img alt=\"中島瑛莉\" height=\"100\" src=\"https://pics.dmm.co.jp/mono/actjpgs/medium/nakazima_eri.jpg\" width=\"100\"/><br/>中島瑛莉<br/><span>なかじまえり</span><span>出演作品：5</span></a></li>\n",
              "<li>\n",
              "<a href=\"https://www.dmm.co.jp/digital/videoa/-/list/=/article=actress/id=6526/\"><img alt=\"中島京子\" height=\"100\" src=\"https://pics.dmm.co.jp/mono/actjpgs/medium/nakazima_kyouko.jpg\" width=\"100\"/><br/>中島京子<br/><span>なかじまきょうこ</span><span>出演作品：181</span></a></li>\n",
              "<li>\n",
              "<a href=\"https://www.dmm.co.jp/digital/videoa/-/list/=/article=actress/id=2261/\"><img alt=\"中嶋広香\" height=\"100\" src=\"https://pics.dmm.co.jp/mono/actjpgs/medium/nakazima_hiroka.jpg\" width=\"100\"/><br/>中嶋広香<br/><span>なかじまひろか</span><span>出演作品：3</span></a></li>\n",
              "<li>\n",
              "<a href=\"https://www.dmm.co.jp/digital/videoa/-/list/=/article=actress/id=1020953/\"><img alt=\"中嶋みゆき\" height=\"100\" src=\"https://pics.dmm.co.jp/mono/actjpgs/medium/nakazima_miyuki.jpg\" width=\"100\"/><br/>中嶋みゆき<br/><span>なかじまみゆき</span><span>出演作品：5</span></a></li>\n",
              "<li>\n",
              "<a href=\"https://www.dmm.co.jp/digital/videoa/-/list/=/article=actress/id=11181/\"><img alt=\"中島ゆり\" height=\"100\" src=\"https://pics.dmm.co.jp/mono/actjpgs/medium/nakazima_yuri.jpg\" width=\"100\"/><br/>中島ゆり<br/><span>なかじまゆり</span><span>出演作品：5</span></a></li>\n",
              "<li>\n",
              "<a href=\"https://www.dmm.co.jp/digital/videoa/-/list/=/article=actress/id=7643/\"><img alt=\"中島りお\" height=\"100\" src=\"https://pics.dmm.co.jp/mono/actjpgs/medium/nakasima_rio.jpg\" width=\"100\"/><br/>中島りお<br/><span>なかじまりお</span><span>出演作品：5</span></a></li>\n",
              "<li>\n",
              "<a href=\"https://www.dmm.co.jp/digital/videoa/-/list/=/article=actress/id=1052867/\"><img alt=\"中条あおい\" height=\"100\" src=\"https://pics.dmm.co.jp/mono/actjpgs/medium/nakajo_aoi.jpg\" width=\"100\"/><br/>中条あおい<br/><span>なかじょうあおい</span><span>出演作品：7</span></a></li>\n",
              "<li>\n",
              "<a href=\"https://www.dmm.co.jp/digital/videoa/-/list/=/article=actress/id=1057344/\"><img alt=\"中城葵\" height=\"100\" src=\"https://pics.dmm.co.jp/mono/actjpgs/medium/nakazyo_aoi.jpg\" width=\"100\"/><br/>中城葵<br/><span>なかじょうあおい</span><span>出演作品：125</span></a></li>\n",
              "<li>\n",
              "<a href=\"https://www.dmm.co.jp/digital/videoa/-/list/=/article=actress/id=1053035/\"><img alt=\"中条カノン\" height=\"100\" src=\"https://pics.dmm.co.jp/mono/actjpgs/medium/printing\" width=\"100\"/><br/>中条カノン<br/><span>なかじょうかのん</span><span>出演作品：139</span></a></li>\n",
              "<li>\n",
              "<a href=\"https://www.dmm.co.jp/digital/videoa/-/list/=/article=actress/id=4147/\"><img alt=\"中条さやか\" height=\"100\" src=\"https://pics.dmm.co.jp/mono/actjpgs/medium/nakazyou_sayaka.jpg\" width=\"100\"/><br/>中条さやか<br/><span>なかじょうさやか</span><span>出演作品：1</span></a></li>\n",
              "<li>\n",
              "<a href=\"https://www.dmm.co.jp/digital/videoa/-/list/=/article=actress/id=1064005/\"><img alt=\"中条鈴華\" height=\"100\" src=\"https://pics.dmm.co.jp/mono/actjpgs/medium/nakazyou_suzuka.jpg\" width=\"100\"/><br/>中条鈴華<br/><span>なかじょうすずか</span><span>出演作品：15</span></a></li>\n",
              "<li>\n",
              "<a href=\"https://www.dmm.co.jp/digital/videoa/-/list/=/article=actress/id=25301/\"><img alt=\"中條美華\" height=\"100\" src=\"https://pics.dmm.co.jp/mono/actjpgs/medium/nakazyou_mika.jpg\" width=\"100\"/><br/>中條美華<br/><span>なかじょうみか</span><span>出演作品：46</span></a></li>\n",
              "<li>\n",
              "<a href=\"https://www.dmm.co.jp/digital/videoa/-/list/=/article=actress/id=1043987/\"><img alt=\"中条みつ希\" height=\"100\" src=\"https://pics.dmm.co.jp/mono/actjpgs/medium/nakazyou_mituki.jpg\" width=\"100\"/><br/>中条みつ希<br/><span>なかじょうみつき</span><span>出演作品：2</span></a></li>\n",
              "<li>\n",
              "<a href=\"https://www.dmm.co.jp/digital/videoa/-/list/=/article=actress/id=2234/\"><img alt=\"中条みどり\" height=\"100\" src=\"https://pics.dmm.co.jp/mono/actjpgs/medium/nakazyou_midori.jpg\" width=\"100\"/><br/>中条みどり<br/><span>なかじょうみどり</span><span>出演作品：1</span></a></li>\n",
              "<li>\n",
              "<a href=\"https://www.dmm.co.jp/digital/videoa/-/list/=/article=actress/id=28443/\"><img alt=\"中条雪乃\" height=\"100\" src=\"https://pics.dmm.co.jp/mono/actjpgs/medium/nakazyou_yukino.jpg\" width=\"100\"/><br/>中条雪乃<br/><span>なかじょうゆきの</span><span>出演作品：11</span></a></li>\n",
              "<li>\n",
              "<a href=\"https://www.dmm.co.jp/digital/videoa/-/list/=/article=actress/id=1076421/\"><img alt=\"中条りの\" height=\"100\" src=\"https://pics.dmm.co.jp/mono/actjpgs/medium/nakazyou_rino.jpg\" width=\"100\"/><br/>中条りの<br/><span>なかじょうりの</span><span>出演作品：9</span></a></li>\n",
              "<li>\n",
              "<a href=\"https://www.dmm.co.jp/digital/videoa/-/list/=/article=actress/id=8138/\"><img alt=\"永瀬マリ\" height=\"100\" src=\"https://pics.dmm.co.jp/mono/actjpgs/medium/nagase_mari.jpg\" width=\"100\"/><br/>永瀬マリ<br/><span>なかせまり</span><span>出演作品：3</span></a></li>\n",
              "<li>\n",
              "<a href=\"https://www.dmm.co.jp/digital/videoa/-/list/=/article=actress/id=1009175/\"><img alt=\"中園貴代美\" height=\"100\" src=\"https://pics.dmm.co.jp/mono/actjpgs/medium/nakazono_kiyomi.jpg\" width=\"100\"/><br/>中園貴代美<br/><span>なかぞのきよみ</span><span>出演作品：118</span></a></li>\n",
              "<li>\n",
              "<a href=\"https://www.dmm.co.jp/digital/videoa/-/list/=/article=actress/id=23971/\"><img alt=\"仲田絵理\" height=\"100\" src=\"https://pics.dmm.co.jp/mono/actjpgs/medium/nakata_eri.jpg\" width=\"100\"/><br/>仲田絵理<br/><span>なかたえり</span><span>出演作品：74</span></a></li>\n",
              "<li>\n",
              "<a href=\"https://www.dmm.co.jp/digital/videoa/-/list/=/article=actress/id=15089/\"><img alt=\"中谷あみ\" height=\"100\" src=\"https://pics.dmm.co.jp/mono/actjpgs/medium/nakatani_ami.jpg\" width=\"100\"/><br/>中谷あみ<br/><span>なかたにあみ</span><span>出演作品：1</span></a></li>\n",
              "<li>\n",
              "<a href=\"https://www.dmm.co.jp/digital/videoa/-/list/=/article=actress/id=2251/\"><img alt=\"中谷カイト\" height=\"100\" src=\"https://pics.dmm.co.jp/mono/actjpgs/medium/nakatani_kaito.jpg\" width=\"100\"/><br/>中谷カイト<br/><span>なかたにかいと</span><span>出演作品：23</span></a></li>\n",
              "<li>\n",
              "<a href=\"https://www.dmm.co.jp/digital/videoa/-/list/=/article=actress/id=4295/\"><img alt=\"中谷聖\" height=\"100\" src=\"https://pics.dmm.co.jp/mono/actjpgs/medium/nakatani_hiziri.jpg\" width=\"100\"/><br/>中谷聖<br/><span>なかたにひじり</span><span>出演作品：2</span></a></li>\n",
              "<li>\n",
              "<a href=\"https://www.dmm.co.jp/digital/videoa/-/list/=/article=actress/id=1019976/\"><img alt=\"中谷美結\" height=\"100\" src=\"https://pics.dmm.co.jp/mono/actjpgs/medium/nakatani_miyu.jpg\" width=\"100\"/><br/>中谷美結<br/><span>なかたにみゆ</span><span>出演作品：28</span></a></li>\n",
              "<li>\n",
              "<a href=\"https://www.dmm.co.jp/digital/videoa/-/list/=/article=actress/id=1017087/\"><img alt=\"中谷唯\" height=\"100\" src=\"https://pics.dmm.co.jp/mono/actjpgs/medium/nakatani_yui.jpg\" width=\"100\"/><br/>中谷唯<br/><span>なかたにゆい</span><span>出演作品：4</span></a></li>\n",
              "<li>\n",
              "<a href=\"https://www.dmm.co.jp/digital/videoa/-/list/=/article=actress/id=18193/\"><img alt=\"中谷裕子\" height=\"100\" src=\"https://pics.dmm.co.jp/mono/actjpgs/medium/nakatani_yuuko.jpg\" width=\"100\"/><br/>中谷裕子<br/><span>なかたにゆうこ</span><span>出演作品：12</span></a></li>\n",
              "<li>\n",
              "<a href=\"https://www.dmm.co.jp/digital/videoa/-/list/=/article=actress/id=2255/\"><img alt=\"中谷友香\" height=\"100\" src=\"https://pics.dmm.co.jp/mono/actjpgs/medium/nakatani_yuka.jpg\" width=\"100\"/><br/>中谷友香<br/><span>なかたにゆか</span><span>出演作品：1</span></a></li>\n",
              "<li>\n",
              "<a href=\"https://www.dmm.co.jp/digital/videoa/-/list/=/article=actress/id=1035584/\"><img alt=\"中谷有希\" height=\"100\" src=\"https://pics.dmm.co.jp/mono/actjpgs/medium/nakatani_yuki.jpg\" width=\"100\"/><br/>中谷有希<br/><span>なかたにゆき</span><span>出演作品：10</span></a></li>\n",
              "<li>\n",
              "<a href=\"https://www.dmm.co.jp/digital/videoa/-/list/=/article=actress/id=6502/\"><img alt=\"中田ゆうこ\" height=\"100\" src=\"https://pics.dmm.co.jp/mono/actjpgs/medium/nakata_yuuko.jpg\" width=\"100\"/><br/>中田ゆうこ<br/><span>なかたゆうこ</span><span>出演作品：23</span></a></li>\n",
              "<li>\n",
              "<a href=\"https://www.dmm.co.jp/digital/videoa/-/list/=/article=actress/id=11039/\"><img alt=\"中田しこ\" height=\"100\" src=\"https://pics.dmm.co.jp/mono/actjpgs/medium/nakada_siko.jpg\" width=\"100\"/><br/>中田しこ<br/><span>なかだしこ</span><span>出演作品：2</span></a></li>\n",
              "<li>\n",
              "<a href=\"https://www.dmm.co.jp/digital/videoa/-/list/=/article=actress/id=14249/\"><img alt=\"中塚愛\" height=\"100\" src=\"https://pics.dmm.co.jp/mono/actjpgs/medium/nakatuka_ai.jpg\" width=\"100\"/><br/>中塚愛<br/><span>なかつかあい</span><span>出演作品：35</span></a></li>\n",
              "<li>\n",
              "<a href=\"https://www.dmm.co.jp/digital/videoa/-/list/=/article=actress/id=3210/\"><img alt=\"仲名楓\" height=\"100\" src=\"https://pics.dmm.co.jp/mono/actjpgs/medium/nakana_kaede.jpg\" width=\"100\"/><br/>仲名楓<br/><span>なかなかえで</span><span>出演作品：2</span></a></li>\n",
              "<li>\n",
              "<a href=\"https://www.dmm.co.jp/digital/videoa/-/list/=/article=actress/id=1024512/\"><img alt=\"中西愛美\" height=\"100\" src=\"https://pics.dmm.co.jp/mono/actjpgs/medium/nakanisi_aimi.jpg\" width=\"100\"/><br/>中西愛美<br/><span>なかにしあいみ</span><span>出演作品：2</span></a></li>\n",
              "<li>\n",
              "<a href=\"https://www.dmm.co.jp/digital/videoa/-/list/=/article=actress/id=11897/\"><img alt=\"仲西彩乃\" height=\"100\" src=\"https://pics.dmm.co.jp/mono/actjpgs/medium/nakanisi_ayano.jpg\" width=\"100\"/><br/>仲西彩乃<br/><span>なかにしあやの</span><span>出演作品：36</span></a></li>\n",
              "<li>\n",
              "<a href=\"https://www.dmm.co.jp/digital/videoa/-/list/=/article=actress/id=2272/\"><img alt=\"仲西さやか\" height=\"100\" src=\"https://pics.dmm.co.jp/mono/actjpgs/medium/nakanisi_sayaka.jpg\" width=\"100\"/><br/>仲西さやか<br/><span>なかにしさやか</span><span>出演作品：28</span></a></li>\n",
              "<li>\n",
              "<a href=\"https://www.dmm.co.jp/digital/videoa/-/list/=/article=actress/id=1031722/\"><img alt=\"中西翔子\" height=\"100\" src=\"https://pics.dmm.co.jp/mono/actjpgs/medium/nakanisi_syouko.jpg\" width=\"100\"/><br/>中西翔子<br/><span>なかにししょうこ</span><span>出演作品：6</span></a></li>\n",
              "<li>\n",
              "<a href=\"https://www.dmm.co.jp/digital/videoa/-/list/=/article=actress/id=1028659/\"><img alt=\"仲西なつき\" height=\"100\" src=\"https://pics.dmm.co.jp/mono/actjpgs/medium/nakanisi_natuki.jpg\" width=\"100\"/><br/>仲西なつき<br/><span>なかにしなつき</span><span>出演作品：15</span></a></li>\n",
              "<li>\n",
              "<a href=\"https://www.dmm.co.jp/digital/videoa/-/list/=/article=actress/id=1031602/\"><img alt=\"中西まや\" height=\"100\" src=\"https://pics.dmm.co.jp/mono/actjpgs/medium/nakanisi_maya.jpg\" width=\"100\"/><br/>中西まや<br/><span>なかにしまや</span><span>出演作品：6</span></a></li>\n",
              "<li>\n",
              "<a href=\"https://www.dmm.co.jp/digital/videoa/-/list/=/article=actress/id=1001200/\"><img alt=\"中西涼子\" height=\"100\" src=\"https://pics.dmm.co.jp/mono/actjpgs/medium/nakanisi_ryouko.jpg\" width=\"100\"/><br/>中西涼子<br/><span>なかにしりょうこ</span><span>出演作品：1</span></a></li>\n",
              "<li>\n",
              "<a href=\"https://www.dmm.co.jp/digital/videoa/-/list/=/article=actress/id=2213/\"><img alt=\"中根ゆま\" height=\"100\" src=\"https://pics.dmm.co.jp/mono/actjpgs/medium/nakane_yuma.jpg\" width=\"100\"/><br/>中根ゆま<br/><span>なかねゆま</span><span>出演作品：27</span></a></li>\n",
              "<li>\n",
              "<a href=\"https://www.dmm.co.jp/digital/videoa/-/list/=/article=actress/id=5898/\"><img alt=\"中根れい\" height=\"100\" src=\"https://pics.dmm.co.jp/mono/actjpgs/medium/nakane_rei.jpg\" width=\"100\"/><br/>中根れい<br/><span>なかねれい</span><span>出演作品：18</span></a></li>\n",
              "<li>\n",
              "<a href=\"https://www.dmm.co.jp/digital/videoa/-/list/=/article=actress/id=30655/\"><img alt=\"中野愛里\" height=\"100\" src=\"https://pics.dmm.co.jp/mono/actjpgs/medium/nakano_airi.jpg\" width=\"100\"/><br/>中野愛里<br/><span>なかのあいり</span><span>出演作品：47</span></a></li>\n",
              "<li>\n",
              "<a href=\"https://www.dmm.co.jp/digital/videoa/-/list/=/article=actress/id=1015917/\"><img alt=\"中野えりか\" height=\"100\" src=\"https://pics.dmm.co.jp/mono/actjpgs/medium/nakano_erika.jpg\" width=\"100\"/><br/>中野えりか<br/><span>なかのえりか</span><span>出演作品：3</span></a></li>\n",
              "<li>\n",
              "<a href=\"https://www.dmm.co.jp/digital/videoa/-/list/=/article=actress/id=30654/\"><img alt=\"中野恭子\" height=\"100\" src=\"https://pics.dmm.co.jp/mono/actjpgs/medium/nakano_kyouko.jpg\" width=\"100\"/><br/>中野恭子<br/><span>なかのきょうこ</span><span>出演作品：13</span></a></li>\n",
              "<li>\n",
              "<a href=\"https://www.dmm.co.jp/digital/videoa/-/list/=/article=actress/id=1001860/\"><img alt=\"中野さやか\" height=\"100\" src=\"https://pics.dmm.co.jp/mono/actjpgs/medium/nakano_sayaka.jpg\" width=\"100\"/><br/>中野さやか<br/><span>なかのさやか</span><span>出演作品：5</span></a></li>\n",
              "<li>\n",
              "<a href=\"https://www.dmm.co.jp/digital/videoa/-/list/=/article=actress/id=2267/\"><img alt=\"中野千夏\" height=\"100\" src=\"https://pics.dmm.co.jp/mono/actjpgs/medium/nakano_tinatu.jpg\" width=\"100\"/><br/>中野千夏<br/><span>なかのちなつ</span><span>出演作品：200</span></a></li>\n",
              "<li>\n",
              "<a href=\"https://www.dmm.co.jp/digital/videoa/-/list/=/article=actress/id=1053519/\"><img alt=\"中野七緒\" height=\"100\" src=\"https://pics.dmm.co.jp/mono/actjpgs/medium/nakano_nao.jpg\" width=\"100\"/><br/>中野七緒<br/><span>なかのなお</span><span>出演作品：119</span></a></li>\n",
              "<li>\n",
              "<a href=\"https://www.dmm.co.jp/digital/videoa/-/list/=/article=actress/id=1007084/\"><img alt=\"仲野希\" height=\"100\" src=\"https://pics.dmm.co.jp/mono/actjpgs/medium/nakano_nozomi.jpg\" width=\"100\"/><br/>仲野希<br/><span>なかののぞみ</span><span>出演作品：20</span></a></li>\n",
              "<li>\n",
              "<a href=\"https://www.dmm.co.jp/digital/videoa/-/list/=/article=actress/id=1000689/\"><img alt=\"中野まりえ\" height=\"100\" src=\"https://pics.dmm.co.jp/mono/actjpgs/medium/nakano_marie.jpg\" width=\"100\"/><br/>中野まりえ<br/><span>なかのまりえ</span><span>出演作品：22</span></a></li>\n",
              "<li>\n",
              "<a href=\"https://www.dmm.co.jp/digital/videoa/-/list/=/article=actress/id=12049/\"><img alt=\"中野美奈\" height=\"100\" src=\"https://pics.dmm.co.jp/mono/actjpgs/medium/nakano_mina.jpg\" width=\"100\"/><br/>中野美奈<br/><span>なかのみな</span><span>出演作品：64</span></a></li>\n",
              "<li>\n",
              "<a href=\"https://www.dmm.co.jp/digital/videoa/-/list/=/article=actress/id=7318/\"><img alt=\"中原愛梨\" height=\"100\" src=\"https://pics.dmm.co.jp/mono/actjpgs/medium/nakahara_airi.jpg\" width=\"100\"/><br/>中原愛梨<br/><span>なかはらあいり</span><span>出演作品：6</span></a></li>\n",
              "<li>\n",
              "<a href=\"https://www.dmm.co.jp/digital/videoa/-/list/=/article=actress/id=2209/\"><img alt=\"中原絵梨子\" height=\"100\" src=\"https://pics.dmm.co.jp/mono/actjpgs/medium/nakahara_eriko.jpg\" width=\"100\"/><br/>中原絵梨子<br/><span>なかはらえりこ</span><span>出演作品：2</span></a></li>\n",
              "<li>\n",
              "<a href=\"https://www.dmm.co.jp/digital/videoa/-/list/=/article=actress/id=2210/\"><img alt=\"中原絵梨奈\" height=\"100\" src=\"https://pics.dmm.co.jp/mono/actjpgs/medium/nakahara_erina.jpg\" width=\"100\"/><br/>中原絵梨奈<br/><span>なかはらえりな</span><span>出演作品：1</span></a></li>\n",
              "<li>\n",
              "<a href=\"https://www.dmm.co.jp/digital/videoa/-/list/=/article=actress/id=4028/\"><img alt=\"中原美佑\" height=\"100\" src=\"https://pics.dmm.co.jp/mono/actjpgs/medium/nakahara_miyu.jpg\" width=\"100\"/><br/>中原美佑<br/><span>なかはらみゆ</span><span>出演作品：6</span></a></li>\n",
              "</ul>"
            ]
          },
          "metadata": {},
          "execution_count": 20
        }
      ]
    },
    {
      "cell_type": "code",
      "source": [
        "for r in tmp:\n",
        "  print(r)"
      ],
      "metadata": {
        "id": "w8_GCkheiA-u"
      },
      "execution_count": null,
      "outputs": []
    },
    {
      "cell_type": "code",
      "source": [
        "for r in tmp.find('span').next_sibling():\n",
        "  print(r)"
      ],
      "metadata": {
        "id": "OvKTNtNwi2dH"
      },
      "execution_count": null,
      "outputs": []
    },
    {
      "cell_type": "code",
      "source": [
        "int(tmp.find_all('span')[1].text.split('：')[1])"
      ],
      "metadata": {
        "colab": {
          "base_uri": "https://localhost:8080/"
        },
        "id": "oT-5wgyUSVaC",
        "outputId": "6e68547d-9d3c-4e37-aff5-23b11da20905"
      },
      "execution_count": null,
      "outputs": [
        {
          "output_type": "execute_result",
          "data": {
            "text/plain": [
              "1"
            ]
          },
          "metadata": {},
          "execution_count": 39
        }
      ]
    },
    {
      "cell_type": "markdown",
      "source": [
        "  print(img.span.text)    #女優名（ふりがな） \n",
        "\n",
        "  print(img.img['alt'])   #女優名 \n",
        "\n",
        "  print(img.find_all('span')[1].text)  #出演作品：１\n",
        "  \n",
        "  print(img.img['src'])  #女優の画像"
      ],
      "metadata": {
        "id": "uxLf6CCNID-h"
      }
    },
    {
      "cell_type": "code",
      "source": [
        "for img in tmp:\n",
        "  print(img.span)\n",
        "  print(img.img['alt'])\n",
        "  print(img.find_all('span')[1])\n",
        "  print(img.img['src'])\n",
        "  print(img.a['href'])\n",
        "  print('\\n')\n",
        "  \n"
      ],
      "metadata": {
        "id": "hdkqfG-xPrt2",
        "colab": {
          "base_uri": "https://localhost:8080/",
          "height": 261
        },
        "outputId": "6781ce21-a84e-476d-a5fd-a122267c0a0a"
      },
      "execution_count": null,
      "outputs": [
        {
          "output_type": "stream",
          "name": "stdout",
          "text": [
            "None\n"
          ]
        },
        {
          "output_type": "error",
          "ename": "TypeError",
          "evalue": "ignored",
          "traceback": [
            "\u001b[0;31m---------------------------------------------------------------------------\u001b[0m",
            "\u001b[0;31mTypeError\u001b[0m                                 Traceback (most recent call last)",
            "\u001b[0;32m<ipython-input-32-a7984ae3c16a>\u001b[0m in \u001b[0;36m<module>\u001b[0;34m\u001b[0m\n\u001b[1;32m      1\u001b[0m \u001b[0;32mfor\u001b[0m \u001b[0mimg\u001b[0m \u001b[0;32min\u001b[0m \u001b[0mtmp\u001b[0m\u001b[0;34m:\u001b[0m\u001b[0;34m\u001b[0m\u001b[0;34m\u001b[0m\u001b[0m\n\u001b[1;32m      2\u001b[0m   \u001b[0mprint\u001b[0m\u001b[0;34m(\u001b[0m\u001b[0mimg\u001b[0m\u001b[0;34m.\u001b[0m\u001b[0mspan\u001b[0m\u001b[0;34m)\u001b[0m\u001b[0;34m\u001b[0m\u001b[0;34m\u001b[0m\u001b[0m\n\u001b[0;32m----> 3\u001b[0;31m   \u001b[0mprint\u001b[0m\u001b[0;34m(\u001b[0m\u001b[0mimg\u001b[0m\u001b[0;34m.\u001b[0m\u001b[0mimg\u001b[0m\u001b[0;34m[\u001b[0m\u001b[0;34m'alt'\u001b[0m\u001b[0;34m]\u001b[0m\u001b[0;34m)\u001b[0m\u001b[0;34m\u001b[0m\u001b[0;34m\u001b[0m\u001b[0m\n\u001b[0m\u001b[1;32m      4\u001b[0m   \u001b[0mprint\u001b[0m\u001b[0;34m(\u001b[0m\u001b[0mimg\u001b[0m\u001b[0;34m.\u001b[0m\u001b[0mfind_all\u001b[0m\u001b[0;34m(\u001b[0m\u001b[0;34m'span'\u001b[0m\u001b[0;34m)\u001b[0m\u001b[0;34m[\u001b[0m\u001b[0;36m1\u001b[0m\u001b[0;34m]\u001b[0m\u001b[0;34m)\u001b[0m\u001b[0;34m\u001b[0m\u001b[0;34m\u001b[0m\u001b[0m\n\u001b[1;32m      5\u001b[0m   \u001b[0mprint\u001b[0m\u001b[0;34m(\u001b[0m\u001b[0mimg\u001b[0m\u001b[0;34m.\u001b[0m\u001b[0mimg\u001b[0m\u001b[0;34m[\u001b[0m\u001b[0;34m'src'\u001b[0m\u001b[0;34m]\u001b[0m\u001b[0;34m)\u001b[0m\u001b[0;34m\u001b[0m\u001b[0;34m\u001b[0m\u001b[0m\n",
            "\u001b[0;31mTypeError\u001b[0m: 'NoneType' object is not subscriptable"
          ]
        }
      ]
    },
    {
      "cell_type": "code",
      "source": [
        "#取得するもの：女優名（ふりがな）、女優名、出演作品：数、女優の画像、　女優出演作品一覧ページ\n",
        "for img in tmp.select('li'):\n",
        "  furigana = (img.span.text)\n",
        "  actor_name = (img.img['alt'])\n",
        "  syutuen_sakuhinsu = (img.find_all('span')[1].text)\n",
        "  actor_face_jpg = (img.img['src'])\n",
        "  actor_itilan_page = (img.a['href'])\n",
        "  print('\\n')"
      ],
      "metadata": {
        "colab": {
          "base_uri": "https://localhost:8080/"
        },
        "id": "hfOoR2MaK15m",
        "outputId": "38543bdd-e029-48ab-d98c-70b4737d1a33"
      },
      "execution_count": null,
      "outputs": [
        {
          "output_type": "stream",
          "name": "stdout",
          "text": [
            "\n",
            "\n",
            "\n",
            "\n",
            "\n",
            "\n",
            "\n",
            "\n",
            "\n",
            "\n",
            "\n",
            "\n",
            "\n",
            "\n",
            "\n",
            "\n",
            "\n",
            "\n",
            "\n",
            "\n",
            "\n",
            "\n",
            "\n",
            "\n",
            "\n",
            "\n",
            "\n",
            "\n",
            "\n",
            "\n",
            "\n",
            "\n",
            "\n",
            "\n",
            "\n",
            "\n",
            "\n",
            "\n",
            "\n",
            "\n",
            "\n",
            "\n",
            "\n",
            "\n",
            "\n",
            "\n",
            "\n",
            "\n",
            "\n",
            "\n",
            "\n",
            "\n",
            "\n",
            "\n",
            "\n",
            "\n",
            "\n",
            "\n",
            "\n",
            "\n",
            "\n",
            "\n",
            "\n",
            "\n",
            "\n",
            "\n",
            "\n",
            "\n",
            "\n",
            "\n",
            "\n",
            "\n",
            "\n",
            "\n",
            "\n",
            "\n",
            "\n",
            "\n",
            "\n",
            "\n",
            "\n",
            "\n",
            "\n",
            "\n",
            "\n",
            "\n",
            "\n",
            "\n",
            "\n",
            "\n",
            "\n",
            "\n",
            "\n",
            "\n",
            "\n",
            "\n",
            "\n",
            "\n",
            "\n",
            "\n",
            "\n",
            "\n",
            "\n",
            "\n",
            "\n",
            "\n",
            "\n",
            "\n",
            "\n",
            "\n",
            "\n",
            "\n",
            "\n",
            "\n",
            "\n",
            "\n",
            "\n",
            "\n",
            "\n",
            "\n",
            "\n",
            "\n",
            "\n",
            "\n",
            "\n",
            "\n",
            "\n",
            "\n",
            "\n",
            "\n",
            "\n",
            "\n",
            "\n",
            "\n",
            "\n",
            "\n",
            "\n",
            "\n",
            "\n",
            "\n",
            "\n",
            "\n",
            "\n",
            "\n",
            "\n",
            "\n",
            "\n",
            "\n",
            "\n",
            "\n",
            "\n",
            "\n",
            "\n",
            "\n",
            "\n",
            "\n",
            "\n",
            "\n",
            "\n",
            "\n",
            "\n",
            "\n",
            "\n",
            "\n",
            "\n",
            "\n",
            "\n",
            "\n",
            "\n",
            "\n",
            "\n",
            "\n",
            "\n",
            "\n",
            "\n",
            "\n",
            "\n",
            "\n",
            "\n",
            "\n",
            "\n",
            "\n",
            "\n",
            "\n",
            "\n",
            "\n",
            "\n",
            "\n",
            "\n",
            "\n",
            "\n",
            "\n",
            "\n",
            "\n",
            "\n",
            "\n",
            "\n",
            "\n",
            "\n",
            "\n"
          ]
        }
      ]
    },
    {
      "cell_type": "code",
      "source": [
        "int(soup2.find_all('li', class_ = 'terminal')[3].a['href'].split('/')[9].split('=')[1])"
      ],
      "metadata": {
        "colab": {
          "base_uri": "https://localhost:8080/"
        },
        "id": "KbHGDqKBR0ug",
        "outputId": "2fdfd277-35ea-4307-ceb7-25efb4cdd59d"
      },
      "execution_count": null,
      "outputs": [
        {
          "output_type": "execute_result",
          "data": {
            "text/plain": [
              "6"
            ]
          },
          "metadata": {},
          "execution_count": 12
        }
      ]
    },
    {
      "cell_type": "code",
      "source": [
        "max_page = int(soup2.find_all('li', class_ = 'terminal')[3].a['href'].split('/')[9].split('=')[1])"
      ],
      "metadata": {
        "id": "dgK9_KR9L_nY"
      },
      "execution_count": null,
      "outputs": []
    },
    {
      "cell_type": "code",
      "source": [
        "soup2"
      ],
      "metadata": {
        "id": "fSCODwQTW1yY"
      },
      "execution_count": null,
      "outputs": []
    },
    {
      "cell_type": "code",
      "source": [
        "def max_page_number(soup2):\n",
        "  return int(soup2.find_all('li', class_ = 'terminal')[3].a['href'].split('/')[9].split('=')[1])"
      ],
      "metadata": {
        "id": "4YjUlk4sYqx1"
      },
      "execution_count": null,
      "outputs": []
    },
    {
      "cell_type": "code",
      "source": [
        "print(max_page_number(soup2))"
      ],
      "metadata": {
        "colab": {
          "base_uri": "https://localhost:8080/"
        },
        "id": "En96kRV9ebuB",
        "outputId": "454fda64-2d3b-4de5-e6a6-99cbc9b80594"
      },
      "execution_count": null,
      "outputs": [
        {
          "output_type": "stream",
          "name": "stdout",
          "text": [
            "6\n"
          ]
        }
      ]
    },
    {
      "cell_type": "markdown",
      "source": [
        "sqlite3"
      ],
      "metadata": {
        "id": "FhBh8yI44ilT"
      }
    },
    {
      "cell_type": "code",
      "source": [
        "import sqlite3\n",
        "dbname = 'FANZA.db'\n",
        "conn = sqlite3.connect(dbname)\n",
        "conn.close()\n",
        "\n",
        "\n"
      ],
      "metadata": {
        "id": "Fg9cLHVU4o2C"
      },
      "execution_count": null,
      "outputs": []
    },
    {
      "cell_type": "code",
      "source": [],
      "metadata": {
        "id": "IRFVDJ0K4_Aj"
      },
      "execution_count": null,
      "outputs": []
    },
    {
      "cell_type": "markdown",
      "source": [
        "CREATE TABLE [IF NOT EXISTS] db_name.tbl_name\n",
        "    (col_name data_type, ...)\n",
        "\n",
        "#テーブル名FruitをKudamonoに変更\n",
        "sql = \"\"\"ALTER TABLE Fruit RENAME TO Kudamono\"\"\"\n",
        "\n",
        "db.execute(sql) #sql文を実行\n",
        "  "
      ],
      "metadata": {
        "id": "XOevgWYZSVw1"
      }
    },
    {
      "cell_type": "code",
      "source": [],
      "metadata": {
        "id": "WsxJag9gTKXR"
      },
      "execution_count": null,
      "outputs": []
    }
  ]
}