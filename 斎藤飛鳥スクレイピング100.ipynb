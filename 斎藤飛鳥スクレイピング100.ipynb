{
  "nbformat": 4,
  "nbformat_minor": 0,
  "metadata": {
    "colab": {
      "name": "斎藤飛鳥スクレイピング100.ipynb",
      "provenance": [],
      "authorship_tag": "ABX9TyOm/kfw40Ijk5/Pr/kxe7t6",
      "include_colab_link": true
    },
    "kernelspec": {
      "name": "python3",
      "display_name": "Python 3"
    }
  },
  "cells": [
    {
      "cell_type": "markdown",
      "metadata": {
        "id": "view-in-github",
        "colab_type": "text"
      },
      "source": [
        "<a href=\"https://colab.research.google.com/github/tomo302/disk110/blob/master/%E6%96%8E%E8%97%A4%E9%A3%9B%E9%B3%A5%E3%82%B9%E3%82%AF%E3%83%AC%E3%82%A4%E3%83%94%E3%83%B3%E3%82%B0100.ipynb\" target=\"_parent\"><img src=\"https://colab.research.google.com/assets/colab-badge.svg\" alt=\"Open In Colab\"/></a>"
      ]
    },
    {
      "cell_type": "code",
      "metadata": {
        "id": "5zwCFyIsLtEg",
        "colab_type": "code",
        "colab": {}
      },
      "source": [
        "import requests\n",
        "\n",
        "from bs4 import BeautifulSoup\n",
        "import os\n",
        "page_url = \"https://search.yahoo.co.jp/image/search?p=%E6%96%8E%E8%97%A4%E9%A3%9B%E9%B3%A5&rkf=1&oq=&ei=UTF-8&imc=&ctype=&dim=\"\n",
        "r = requests.get(page_url)\n",
        "soup = BeautifulSoup(r.text, features=\"html.parser\")\n",
        "\n",
        ")\n",
        "\n",
        "#imgタグ全体を取得して表示するコード\n",
        "soup.find.get(\"img\", attrs={\"alt\":\"「斎藤飛鳥」の画像検索結果\"})\n",
        "\n",
        "img_tags = soup.find_all(\"img\", attrs={\"alt\":\"「斎藤飛鳥」の画像検索結果\"})\n",
        "img_urls = []\n",
        "\n",
        "for img_tag in img_tags:\n",
        "  url = img_tag.get(\"src\")\n",
        "\n",
        "  img_urls.append(url)\n",
        "  print(url)\n",
        "\n",
        "\n",
        "def download_image(url, file_path):\n",
        "  r = requests.get(url, stream=True)\n",
        "  if r.status_code == 200:\n",
        "    with open(file_path, \"wb\") as f:\n",
        "      f.write(r.content)\n",
        "\n"
      ],
      "execution_count": 0,
      "outputs": []
    },
    {
      "cell_type": "code",
      "metadata": {
        "id": "ikTyXn_eajsH",
        "colab_type": "code",
        "outputId": "facd39d6-2f8e-4566-b89a-3edb706093e0",
        "colab": {
          "base_uri": "https://localhost:8080/",
          "height": 120
        }
      },
      "source": [
        "from google.colab import drive\n",
        "drive.mount('./gdrive')\n",
        "\n"
      ],
      "execution_count": 6,
      "outputs": [
        {
          "output_type": "stream",
          "text": [
            "Go to this URL in a browser: https://accounts.google.com/o/oauth2/auth?client_id=947318989803-6bn6qk8qdgf4n4g3pfee6491hc0brc4i.apps.googleusercontent.com&redirect_uri=urn%3aietf%3awg%3aoauth%3a2.0%3aoob&response_type=code&scope=email%20https%3a%2f%2fwww.googleapis.com%2fauth%2fdocs.test%20https%3a%2f%2fwww.googleapis.com%2fauth%2fdrive%20https%3a%2f%2fwww.googleapis.com%2fauth%2fdrive.photos.readonly%20https%3a%2f%2fwww.googleapis.com%2fauth%2fpeopleapi.readonly\n",
            "\n",
            "Enter your authorization code:\n",
            "··········\n",
            "Mounted at ./gdrive\n"
          ],
          "name": "stdout"
        }
      ]
    },
    {
      "cell_type": "code",
      "metadata": {
        "id": "uZOePFGSbJ7-",
        "colab_type": "code",
        "colab": {}
      },
      "source": [
        "def save_file(file_path):\n",
        "  upload_file = drive.CreateFile()\n",
        "  upload_file.SetContetFile(file_path)\n",
        "  upload_file.Upload()\n"
      ],
      "execution_count": 0,
      "outputs": []
    },
    {
      "cell_type": "code",
      "metadata": {
        "id": "FhMiSsLxbp_F",
        "colab_type": "code",
        "colab": {}
      },
      "source": [
        "\n",
        "google_drive_save_dir = \"./gdrive/My Drive/Colab Notebooks/スクレイピング＿斎藤飛鳥/images100\"\n",
        "for index, url in enumerate(img_urls):\n",
        "  file_name = \"{}.jpg\".format(index)\n",
        "\n",
        "  print(file_name)\n",
        "\n",
        "  image_path = os.path.join(google_drive_save_dir, file_name)\n",
        "  print(image_path)\n",
        "\n",
        "  download_image(url=url, file_path=image_path)"
      ],
      "execution_count": 0,
      "outputs": []
    },
    {
      "cell_type": "code",
      "metadata": {
        "id": "Zb0bIrRbiqSj",
        "colab_type": "code",
        "colab": {}
      },
      "source": [
        "def get_image_urls(page_url):\n",
        "  img_urls = []\n",
        "  \n",
        "  r = requests.get(page_url)\n",
        "\n",
        "  soup = BeautifulSoup(r.text, features=\"html.parser\")\n",
        "\n",
        "  img_tags = soup.find_all(\"img\", attrs={\"alt\":\"「斎藤飛鳥」の画像検索結果\"})\n",
        "\n",
        "  #imgタグの属性srcのurlを配列からループで取得\n",
        "  for img_tag in img_tags:\n",
        "    url = img_tag.get(\"src\")\n",
        "    #取得したurlを配列に追記していく\n",
        "    img_urls.append(url)\n",
        "    #print(url)\n",
        "  return img_urls\n",
        "\n"
      ],
      "execution_count": 0,
      "outputs": []
    },
    {
      "cell_type": "markdown",
      "metadata": {
        "id": "oeQV6YoutT8c",
        "colab_type": "text"
      },
      "source": [
        ""
      ]
    },
    {
      "cell_type": "code",
      "metadata": {
        "id": "0JnInjEtmzqe",
        "colab_type": "code",
        "colab": {}
      },
      "source": [
        "def loop_download_image(page_index, img_urls):\n",
        "  for image_index, url in enumerate(img_urls):\n",
        "    file_name = \"{}_{}.jpg\".format(page_index,image_index)\n",
        "\n",
        "\n",
        "\n",
        "    image_path = os.path.join(google_drive_save_dir, file_name)\n",
        "    print(image_path)\n",
        "\n",
        "    download_image(url=url, file_path=image_path) "
      ],
      "execution_count": 0,
      "outputs": []
    },
    {
      "cell_type": "code",
      "metadata": {
        "id": "2tKzCwqyn1Wq",
        "colab_type": "code",
        "colab": {
          "base_uri": "https://localhost:8080/",
          "height": 1000
        },
        "outputId": "66a431f5-35d2-4f80-9e8e-15fa261ccff8"
      },
      "source": [
        "for index, n_page in enumerate(range(1, 100, 20)):\n",
        "  print(n_page)\n",
        "  page_url = \"https://search.yahoo.co.jp/image/search?p=%E6%96%8E%E8%97%A4%E9%A3%9B%E9%B3%A5&rkf=1&oq=%EF%BC%92&spr=1&ei=UTF-8&b=1{}\".format(n_page)\n",
        "\n",
        "  img_urls = get_image_urls(page_url)\n",
        "  loop_download_image(page_index=index+1, img_urls=img_urls)\n"
      ],
      "execution_count": 25,
      "outputs": [
        {
          "output_type": "stream",
          "text": [
            "1\n",
            "./gdrive/My Drive/Colab Notebooks/スクレイピング＿斎藤飛鳥/images100/1_0.jpg\n",
            "./gdrive/My Drive/Colab Notebooks/スクレイピング＿斎藤飛鳥/images100/1_1.jpg\n",
            "./gdrive/My Drive/Colab Notebooks/スクレイピング＿斎藤飛鳥/images100/1_2.jpg\n",
            "./gdrive/My Drive/Colab Notebooks/スクレイピング＿斎藤飛鳥/images100/1_3.jpg\n",
            "./gdrive/My Drive/Colab Notebooks/スクレイピング＿斎藤飛鳥/images100/1_4.jpg\n",
            "./gdrive/My Drive/Colab Notebooks/スクレイピング＿斎藤飛鳥/images100/1_5.jpg\n",
            "./gdrive/My Drive/Colab Notebooks/スクレイピング＿斎藤飛鳥/images100/1_6.jpg\n",
            "./gdrive/My Drive/Colab Notebooks/スクレイピング＿斎藤飛鳥/images100/1_7.jpg\n",
            "./gdrive/My Drive/Colab Notebooks/スクレイピング＿斎藤飛鳥/images100/1_8.jpg\n",
            "./gdrive/My Drive/Colab Notebooks/スクレイピング＿斎藤飛鳥/images100/1_9.jpg\n",
            "./gdrive/My Drive/Colab Notebooks/スクレイピング＿斎藤飛鳥/images100/1_10.jpg\n",
            "./gdrive/My Drive/Colab Notebooks/スクレイピング＿斎藤飛鳥/images100/1_11.jpg\n",
            "./gdrive/My Drive/Colab Notebooks/スクレイピング＿斎藤飛鳥/images100/1_12.jpg\n",
            "./gdrive/My Drive/Colab Notebooks/スクレイピング＿斎藤飛鳥/images100/1_13.jpg\n",
            "./gdrive/My Drive/Colab Notebooks/スクレイピング＿斎藤飛鳥/images100/1_14.jpg\n",
            "./gdrive/My Drive/Colab Notebooks/スクレイピング＿斎藤飛鳥/images100/1_15.jpg\n",
            "./gdrive/My Drive/Colab Notebooks/スクレイピング＿斎藤飛鳥/images100/1_16.jpg\n",
            "./gdrive/My Drive/Colab Notebooks/スクレイピング＿斎藤飛鳥/images100/1_17.jpg\n",
            "./gdrive/My Drive/Colab Notebooks/スクレイピング＿斎藤飛鳥/images100/1_18.jpg\n",
            "./gdrive/My Drive/Colab Notebooks/スクレイピング＿斎藤飛鳥/images100/1_19.jpg\n",
            "21\n",
            "./gdrive/My Drive/Colab Notebooks/スクレイピング＿斎藤飛鳥/images100/2_0.jpg\n",
            "./gdrive/My Drive/Colab Notebooks/スクレイピング＿斎藤飛鳥/images100/2_1.jpg\n",
            "./gdrive/My Drive/Colab Notebooks/スクレイピング＿斎藤飛鳥/images100/2_2.jpg\n",
            "./gdrive/My Drive/Colab Notebooks/スクレイピング＿斎藤飛鳥/images100/2_3.jpg\n",
            "./gdrive/My Drive/Colab Notebooks/スクレイピング＿斎藤飛鳥/images100/2_4.jpg\n",
            "./gdrive/My Drive/Colab Notebooks/スクレイピング＿斎藤飛鳥/images100/2_5.jpg\n",
            "./gdrive/My Drive/Colab Notebooks/スクレイピング＿斎藤飛鳥/images100/2_6.jpg\n",
            "./gdrive/My Drive/Colab Notebooks/スクレイピング＿斎藤飛鳥/images100/2_7.jpg\n",
            "./gdrive/My Drive/Colab Notebooks/スクレイピング＿斎藤飛鳥/images100/2_8.jpg\n",
            "./gdrive/My Drive/Colab Notebooks/スクレイピング＿斎藤飛鳥/images100/2_9.jpg\n",
            "./gdrive/My Drive/Colab Notebooks/スクレイピング＿斎藤飛鳥/images100/2_10.jpg\n",
            "./gdrive/My Drive/Colab Notebooks/スクレイピング＿斎藤飛鳥/images100/2_11.jpg\n",
            "./gdrive/My Drive/Colab Notebooks/スクレイピング＿斎藤飛鳥/images100/2_12.jpg\n",
            "./gdrive/My Drive/Colab Notebooks/スクレイピング＿斎藤飛鳥/images100/2_13.jpg\n",
            "./gdrive/My Drive/Colab Notebooks/スクレイピング＿斎藤飛鳥/images100/2_14.jpg\n",
            "./gdrive/My Drive/Colab Notebooks/スクレイピング＿斎藤飛鳥/images100/2_15.jpg\n",
            "./gdrive/My Drive/Colab Notebooks/スクレイピング＿斎藤飛鳥/images100/2_16.jpg\n",
            "./gdrive/My Drive/Colab Notebooks/スクレイピング＿斎藤飛鳥/images100/2_17.jpg\n",
            "./gdrive/My Drive/Colab Notebooks/スクレイピング＿斎藤飛鳥/images100/2_18.jpg\n",
            "./gdrive/My Drive/Colab Notebooks/スクレイピング＿斎藤飛鳥/images100/2_19.jpg\n",
            "41\n",
            "./gdrive/My Drive/Colab Notebooks/スクレイピング＿斎藤飛鳥/images100/3_0.jpg\n",
            "./gdrive/My Drive/Colab Notebooks/スクレイピング＿斎藤飛鳥/images100/3_1.jpg\n",
            "./gdrive/My Drive/Colab Notebooks/スクレイピング＿斎藤飛鳥/images100/3_2.jpg\n",
            "./gdrive/My Drive/Colab Notebooks/スクレイピング＿斎藤飛鳥/images100/3_3.jpg\n",
            "./gdrive/My Drive/Colab Notebooks/スクレイピング＿斎藤飛鳥/images100/3_4.jpg\n",
            "./gdrive/My Drive/Colab Notebooks/スクレイピング＿斎藤飛鳥/images100/3_5.jpg\n",
            "./gdrive/My Drive/Colab Notebooks/スクレイピング＿斎藤飛鳥/images100/3_6.jpg\n",
            "./gdrive/My Drive/Colab Notebooks/スクレイピング＿斎藤飛鳥/images100/3_7.jpg\n",
            "./gdrive/My Drive/Colab Notebooks/スクレイピング＿斎藤飛鳥/images100/3_8.jpg\n",
            "./gdrive/My Drive/Colab Notebooks/スクレイピング＿斎藤飛鳥/images100/3_9.jpg\n",
            "./gdrive/My Drive/Colab Notebooks/スクレイピング＿斎藤飛鳥/images100/3_10.jpg\n",
            "./gdrive/My Drive/Colab Notebooks/スクレイピング＿斎藤飛鳥/images100/3_11.jpg\n",
            "./gdrive/My Drive/Colab Notebooks/スクレイピング＿斎藤飛鳥/images100/3_12.jpg\n",
            "./gdrive/My Drive/Colab Notebooks/スクレイピング＿斎藤飛鳥/images100/3_13.jpg\n",
            "./gdrive/My Drive/Colab Notebooks/スクレイピング＿斎藤飛鳥/images100/3_14.jpg\n",
            "./gdrive/My Drive/Colab Notebooks/スクレイピング＿斎藤飛鳥/images100/3_15.jpg\n",
            "./gdrive/My Drive/Colab Notebooks/スクレイピング＿斎藤飛鳥/images100/3_16.jpg\n",
            "./gdrive/My Drive/Colab Notebooks/スクレイピング＿斎藤飛鳥/images100/3_17.jpg\n",
            "./gdrive/My Drive/Colab Notebooks/スクレイピング＿斎藤飛鳥/images100/3_18.jpg\n",
            "./gdrive/My Drive/Colab Notebooks/スクレイピング＿斎藤飛鳥/images100/3_19.jpg\n",
            "61\n",
            "./gdrive/My Drive/Colab Notebooks/スクレイピング＿斎藤飛鳥/images100/4_0.jpg\n",
            "./gdrive/My Drive/Colab Notebooks/スクレイピング＿斎藤飛鳥/images100/4_1.jpg\n",
            "./gdrive/My Drive/Colab Notebooks/スクレイピング＿斎藤飛鳥/images100/4_2.jpg\n",
            "./gdrive/My Drive/Colab Notebooks/スクレイピング＿斎藤飛鳥/images100/4_3.jpg\n",
            "./gdrive/My Drive/Colab Notebooks/スクレイピング＿斎藤飛鳥/images100/4_4.jpg\n",
            "./gdrive/My Drive/Colab Notebooks/スクレイピング＿斎藤飛鳥/images100/4_5.jpg\n",
            "./gdrive/My Drive/Colab Notebooks/スクレイピング＿斎藤飛鳥/images100/4_6.jpg\n",
            "./gdrive/My Drive/Colab Notebooks/スクレイピング＿斎藤飛鳥/images100/4_7.jpg\n",
            "./gdrive/My Drive/Colab Notebooks/スクレイピング＿斎藤飛鳥/images100/4_8.jpg\n",
            "./gdrive/My Drive/Colab Notebooks/スクレイピング＿斎藤飛鳥/images100/4_9.jpg\n",
            "./gdrive/My Drive/Colab Notebooks/スクレイピング＿斎藤飛鳥/images100/4_10.jpg\n",
            "./gdrive/My Drive/Colab Notebooks/スクレイピング＿斎藤飛鳥/images100/4_11.jpg\n",
            "./gdrive/My Drive/Colab Notebooks/スクレイピング＿斎藤飛鳥/images100/4_12.jpg\n",
            "./gdrive/My Drive/Colab Notebooks/スクレイピング＿斎藤飛鳥/images100/4_13.jpg\n",
            "./gdrive/My Drive/Colab Notebooks/スクレイピング＿斎藤飛鳥/images100/4_14.jpg\n",
            "./gdrive/My Drive/Colab Notebooks/スクレイピング＿斎藤飛鳥/images100/4_15.jpg\n",
            "./gdrive/My Drive/Colab Notebooks/スクレイピング＿斎藤飛鳥/images100/4_16.jpg\n",
            "./gdrive/My Drive/Colab Notebooks/スクレイピング＿斎藤飛鳥/images100/4_17.jpg\n",
            "./gdrive/My Drive/Colab Notebooks/スクレイピング＿斎藤飛鳥/images100/4_18.jpg\n",
            "./gdrive/My Drive/Colab Notebooks/スクレイピング＿斎藤飛鳥/images100/4_19.jpg\n",
            "81\n",
            "./gdrive/My Drive/Colab Notebooks/スクレイピング＿斎藤飛鳥/images100/5_0.jpg\n",
            "./gdrive/My Drive/Colab Notebooks/スクレイピング＿斎藤飛鳥/images100/5_1.jpg\n",
            "./gdrive/My Drive/Colab Notebooks/スクレイピング＿斎藤飛鳥/images100/5_2.jpg\n",
            "./gdrive/My Drive/Colab Notebooks/スクレイピング＿斎藤飛鳥/images100/5_3.jpg\n",
            "./gdrive/My Drive/Colab Notebooks/スクレイピング＿斎藤飛鳥/images100/5_4.jpg\n",
            "./gdrive/My Drive/Colab Notebooks/スクレイピング＿斎藤飛鳥/images100/5_5.jpg\n",
            "./gdrive/My Drive/Colab Notebooks/スクレイピング＿斎藤飛鳥/images100/5_6.jpg\n",
            "./gdrive/My Drive/Colab Notebooks/スクレイピング＿斎藤飛鳥/images100/5_7.jpg\n",
            "./gdrive/My Drive/Colab Notebooks/スクレイピング＿斎藤飛鳥/images100/5_8.jpg\n",
            "./gdrive/My Drive/Colab Notebooks/スクレイピング＿斎藤飛鳥/images100/5_9.jpg\n",
            "./gdrive/My Drive/Colab Notebooks/スクレイピング＿斎藤飛鳥/images100/5_10.jpg\n",
            "./gdrive/My Drive/Colab Notebooks/スクレイピング＿斎藤飛鳥/images100/5_11.jpg\n",
            "./gdrive/My Drive/Colab Notebooks/スクレイピング＿斎藤飛鳥/images100/5_12.jpg\n",
            "./gdrive/My Drive/Colab Notebooks/スクレイピング＿斎藤飛鳥/images100/5_13.jpg\n",
            "./gdrive/My Drive/Colab Notebooks/スクレイピング＿斎藤飛鳥/images100/5_14.jpg\n",
            "./gdrive/My Drive/Colab Notebooks/スクレイピング＿斎藤飛鳥/images100/5_15.jpg\n",
            "./gdrive/My Drive/Colab Notebooks/スクレイピング＿斎藤飛鳥/images100/5_16.jpg\n",
            "./gdrive/My Drive/Colab Notebooks/スクレイピング＿斎藤飛鳥/images100/5_17.jpg\n",
            "./gdrive/My Drive/Colab Notebooks/スクレイピング＿斎藤飛鳥/images100/5_18.jpg\n",
            "./gdrive/My Drive/Colab Notebooks/スクレイピング＿斎藤飛鳥/images100/5_19.jpg\n"
          ],
          "name": "stdout"
        }
      ]
    },
    {
      "cell_type": "markdown",
      "metadata": {
        "id": "wXMIeF5Qk_fi",
        "colab_type": "text"
      },
      "source": [
        ""
      ]
    }
  ]
}