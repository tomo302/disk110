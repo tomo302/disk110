{
  "nbformat": 4,
  "nbformat_minor": 0,
  "metadata": {
    "colab": {
      "name": "fanza_genre_インストラクター.ipynb",
      "provenance": [],
      "mount_file_id": "1_2py9kKWAqph4I-ierMSnQggOANucYQh",
      "authorship_tag": "ABX9TyMoAyJbde+dA6jpf6y8BRZa",
      "include_colab_link": true
    },
    "kernelspec": {
      "name": "python3",
      "display_name": "Python 3"
    },
    "language_info": {
      "name": "python"
    }
  },
  "cells": [
    {
      "cell_type": "markdown",
      "metadata": {
        "id": "view-in-github",
        "colab_type": "text"
      },
      "source": [
        "<a href=\"https://colab.research.google.com/github/tomo302/disk110/blob/master/fanza_genre_%E3%82%A4%E3%83%B3%E3%82%B9%E3%83%88%E3%83%A9%E3%82%AF%E3%82%BF%E3%83%BC.ipynb\" target=\"_parent\"><img src=\"https://colab.research.google.com/assets/colab-badge.svg\" alt=\"Open In Colab\"/></a>"
      ]
    },
    {
      "cell_type": "code",
      "execution_count": null,
      "metadata": {
        "id": "MHjI2d6HXCE0"
      },
      "outputs": [],
      "source": [
        "import requests"
      ]
    },
    {
      "cell_type": "code",
      "source": [
        "from bs4 import BeautifulSoup"
      ],
      "metadata": {
        "id": "RSPVZzMNXgOr"
      },
      "execution_count": null,
      "outputs": []
    },
    {
      "cell_type": "code",
      "source": [
        ""
      ],
      "metadata": {
        "id": "iI3xEWadXjnI"
      },
      "execution_count": null,
      "outputs": []
    },
    {
      "cell_type": "code",
      "source": [
        ""
      ],
      "metadata": {
        "id": "NFUvxE-zXmqA"
      },
      "execution_count": null,
      "outputs": []
    },
    {
      "cell_type": "code",
      "source": [
        "url = \"https://www.dmm.co.jp/digital/videoa/-/list/=/article=keyword/id=1001/\""
      ],
      "metadata": {
        "id": "ubGVMeJbXm3E"
      },
      "execution_count": null,
      "outputs": []
    },
    {
      "cell_type": "code",
      "source": [
        "res = requests.get(url)"
      ],
      "metadata": {
        "id": "ZjfSfv7pXtg0"
      },
      "execution_count": null,
      "outputs": []
    },
    {
      "cell_type": "code",
      "source": [
        "soup = BeautifulSoup(res.text, 'html.parser')"
      ],
      "metadata": {
        "id": "HNPaY_8hXxCt"
      },
      "execution_count": null,
      "outputs": []
    },
    {
      "cell_type": "code",
      "source": [
        "soup"
      ],
      "metadata": {
        "id": "EO_pEHm5X3db"
      },
      "execution_count": null,
      "outputs": []
    },
    {
      "cell_type": "code",
      "source": [
        "res2 = requests.get(soup.find('a', class_ =\"ageCheck__link ageCheck__link--r18\")['href'])"
      ],
      "metadata": {
        "id": "Z4RukYlCX4wV"
      },
      "execution_count": null,
      "outputs": []
    },
    {
      "cell_type": "code",
      "source": [
        "soup2 = BeautifulSoup(res2.text, 'html.parser')"
      ],
      "metadata": {
        "id": "LxMROzoUYH8W"
      },
      "execution_count": null,
      "outputs": []
    },
    {
      "cell_type": "code",
      "source": [
        "soup2"
      ],
      "metadata": {
        "id": "-NmaAcIEYTuE"
      },
      "execution_count": null,
      "outputs": []
    },
    {
      "cell_type": "code",
      "source": [
        "titlesu_text = soup2.find('div', class_ = \"list-boxcaptside list-boxpagenation\").p.text.split('タ')[0]\n",
        "if len(titlesu_text) > 3:\n",
        "  titlesu_text = int(titlesu_text.replace(',', ''))\n",
        "else:\n",
        "  titlesu_text = int(titlesu_text)"
      ],
      "metadata": {
        "id": "JFfDdFeeeSe4"
      },
      "execution_count": null,
      "outputs": []
    },
    {
      "cell_type": "code",
      "source": [
        "titlesu_text"
      ],
      "metadata": {
        "colab": {
          "base_uri": "https://localhost:8080/"
        },
        "id": "CFaFkw-Ni0Kd",
        "outputId": "388f4e70-5bc9-4e02-e5c3-005bdbc4969a"
      },
      "execution_count": null,
      "outputs": [
        {
          "output_type": "execute_result",
          "data": {
            "text/plain": [
              "454"
            ]
          },
          "metadata": {},
          "execution_count": 112
        }
      ]
    },
    {
      "cell_type": "markdown",
      "source": [
        "タイトル数取得\n",
        "soup2.find('div', class_ = \"list-boxcaptside list-boxpagenation\").p.text.split('タ')[0]"
      ],
      "metadata": {
        "id": "3sh-QHdkcC0s"
      }
    },
    {
      "cell_type": "code",
      "source": [
        "soup2.title.text.split('-')[0].split()[0] #末端の空白削除split(),これでリスト型になってしますので[0]で値を取得。"
      ],
      "metadata": {
        "colab": {
          "base_uri": "https://localhost:8080/",
          "height": 35
        },
        "id": "8G6n_eCecKk5",
        "outputId": "658f290f-4b24-4d7d-e300-93d9ca25f3b7"
      },
      "execution_count": null,
      "outputs": [
        {
          "output_type": "execute_result",
          "data": {
            "text/plain": [
              "'OL'"
            ],
            "application/vnd.google.colaboratory.intrinsic+json": {
              "type": "string"
            }
          },
          "metadata": {},
          "execution_count": 134
        }
      ]
    },
    {
      "cell_type": "code",
      "source": [
        "#ジャンルページのタイトル数取得　まだタイトル数を利用していない\n",
        "def get_title_sou():\n",
        "\n",
        "  titlesu_text = soup2.find('div', class_ = \"list-boxcaptside list-boxpagenation\").p.text.split('タ')[0]\n",
        "  if len(titlesu_text) > 3:\n",
        "    titlesu_text = int(titlesu_text.replace(',', ''))\n",
        "  else:\n",
        "    titlesu_text = int(titlesu_text)\n",
        "  return titlesu_text"
      ],
      "metadata": {
        "id": "7v-roRokYzKM"
      },
      "execution_count": null,
      "outputs": []
    },
    {
      "cell_type": "code",
      "source": [
        "get_title_sou()"
      ],
      "metadata": {
        "colab": {
          "base_uri": "https://localhost:8080/"
        },
        "id": "nSCIiIAHgzMt",
        "outputId": "9612d713-22bd-48ee-9736-6155ad6052d7"
      },
      "execution_count": null,
      "outputs": [
        {
          "output_type": "execute_result",
          "data": {
            "text/plain": [
              "10383"
            ]
          },
          "metadata": {},
          "execution_count": 431
        }
      ]
    },
    {
      "cell_type": "code",
      "source": [
        "#作品ページURL,作品タイトル、作品ジャケット画像URL\n",
        "for _ in soup2.find_all('p', class_ = 'tmb'):\n",
        "  print(_.a['href'])\n",
        "  print(_.img['alt'])\n",
        "  print(_.img['src'])"
      ],
      "metadata": {
        "id": "QHdDrqiXo_La"
      },
      "execution_count": null,
      "outputs": []
    },
    {
      "cell_type": "code",
      "source": [
        "#女優名配列　完成\n",
        "actor_list = []\n",
        "for _ in soup2.find_all('p', class_ = 'sublink'):\n",
        "  print(_.span.text)\n",
        "  actor_name = (_.span.text)\n",
        "  if actor_name == \"----\":\n",
        "    print(\"複数\")\n",
        "  actor_list.append(actor_name)"
      ],
      "metadata": {
        "id": "aKrO6PFqpF60"
      },
      "execution_count": null,
      "outputs": []
    },
    {
      "cell_type": "code",
      "source": [
        "#作品URL、中途半端なので組み立て必要\n",
        "\"https://www.dmm.co.jp/\" + soup2.find('p', class_ = 'sublink').span.a['href']"
      ],
      "metadata": {
        "colab": {
          "base_uri": "https://localhost:8080/",
          "height": 35
        },
        "id": "DNFdS2OnrdUz",
        "outputId": "15642d99-89ae-4887-a1a8-2dd45b4f2cca"
      },
      "execution_count": null,
      "outputs": [
        {
          "output_type": "execute_result",
          "data": {
            "text/plain": [
              "'https://www.dmm.co.jp//digital/videoa/-/list/=/article=actress/id=1042129/'"
            ],
            "application/vnd.google.colaboratory.intrinsic+json": {
              "type": "string"
            }
          },
          "metadata": {},
          "execution_count": 433
        }
      ]
    },
    {
      "cell_type": "code",
      "source": [
        "len(actor_list)"
      ],
      "metadata": {
        "id": "zkNNo-uEsjSx",
        "colab": {
          "base_uri": "https://localhost:8080/"
        },
        "outputId": "5dd1cce8-ee6e-437c-f2e6-6ce92eab9069"
      },
      "execution_count": null,
      "outputs": [
        {
          "output_type": "execute_result",
          "data": {
            "text/plain": [
              "120"
            ]
          },
          "metadata": {},
          "execution_count": 572
        }
      ]
    },
    {
      "cell_type": "code",
      "source": [
        "import sqlite3"
      ],
      "metadata": {
        "id": "CyMrfRWO9O75"
      },
      "execution_count": null,
      "outputs": []
    },
    {
      "cell_type": "code",
      "source": [
        "conn = sqlite3.connect('fanza20220618.db')"
      ],
      "metadata": {
        "id": "P6Lqhue_DENn"
      },
      "execution_count": null,
      "outputs": []
    },
    {
      "cell_type": "code",
      "source": [
        "cur = conn.cursor()"
      ],
      "metadata": {
        "id": "JMreWyqaDO9k"
      },
      "execution_count": null,
      "outputs": []
    },
    {
      "cell_type": "code",
      "source": [
        "cur.execute(\"DROP TABLE IF EXISTS genru\")"
      ],
      "metadata": {
        "colab": {
          "base_uri": "https://localhost:8080/"
        },
        "id": "F0VdPK6vDTfB",
        "outputId": "0c4e4fd1-98a9-4dc8-f0e0-7c8672e79534"
      },
      "execution_count": null,
      "outputs": [
        {
          "output_type": "execute_result",
          "data": {
            "text/plain": [
              "<sqlite3.Cursor at 0x7fecfd0729d0>"
            ]
          },
          "metadata": {},
          "execution_count": 607
        }
      ]
    },
    {
      "cell_type": "markdown",
      "source": [
        "def insert_data():\n",
        "    con = sqlite3.connect('./sample.db')\n",
        "\n",
        "    cur = con.cursor()\n",
        "\n",
        "    sql = 'INSERT INTO TEST (id, name) values (?,?)'\n",
        "\n",
        "    data = [1, '猫']\n",
        "\n",
        "    cur.execute(sql, data)\n",
        "\n",
        "    con.commit()\n",
        "\n",
        "    con.close()\n",
        "\n",
        "  "
      ],
      "metadata": {
        "id": "P5WUur0KHeZs"
      }
    },
    {
      "cell_type": "code",
      "source": [
        "cur.execute(\"DROP TABLE IF EXISTS genru\") #genruテーブルが存在したらテーブル削除\n",
        "#genruテーブル作成\n",
        "cur.execute(\"\"\"CREATE TABLE genru(\n",
        "  id INTEGER PRIMARY KEY AUTOINCREMENT NOT NULL,\n",
        "  actorName text NOT NULL,\n",
        "  videoUrl text NOT NULL,\n",
        "  videoTitle text NOT NULL\n",
        ")\"\"\")\n",
        "print('genruテーブルを作成しました')\n",
        "\n",
        "\n",
        "\n",
        "\n"
      ],
      "metadata": {
        "colab": {
          "base_uri": "https://localhost:8080/"
        },
        "id": "p3ifvvQHDoHv",
        "outputId": "b771551d-148b-4248-f14b-b0fb77a5e1da"
      },
      "execution_count": null,
      "outputs": [
        {
          "output_type": "stream",
          "name": "stdout",
          "text": [
            "genruテーブルを作成しました\n"
          ]
        }
      ]
    },
    {
      "cell_type": "markdown",
      "source": [
        "for row in soup2.find_all(class_=['tmb', 'sublink']):\n",
        "  name = (row.select('span > a'))\n",
        "  title = row.find('span', class_ = 'img')\n",
        "  \n",
        "  print(row.find('img')['alt'])"
      ],
      "metadata": {
        "id": "_fspWC3qNJrY"
      }
    },
    {
      "cell_type": "code",
      "source": [
        "#１行づつ配列作成してsqlにぶん投げる\n",
        "i = 0\n",
        "outer = []\n",
        "for _ in soup2.find_all('p', class_ = 'tmb'):\n",
        "  \n",
        "  data = []\n",
        "\n",
        "  actorName = actor_list[i]     #作成済みの女優名の配列からインデックスで取得。ハマった箇所\n",
        "  videoUrl = (_.a['href'])      #作品のURL\n",
        "  videoTitle = (_.img['alt'])   #作品タイトル\n",
        "  data.append(actorName)   \n",
        "  data.append(videoUrl)\n",
        "  data.append(videoTitle)\n",
        "  sql = 'INSERT INTO genru(actorName, videoUrl, videoTitle) VALUES(?, ?, ?)'\n",
        "  cur.execute(sql, data)\n",
        "  i = i + 1\n"
      ],
      "metadata": {
        "id": "pRLuDdkNz4j1"
      },
      "execution_count": null,
      "outputs": []
    },
    {
      "cell_type": "markdown",
      "source": [
        "data.append(actorName)   \n",
        "  data.append(videoUrl)\n",
        "  data.append(videoTitle)\n",
        "  sql = 'INSERT INTO genru(actorName, videoUrl, videoTitle) VALUES(?, ?, ?)'\n",
        "  cur.execute(sql, data)\n",
        "  i = i + 1"
      ],
      "metadata": {
        "id": "qRvCP9HD5KoA"
      }
    },
    {
      "cell_type": "code",
      "source": [
        "conn.commit()\n"
      ],
      "metadata": {
        "id": "osvREsZEF3ug"
      },
      "execution_count": null,
      "outputs": []
    },
    {
      "cell_type": "code",
      "source": [
        "sql = 'SELECT * FROM genru;'"
      ],
      "metadata": {
        "id": "MnLMvXSwKm6r"
      },
      "execution_count": null,
      "outputs": []
    },
    {
      "cell_type": "code",
      "source": [
        "#SELCTをレコードの数だけforで回す\n",
        "for row in cur.execute(sql):\n",
        "  print(row)"
      ],
      "metadata": {
        "id": "xnhmpOIZKxY1"
      },
      "execution_count": null,
      "outputs": []
    },
    {
      "cell_type": "code",
      "source": [
        "conn.close()"
      ],
      "metadata": {
        "id": "IGgCF0whwo6P"
      },
      "execution_count": null,
      "outputs": []
    }
  ]
}